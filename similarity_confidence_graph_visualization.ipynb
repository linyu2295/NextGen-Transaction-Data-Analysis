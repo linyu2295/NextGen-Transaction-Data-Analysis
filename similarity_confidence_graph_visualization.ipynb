{
 "cells": [
  {
   "cell_type": "code",
   "execution_count": 25,
   "metadata": {},
   "outputs": [],
   "source": [
    "import numpy as np\n",
    "import pandas as pd\n",
    "import re\n",
    "import os\n",
    "\n",
    "from collections import Counter\n",
    "import csv\n",
    "import time\n",
    "import json\n",
    "\n",
    "import seaborn as sns\n",
    "\n",
    "from nltk.stem import WordNetLemmatizer\n",
    "from sklearn.metrics.pairwise import cosine_similarity\n",
    "\n",
    "from wordcloud import WordCloud\n",
    "import matplotlib.pyplot as plt\n",
    "import plotly.graph_objects as go\n",
    "\n",
    "import dash\n",
    "import dash_core_components as dcc\n",
    "import dash_html_components as html\n",
    "from dash.dependencies import Input, Output\n",
    "\n",
    "import chart_studio\n",
    "\n",
    "import chart_studio.plotly as py\n",
    "\n",
    "import chart_studio.tools as tls"
   ]
  },
  {
   "cell_type": "code",
   "execution_count": 2,
   "metadata": {},
   "outputs": [
    {
     "name": "stdout",
     "output_type": "stream",
     "text": [
      "(29, 29) (29, 29)\n"
     ]
    }
   ],
   "source": [
    "sim_mat_restaurant = pd.read_csv('sim_mat_restaurant_new.csv', index_col=0)\n",
    "conf_mat_restaurant = pd.read_csv('conf_mat_restaurant_new.csv', index_col=0)\n",
    "\n",
    "print(sim_mat_restaurant.shape, conf_mat_restaurant.shape)"
   ]
  },
  {
   "cell_type": "code",
   "execution_count": 53,
   "metadata": {},
   "outputs": [
    {
     "name": "stdout",
     "output_type": "stream",
     "text": [
      "(32, 32) (32, 32)\n"
     ]
    }
   ],
   "source": [
    "sim_mat_grocery = pd.read_csv('sim_mat_grocery_new.csv', index_col=0)\n",
    "conf_mat_grocery = pd.read_csv('conf_mat_grocery_new.csv', index_col=0)\n",
    "\n",
    "print(sim_mat_grocery.shape, conf_mat_grocery.shape)"
   ]
  },
  {
   "cell_type": "code",
   "execution_count": null,
   "metadata": {},
   "outputs": [],
   "source": []
  },
  {
   "cell_type": "markdown",
   "metadata": {},
   "source": [
    "## Plotly: Confidence"
   ]
  },
  {
   "cell_type": "code",
   "execution_count": 72,
   "metadata": {},
   "outputs": [
    {
     "name": "stdout",
     "output_type": "stream",
     "text": [
      "grocery\n"
     ]
    }
   ],
   "source": [
    "# category = 'restaurant'\n",
    "category = 'grocery'\n",
    "\n",
    "if category == 'restaurant':\n",
    "    print(category)\n",
    "    df = conf_mat_restaurant.copy()\n",
    "if category == 'grocery':\n",
    "    print(category)\n",
    "    df = conf_mat_grocery.copy()\n"
   ]
  },
  {
   "cell_type": "code",
   "execution_count": 73,
   "metadata": {
    "scrolled": false
   },
   "outputs": [
    {
     "data": {
      "application/vnd.plotly.v1+json": {
       "config": {
        "plotlyServerURL": "https://plotly.com"
       },
       "data": [
        {
         "connectgaps": false,
         "line": {
          "dash": "solid"
         },
         "mode": "lines+markers",
         "name": "Bakery",
         "type": "scatter",
         "x": [
          "Bakery",
          "Candied & Chocolate Covered Fruit",
          "Candy & Chocolate",
          "Coffee",
          "Condiments & Sauces",
          "Cooking & Baking Ingredients",
          "Dairy Products",
          "Dips & Spreads",
          "Food Gift Baskets",
          "Frozen Desserts & Novelties",
          "Fruit Flavored Drinks",
          "Fruits & Vegetables",
          "Grains, Rice & Cereal",
          "Hot Chocolate",
          "Juice",
          "Meat, Seafood & Eggs",
          "Milk",
          "Non-Dairy Milk",
          "Nuts & Seeds",
          "Pasta & Noodles",
          "Powdered Beverage Mixes",
          "Prepared Foods",
          "Prepared Meals",
          "Seasonings & Spices",
          "Snack Foods",
          "Soda",
          "Soups & Broths",
          "Sports & Energy Drinks",
          "Tea & Infusions",
          "Tofu, Soy & Vegetarian Products",
          "Vinegar Drinks",
          "Water"
         ],
         "y": [
          null,
          0.004422,
          0.39927199999999996,
          0.258941,
          0.552478,
          0.504877,
          0.631161,
          0.437118,
          0.0010400000000000001,
          0.27675900000000003,
          0.211731,
          0.665886,
          0.459618,
          0.013136000000000002,
          0.357784,
          0.6519699999999999,
          0.470933,
          0.083756,
          0.195864,
          0.357134,
          0.072181,
          0.643777,
          0.002731,
          0.309273,
          0.679932,
          0.360775,
          0.225257,
          0.150345,
          0.205879,
          0.026792000000000003,
          0.0015609999999999999,
          0.330212
         ]
        },
        {
         "connectgaps": false,
         "line": {
          "dash": "solid"
         },
         "mode": "lines+markers",
         "name": "Candied & Chocolate Covered Fruit",
         "type": "scatter",
         "x": [
          "Bakery",
          "Candied & Chocolate Covered Fruit",
          "Candy & Chocolate",
          "Coffee",
          "Condiments & Sauces",
          "Cooking & Baking Ingredients",
          "Dairy Products",
          "Dips & Spreads",
          "Food Gift Baskets",
          "Frozen Desserts & Novelties",
          "Fruit Flavored Drinks",
          "Fruits & Vegetables",
          "Grains, Rice & Cereal",
          "Hot Chocolate",
          "Juice",
          "Meat, Seafood & Eggs",
          "Milk",
          "Non-Dairy Milk",
          "Nuts & Seeds",
          "Pasta & Noodles",
          "Powdered Beverage Mixes",
          "Prepared Foods",
          "Prepared Meals",
          "Seasonings & Spices",
          "Snack Foods",
          "Soda",
          "Soups & Broths",
          "Sports & Energy Drinks",
          "Tea & Infusions",
          "Tofu, Soy & Vegetarian Products",
          "Vinegar Drinks",
          "Water"
         ],
         "y": [
          0.515152,
          null,
          0.409091,
          0.257576,
          0.378788,
          0.348485,
          0.48484799999999995,
          0.318182,
          0,
          0.363636,
          0.19697,
          0.515152,
          0.318182,
          0.06060599999999999,
          0.333333,
          0.409091,
          0.348485,
          0.12121199999999999,
          0.257576,
          0.257576,
          0.030302999999999997,
          0.560606,
          0.030302999999999997,
          0.212121,
          0.424242,
          0.24242399999999997,
          0.136364,
          0.075758,
          0.272727,
          0.015152,
          0,
          0.181818
         ]
        },
        {
         "connectgaps": false,
         "line": {
          "dash": "solid"
         },
         "mode": "lines+markers",
         "name": "Candy & Chocolate",
         "type": "scatter",
         "x": [
          "Bakery",
          "Candied & Chocolate Covered Fruit",
          "Candy & Chocolate",
          "Coffee",
          "Condiments & Sauces",
          "Cooking & Baking Ingredients",
          "Dairy Products",
          "Dips & Spreads",
          "Food Gift Baskets",
          "Frozen Desserts & Novelties",
          "Fruit Flavored Drinks",
          "Fruits & Vegetables",
          "Grains, Rice & Cereal",
          "Hot Chocolate",
          "Juice",
          "Meat, Seafood & Eggs",
          "Milk",
          "Non-Dairy Milk",
          "Nuts & Seeds",
          "Pasta & Noodles",
          "Powdered Beverage Mixes",
          "Prepared Foods",
          "Prepared Meals",
          "Seasonings & Spices",
          "Snack Foods",
          "Soda",
          "Soups & Broths",
          "Sports & Energy Drinks",
          "Tea & Infusions",
          "Tofu, Soy & Vegetarian Products",
          "Vinegar Drinks",
          "Water"
         ],
         "y": [
          0.632338,
          0.005561,
          null,
          0.268795,
          0.535942,
          0.5071060000000001,
          0.581256,
          0.438723,
          0.001648,
          0.30587,
          0.220185,
          0.605561,
          0.457467,
          0.017508000000000003,
          0.362719,
          0.579815,
          0.44778599999999996,
          0.08383099999999999,
          0.216272,
          0.354892,
          0.074562,
          0.5761069999999999,
          0.001236,
          0.30195700000000003,
          0.686509,
          0.377961,
          0.221009,
          0.157364,
          0.21009299999999997,
          0.030483999999999997,
          0.000618,
          0.33450100000000005
         ]
        },
        {
         "connectgaps": false,
         "line": {
          "dash": "solid"
         },
         "mode": "lines+markers",
         "name": "Coffee",
         "type": "scatter",
         "x": [
          "Bakery",
          "Candied & Chocolate Covered Fruit",
          "Candy & Chocolate",
          "Coffee",
          "Condiments & Sauces",
          "Cooking & Baking Ingredients",
          "Dairy Products",
          "Dips & Spreads",
          "Food Gift Baskets",
          "Frozen Desserts & Novelties",
          "Fruit Flavored Drinks",
          "Fruits & Vegetables",
          "Grains, Rice & Cereal",
          "Hot Chocolate",
          "Juice",
          "Meat, Seafood & Eggs",
          "Milk",
          "Non-Dairy Milk",
          "Nuts & Seeds",
          "Pasta & Noodles",
          "Powdered Beverage Mixes",
          "Prepared Foods",
          "Prepared Meals",
          "Seasonings & Spices",
          "Snack Foods",
          "Soda",
          "Soups & Broths",
          "Sports & Energy Drinks",
          "Tea & Infusions",
          "Tofu, Soy & Vegetarian Products",
          "Vinegar Drinks",
          "Water"
         ],
         "y": [
          0.5303680000000001,
          0.004529,
          0.347629,
          null,
          0.47442700000000004,
          0.44778900000000005,
          0.516249,
          0.37453400000000003,
          0.001598,
          0.233884,
          0.179275,
          0.533031,
          0.409696,
          0.015184,
          0.30740500000000004,
          0.51252,
          0.392914,
          0.08391,
          0.186201,
          0.304475,
          0.066063,
          0.500266,
          0.00293,
          0.26718200000000003,
          0.558071,
          0.303942,
          0.20032,
          0.122802,
          0.220298,
          0.026638,
          0.001066,
          0.29035700000000003
         ]
        },
        {
         "connectgaps": false,
         "line": {
          "dash": "solid"
         },
         "mode": "lines+markers",
         "name": "Condiments & Sauces",
         "type": "scatter",
         "x": [
          "Bakery",
          "Candied & Chocolate Covered Fruit",
          "Candy & Chocolate",
          "Coffee",
          "Condiments & Sauces",
          "Cooking & Baking Ingredients",
          "Dairy Products",
          "Dips & Spreads",
          "Food Gift Baskets",
          "Frozen Desserts & Novelties",
          "Fruit Flavored Drinks",
          "Fruits & Vegetables",
          "Grains, Rice & Cereal",
          "Hot Chocolate",
          "Juice",
          "Meat, Seafood & Eggs",
          "Milk",
          "Non-Dairy Milk",
          "Nuts & Seeds",
          "Pasta & Noodles",
          "Powdered Beverage Mixes",
          "Prepared Foods",
          "Prepared Meals",
          "Seasonings & Spices",
          "Snack Foods",
          "Soda",
          "Soups & Broths",
          "Sports & Energy Drinks",
          "Tea & Infusions",
          "Tofu, Soy & Vegetarian Products",
          "Vinegar Drinks",
          "Water"
         ],
         "y": [
          0.700643,
          0.004123,
          0.42916000000000004,
          0.293749,
          null,
          0.5883229999999999,
          0.694046,
          0.5010720000000001,
          0.00099,
          0.294244,
          0.23486700000000002,
          0.7456699999999999,
          0.5271319999999999,
          0.014513999999999999,
          0.40508,
          0.712519,
          0.515421,
          0.101105,
          0.230084,
          0.425367,
          0.08741499999999999,
          0.675573,
          0.002639,
          0.372093,
          0.7206,
          0.39815300000000003,
          0.271648,
          0.159657,
          0.22810500000000003,
          0.033152,
          0.001814,
          0.364671
         ]
        },
        {
         "connectgaps": false,
         "line": {
          "dash": "solid"
         },
         "mode": "lines+markers",
         "name": "Cooking & Baking Ingredients",
         "type": "scatter",
         "x": [
          "Bakery",
          "Candied & Chocolate Covered Fruit",
          "Candy & Chocolate",
          "Coffee",
          "Condiments & Sauces",
          "Cooking & Baking Ingredients",
          "Dairy Products",
          "Dips & Spreads",
          "Food Gift Baskets",
          "Frozen Desserts & Novelties",
          "Fruit Flavored Drinks",
          "Fruits & Vegetables",
          "Grains, Rice & Cereal",
          "Hot Chocolate",
          "Juice",
          "Meat, Seafood & Eggs",
          "Milk",
          "Non-Dairy Milk",
          "Nuts & Seeds",
          "Pasta & Noodles",
          "Powdered Beverage Mixes",
          "Prepared Foods",
          "Prepared Meals",
          "Seasonings & Spices",
          "Snack Foods",
          "Soda",
          "Soups & Broths",
          "Sports & Energy Drinks",
          "Tea & Infusions",
          "Tofu, Soy & Vegetarian Products",
          "Vinegar Drinks",
          "Water"
         ],
         "y": [
          0.69433,
          0.0041140000000000005,
          0.44035100000000005,
          0.300662,
          0.63799,
          null,
          0.687176,
          0.491504,
          0.0008939999999999999,
          0.292434,
          0.227508,
          0.7329640000000001,
          0.5313899999999999,
          0.013951,
          0.39814,
          0.683956,
          0.512788,
          0.102665,
          0.243606,
          0.417099,
          0.087462,
          0.632445,
          0.000537,
          0.39670900000000003,
          0.714005,
          0.38812399999999997,
          0.263459,
          0.15667999999999999,
          0.243606,
          0.032016,
          0.001967,
          0.355214
         ]
        },
        {
         "connectgaps": false,
         "line": {
          "dash": "solid"
         },
         "mode": "lines+markers",
         "name": "Dairy Products",
         "type": "scatter",
         "x": [
          "Bakery",
          "Candied & Chocolate Covered Fruit",
          "Candy & Chocolate",
          "Coffee",
          "Condiments & Sauces",
          "Cooking & Baking Ingredients",
          "Dairy Products",
          "Dips & Spreads",
          "Food Gift Baskets",
          "Frozen Desserts & Novelties",
          "Fruit Flavored Drinks",
          "Fruits & Vegetables",
          "Grains, Rice & Cereal",
          "Hot Chocolate",
          "Juice",
          "Meat, Seafood & Eggs",
          "Milk",
          "Non-Dairy Milk",
          "Nuts & Seeds",
          "Pasta & Noodles",
          "Powdered Beverage Mixes",
          "Prepared Foods",
          "Prepared Meals",
          "Seasonings & Spices",
          "Snack Foods",
          "Soda",
          "Soups & Broths",
          "Sports & Energy Drinks",
          "Tea & Infusions",
          "Tofu, Soy & Vegetarian Products",
          "Vinegar Drinks",
          "Water"
         ],
         "y": [
          0.745812,
          0.004918,
          0.433687,
          0.297833,
          0.646688,
          0.590441,
          null,
          0.5073,
          0.000768,
          0.30643899999999996,
          0.23743699999999998,
          0.780083,
          0.52359,
          0.014907,
          0.407715,
          0.75949,
          0.5489470000000001,
          0.100815,
          0.22222199999999998,
          0.415706,
          0.082219,
          0.702167,
          0.0018440000000000002,
          0.365145,
          0.7435069999999999,
          0.412325,
          0.258183,
          0.16535999999999998,
          0.234517,
          0.031966,
          0.0013830000000000001,
          0.372983
         ]
        },
        {
         "connectgaps": false,
         "line": {
          "dash": "solid"
         },
         "mode": "lines+markers",
         "name": "Dips & Spreads",
         "type": "scatter",
         "x": [
          "Bakery",
          "Candied & Chocolate Covered Fruit",
          "Candy & Chocolate",
          "Coffee",
          "Condiments & Sauces",
          "Cooking & Baking Ingredients",
          "Dairy Products",
          "Dips & Spreads",
          "Food Gift Baskets",
          "Frozen Desserts & Novelties",
          "Fruit Flavored Drinks",
          "Fruits & Vegetables",
          "Grains, Rice & Cereal",
          "Hot Chocolate",
          "Juice",
          "Meat, Seafood & Eggs",
          "Milk",
          "Non-Dairy Milk",
          "Nuts & Seeds",
          "Pasta & Noodles",
          "Powdered Beverage Mixes",
          "Prepared Foods",
          "Prepared Meals",
          "Seasonings & Spices",
          "Snack Foods",
          "Soda",
          "Soups & Broths",
          "Sports & Energy Drinks",
          "Tea & Infusions",
          "Tofu, Soy & Vegetarian Products",
          "Vinegar Drinks",
          "Water"
         ],
         "y": [
          0.764037,
          0.0047740000000000005,
          0.48420100000000005,
          0.31961799999999996,
          0.690612,
          0.624687,
          0.750398,
          null,
          0.002046,
          0.344169,
          0.26847,
          0.7815409999999999,
          0.575358,
          0.018413,
          0.44601,
          0.7569899999999999,
          0.573994,
          0.117754,
          0.251421,
          0.464196,
          0.091839,
          0.716299,
          0.001137,
          0.38645100000000004,
          0.7833600000000001,
          0.434644,
          0.295976,
          0.180496,
          0.247784,
          0.040464,
          0.001591,
          0.401455
         ]
        },
        {
         "connectgaps": false,
         "line": {
          "dash": "solid"
         },
         "mode": "lines+markers",
         "name": "Food Gift Baskets",
         "type": "scatter",
         "x": [
          "Bakery",
          "Candied & Chocolate Covered Fruit",
          "Candy & Chocolate",
          "Coffee",
          "Condiments & Sauces",
          "Cooking & Baking Ingredients",
          "Dairy Products",
          "Dips & Spreads",
          "Food Gift Baskets",
          "Frozen Desserts & Novelties",
          "Fruit Flavored Drinks",
          "Fruits & Vegetables",
          "Grains, Rice & Cereal",
          "Hot Chocolate",
          "Juice",
          "Meat, Seafood & Eggs",
          "Milk",
          "Non-Dairy Milk",
          "Nuts & Seeds",
          "Pasta & Noodles",
          "Powdered Beverage Mixes",
          "Prepared Foods",
          "Prepared Meals",
          "Seasonings & Spices",
          "Snack Foods",
          "Soda",
          "Soups & Broths",
          "Sports & Energy Drinks",
          "Tea & Infusions",
          "Tofu, Soy & Vegetarian Products",
          "Vinegar Drinks",
          "Water"
         ],
         "y": [
          0.186047,
          0,
          0.186047,
          0.139535,
          0.139535,
          0.116279,
          0.116279,
          0.209302,
          null,
          0.046512,
          0.046512,
          0.186047,
          0.186047,
          0,
          0.069767,
          0.186047,
          0.116279,
          0,
          0.116279,
          0.09302300000000001,
          0.046512,
          0.16279100000000002,
          0.023256,
          0.069767,
          0.16279100000000002,
          0,
          0.023256,
          0,
          0.069767,
          0,
          0,
          0.139535
         ]
        },
        {
         "connectgaps": false,
         "line": {
          "dash": "solid"
         },
         "mode": "lines+markers",
         "name": "Frozen Desserts & Novelties",
         "type": "scatter",
         "x": [
          "Bakery",
          "Candied & Chocolate Covered Fruit",
          "Candy & Chocolate",
          "Coffee",
          "Condiments & Sauces",
          "Cooking & Baking Ingredients",
          "Dairy Products",
          "Dips & Spreads",
          "Food Gift Baskets",
          "Frozen Desserts & Novelties",
          "Fruit Flavored Drinks",
          "Fruits & Vegetables",
          "Grains, Rice & Cereal",
          "Hot Chocolate",
          "Juice",
          "Meat, Seafood & Eggs",
          "Milk",
          "Non-Dairy Milk",
          "Nuts & Seeds",
          "Pasta & Noodles",
          "Powdered Beverage Mixes",
          "Prepared Foods",
          "Prepared Meals",
          "Seasonings & Spices",
          "Snack Foods",
          "Soda",
          "Soups & Broths",
          "Sports & Energy Drinks",
          "Tea & Infusions",
          "Tofu, Soy & Vegetarian Products",
          "Vinegar Drinks",
          "Water"
         ],
         "y": [
          0.778632,
          0.008782,
          0.543359,
          0.321259,
          0.652763,
          0.598244,
          0.729601,
          0.55397,
          0.000732,
          null,
          0.29930500000000004,
          0.7588729999999999,
          0.563483,
          0.027076,
          0.47969300000000004,
          0.75375,
          0.59678,
          0.10794000000000001,
          0.252104,
          0.44859099999999996,
          0.08708400000000001,
          0.758141,
          0.004391,
          0.373948,
          0.750091,
          0.465789,
          0.290157,
          0.169777,
          0.267472,
          0.043907999999999996,
          0.002195,
          0.410904
         ]
        },
        {
         "connectgaps": false,
         "line": {
          "dash": "solid"
         },
         "mode": "lines+markers",
         "name": "Fruit Flavored Drinks",
         "type": "scatter",
         "x": [
          "Bakery",
          "Candied & Chocolate Covered Fruit",
          "Candy & Chocolate",
          "Coffee",
          "Condiments & Sauces",
          "Cooking & Baking Ingredients",
          "Dairy Products",
          "Dips & Spreads",
          "Food Gift Baskets",
          "Frozen Desserts & Novelties",
          "Fruit Flavored Drinks",
          "Fruits & Vegetables",
          "Grains, Rice & Cereal",
          "Hot Chocolate",
          "Juice",
          "Meat, Seafood & Eggs",
          "Milk",
          "Non-Dairy Milk",
          "Nuts & Seeds",
          "Pasta & Noodles",
          "Powdered Beverage Mixes",
          "Prepared Foods",
          "Prepared Meals",
          "Seasonings & Spices",
          "Snack Foods",
          "Soda",
          "Soups & Broths",
          "Sports & Energy Drinks",
          "Tea & Infusions",
          "Tofu, Soy & Vegetarian Products",
          "Vinegar Drinks",
          "Water"
         ],
         "y": [
          0.70233,
          0.005608,
          0.46117299999999994,
          0.29033600000000004,
          0.614323,
          0.5487489999999999,
          0.666523,
          0.509491,
          0.000863,
          0.35289,
          null,
          0.698447,
          0.51855,
          0.016825,
          0.46807600000000005,
          0.702761,
          0.534944,
          0.103538,
          0.229077,
          0.420621,
          0.113891,
          0.676014,
          0.00043099999999999996,
          0.33908499999999997,
          0.718292,
          0.46246800000000005,
          0.251079,
          0.225194,
          0.252804,
          0.035375,
          0.002157,
          0.449957
         ]
        },
        {
         "connectgaps": false,
         "line": {
          "dash": "solid"
         },
         "mode": "lines+markers",
         "name": "Fruits & Vegetables",
         "type": "scatter",
         "x": [
          "Bakery",
          "Candied & Chocolate Covered Fruit",
          "Candy & Chocolate",
          "Coffee",
          "Condiments & Sauces",
          "Cooking & Baking Ingredients",
          "Dairy Products",
          "Dips & Spreads",
          "Food Gift Baskets",
          "Frozen Desserts & Novelties",
          "Fruit Flavored Drinks",
          "Fruits & Vegetables",
          "Grains, Rice & Cereal",
          "Hot Chocolate",
          "Juice",
          "Meat, Seafood & Eggs",
          "Milk",
          "Non-Dairy Milk",
          "Nuts & Seeds",
          "Pasta & Noodles",
          "Powdered Beverage Mixes",
          "Prepared Foods",
          "Prepared Meals",
          "Seasonings & Spices",
          "Snack Foods",
          "Soda",
          "Soups & Broths",
          "Sports & Energy Drinks",
          "Tea & Infusions",
          "Tofu, Soy & Vegetarian Products",
          "Vinegar Drinks",
          "Water"
         ],
         "y": [
          0.682394,
          0.0045320000000000004,
          0.391843,
          0.26669299999999996,
          0.6025590000000001,
          0.546182,
          0.676529,
          0.458217,
          0.001066,
          0.276423,
          0.21578000000000003,
          null,
          0.490071,
          0.012528000000000001,
          0.371718,
          0.6987869999999999,
          0.491537,
          0.092363,
          0.217246,
          0.37638299999999997,
          0.074637,
          0.6445420000000001,
          0.0012,
          0.34053,
          0.686792,
          0.367186,
          0.23897100000000002,
          0.146075,
          0.21418099999999998,
          0.030121,
          0.0017329999999999997,
          0.34053
         ]
        },
        {
         "connectgaps": false,
         "line": {
          "dash": "solid"
         },
         "mode": "lines+markers",
         "name": "Grains, Rice & Cereal",
         "type": "scatter",
         "x": [
          "Bakery",
          "Candied & Chocolate Covered Fruit",
          "Candy & Chocolate",
          "Coffee",
          "Condiments & Sauces",
          "Cooking & Baking Ingredients",
          "Dairy Products",
          "Dips & Spreads",
          "Food Gift Baskets",
          "Frozen Desserts & Novelties",
          "Fruit Flavored Drinks",
          "Fruits & Vegetables",
          "Grains, Rice & Cereal",
          "Hot Chocolate",
          "Juice",
          "Meat, Seafood & Eggs",
          "Milk",
          "Non-Dairy Milk",
          "Nuts & Seeds",
          "Pasta & Noodles",
          "Powdered Beverage Mixes",
          "Prepared Foods",
          "Prepared Meals",
          "Seasonings & Spices",
          "Snack Foods",
          "Soda",
          "Soups & Broths",
          "Sports & Energy Drinks",
          "Tea & Infusions",
          "Tofu, Soy & Vegetarian Products",
          "Vinegar Drinks",
          "Water"
         ],
         "y": [
          0.758206,
          0.0045049999999999995,
          0.47650699999999996,
          0.329972,
          0.6856899999999999,
          0.637417,
          0.730959,
          0.543017,
          0.001716,
          0.330401,
          0.257885,
          0.788887,
          null,
          0.017164,
          0.453122,
          0.741686,
          0.5885,
          0.114568,
          0.27011399999999997,
          0.468354,
          0.09225499999999999,
          0.6987770000000001,
          0.001287,
          0.403776,
          0.797254,
          0.41343100000000005,
          0.291139,
          0.171208,
          0.259386,
          0.038618,
          0.001287,
          0.395623
         ]
        },
        {
         "connectgaps": false,
         "line": {
          "dash": "solid"
         },
         "mode": "lines+markers",
         "name": "Hot Chocolate",
         "type": "scatter",
         "x": [
          "Bakery",
          "Candied & Chocolate Covered Fruit",
          "Candy & Chocolate",
          "Coffee",
          "Condiments & Sauces",
          "Cooking & Baking Ingredients",
          "Dairy Products",
          "Dips & Spreads",
          "Food Gift Baskets",
          "Frozen Desserts & Novelties",
          "Fruit Flavored Drinks",
          "Fruits & Vegetables",
          "Grains, Rice & Cereal",
          "Hot Chocolate",
          "Juice",
          "Meat, Seafood & Eggs",
          "Milk",
          "Non-Dairy Milk",
          "Nuts & Seeds",
          "Pasta & Noodles",
          "Powdered Beverage Mixes",
          "Prepared Foods",
          "Prepared Meals",
          "Seasonings & Spices",
          "Snack Foods",
          "Soda",
          "Soups & Broths",
          "Sports & Energy Drinks",
          "Tea & Infusions",
          "Tofu, Soy & Vegetarian Products",
          "Vinegar Drinks",
          "Water"
         ],
         "y": [
          0.5804600000000001,
          0.022989,
          0.48850600000000005,
          0.327586,
          0.5057470000000001,
          0.448276,
          0.557471,
          0.465517,
          0,
          0.42528699999999997,
          0.224138,
          0.54023,
          0.45976999999999996,
          null,
          0.42528699999999997,
          0.551724,
          0.5057470000000001,
          0.086207,
          0.20689699999999997,
          0.350575,
          0.063218,
          0.66092,
          0.011493999999999999,
          0.275862,
          0.551724,
          0.350575,
          0.212644,
          0.063218,
          0.270115,
          0.057471,
          0,
          0.241379
         ]
        },
        {
         "connectgaps": false,
         "line": {
          "dash": "solid"
         },
         "mode": "lines+markers",
         "name": "Juice",
         "type": "scatter",
         "x": [
          "Bakery",
          "Candied & Chocolate Covered Fruit",
          "Candy & Chocolate",
          "Coffee",
          "Condiments & Sauces",
          "Cooking & Baking Ingredients",
          "Dairy Products",
          "Dips & Spreads",
          "Food Gift Baskets",
          "Frozen Desserts & Novelties",
          "Fruit Flavored Drinks",
          "Fruits & Vegetables",
          "Grains, Rice & Cereal",
          "Hot Chocolate",
          "Juice",
          "Meat, Seafood & Eggs",
          "Milk",
          "Non-Dairy Milk",
          "Nuts & Seeds",
          "Pasta & Noodles",
          "Powdered Beverage Mixes",
          "Prepared Foods",
          "Prepared Meals",
          "Seasonings & Spices",
          "Snack Foods",
          "Soda",
          "Soups & Broths",
          "Sports & Energy Drinks",
          "Tea & Infusions",
          "Tofu, Soy & Vegetarian Products",
          "Vinegar Drinks",
          "Water"
         ],
         "y": [
          0.7755850000000001,
          0.006202,
          0.49647600000000003,
          0.325345,
          0.692416,
          0.6275729999999999,
          0.7479560000000001,
          0.553144,
          0.0008460000000000001,
          0.369608,
          0.305892,
          0.7862979999999999,
          0.595433,
          0.020863,
          null,
          0.7747390000000001,
          0.6131939999999999,
          0.11699999999999999,
          0.252044,
          0.469975,
          0.09303600000000001,
          0.727093,
          0.003665,
          0.39329000000000003,
          0.787144,
          0.460107,
          0.293206,
          0.19002,
          0.267832,
          0.038906,
          0.002537,
          0.43586099999999994
         ]
        },
        {
         "connectgaps": false,
         "line": {
          "dash": "solid"
         },
         "mode": "lines+markers",
         "name": "Meat, Seafood & Eggs",
         "type": "scatter",
         "x": [
          "Bakery",
          "Candied & Chocolate Covered Fruit",
          "Candy & Chocolate",
          "Coffee",
          "Condiments & Sauces",
          "Cooking & Baking Ingredients",
          "Dairy Products",
          "Dips & Spreads",
          "Food Gift Baskets",
          "Frozen Desserts & Novelties",
          "Fruit Flavored Drinks",
          "Fruits & Vegetables",
          "Grains, Rice & Cereal",
          "Hot Chocolate",
          "Juice",
          "Meat, Seafood & Eggs",
          "Milk",
          "Non-Dairy Milk",
          "Nuts & Seeds",
          "Pasta & Noodles",
          "Powdered Beverage Mixes",
          "Prepared Foods",
          "Prepared Meals",
          "Seasonings & Spices",
          "Snack Foods",
          "Soda",
          "Soups & Broths",
          "Sports & Energy Drinks",
          "Tea & Infusions",
          "Tofu, Soy & Vegetarian Products",
          "Vinegar Drinks",
          "Water"
         ],
         "y": [
          0.706255,
          0.003804,
          0.39659099999999997,
          0.27106199999999997,
          0.608622,
          0.5387430000000001,
          0.6962520000000001,
          0.469146,
          0.001127,
          0.290223,
          0.229501,
          0.7386590000000001,
          0.48703900000000006,
          0.013525,
          0.387151,
          null,
          0.513807,
          0.093125,
          0.202592,
          0.384052,
          0.07776799999999999,
          0.68625,
          0.001972,
          0.332488,
          0.6941390000000001,
          0.384756,
          0.24570300000000003,
          0.157368,
          0.21597600000000003,
          0.030149000000000002,
          0.001691,
          0.355452
         ]
        },
        {
         "connectgaps": false,
         "line": {
          "dash": "solid"
         },
         "mode": "lines+markers",
         "name": "Milk",
         "type": "scatter",
         "x": [
          "Bakery",
          "Candied & Chocolate Covered Fruit",
          "Candy & Chocolate",
          "Coffee",
          "Condiments & Sauces",
          "Cooking & Baking Ingredients",
          "Dairy Products",
          "Dips & Spreads",
          "Food Gift Baskets",
          "Frozen Desserts & Novelties",
          "Fruit Flavored Drinks",
          "Fruits & Vegetables",
          "Grains, Rice & Cereal",
          "Hot Chocolate",
          "Juice",
          "Meat, Seafood & Eggs",
          "Milk",
          "Non-Dairy Milk",
          "Nuts & Seeds",
          "Pasta & Noodles",
          "Powdered Beverage Mixes",
          "Prepared Foods",
          "Prepared Meals",
          "Seasonings & Spices",
          "Snack Foods",
          "Soda",
          "Soups & Broths",
          "Sports & Energy Drinks",
          "Tea & Infusions",
          "Tofu, Soy & Vegetarian Products",
          "Vinegar Drinks",
          "Water"
         ],
         "y": [
          0.858057,
          0.00545,
          0.515166,
          0.349526,
          0.740521,
          0.679384,
          0.8464450000000001,
          0.598341,
          0.001185,
          0.386493,
          0.29383899999999996,
          0.873934,
          0.65,
          0.020853,
          0.515403,
          0.864218,
          null,
          0.112322,
          0.257583,
          0.503555,
          0.099526,
          0.779147,
          0.0016589999999999999,
          0.41872,
          0.83436,
          0.48720399999999997,
          0.313744,
          0.197156,
          0.280332,
          0.039336,
          0.001422,
          0.446445
         ]
        },
        {
         "connectgaps": false,
         "line": {
          "dash": "solid"
         },
         "mode": "lines+markers",
         "name": "Non-Dairy Milk",
         "type": "scatter",
         "x": [
          "Bakery",
          "Candied & Chocolate Covered Fruit",
          "Candy & Chocolate",
          "Coffee",
          "Condiments & Sauces",
          "Cooking & Baking Ingredients",
          "Dairy Products",
          "Dips & Spreads",
          "Food Gift Baskets",
          "Frozen Desserts & Novelties",
          "Fruit Flavored Drinks",
          "Fruits & Vegetables",
          "Grains, Rice & Cereal",
          "Hot Chocolate",
          "Juice",
          "Meat, Seafood & Eggs",
          "Milk",
          "Non-Dairy Milk",
          "Nuts & Seeds",
          "Pasta & Noodles",
          "Powdered Beverage Mixes",
          "Prepared Foods",
          "Prepared Meals",
          "Seasonings & Spices",
          "Snack Foods",
          "Soda",
          "Soups & Broths",
          "Sports & Energy Drinks",
          "Tea & Infusions",
          "Tofu, Soy & Vegetarian Products",
          "Vinegar Drinks",
          "Water"
         ],
         "y": [
          0.796044,
          0.009889,
          0.5030899999999999,
          0.38937,
          0.757726,
          0.709518,
          0.810878,
          0.640297,
          0,
          0.364648,
          0.296663,
          0.856613,
          0.6600739999999999,
          0.018541,
          0.512979,
          0.817058,
          0.585909,
          null,
          0.368356,
          0.487021,
          0.09270700000000001,
          0.749073,
          0,
          0.45117399999999996,
          0.802225,
          0.41656400000000005,
          0.33621799999999996,
          0.197775,
          0.283066,
          0.090235,
          0.001236,
          0.45859099999999997
         ]
        },
        {
         "connectgaps": false,
         "line": {
          "dash": "solid"
         },
         "mode": "lines+markers",
         "name": "Nuts & Seeds",
         "type": "scatter",
         "x": [
          "Bakery",
          "Candied & Chocolate Covered Fruit",
          "Candy & Chocolate",
          "Coffee",
          "Condiments & Sauces",
          "Cooking & Baking Ingredients",
          "Dairy Products",
          "Dips & Spreads",
          "Food Gift Baskets",
          "Frozen Desserts & Novelties",
          "Fruit Flavored Drinks",
          "Fruits & Vegetables",
          "Grains, Rice & Cereal",
          "Hot Chocolate",
          "Juice",
          "Meat, Seafood & Eggs",
          "Milk",
          "Non-Dairy Milk",
          "Nuts & Seeds",
          "Pasta & Noodles",
          "Powdered Beverage Mixes",
          "Prepared Foods",
          "Prepared Meals",
          "Seasonings & Spices",
          "Snack Foods",
          "Soda",
          "Soups & Broths",
          "Sports & Energy Drinks",
          "Tea & Infusions",
          "Tofu, Soy & Vegetarian Products",
          "Vinegar Drinks",
          "Water"
         ],
         "y": [
          0.684545,
          0.0077269999999999995,
          0.47727299999999995,
          0.317727,
          0.634091,
          0.619091,
          0.657273,
          0.502727,
          0.002273,
          0.313182,
          0.241364,
          0.740909,
          0.5722729999999999,
          0.016364,
          0.406364,
          0.653636,
          0.494091,
          0.135455,
          null,
          0.408182,
          0.08454500000000001,
          0.608636,
          0.000455,
          0.43318199999999996,
          0.746364,
          0.36636399999999997,
          0.27318200000000004,
          0.17,
          0.264545,
          0.045,
          0.001364,
          0.373182
         ]
        },
        {
         "connectgaps": false,
         "line": {
          "dash": "solid"
         },
         "mode": "lines+markers",
         "name": "Pasta & Noodles",
         "type": "scatter",
         "x": [
          "Bakery",
          "Candied & Chocolate Covered Fruit",
          "Candy & Chocolate",
          "Coffee",
          "Condiments & Sauces",
          "Cooking & Baking Ingredients",
          "Dairy Products",
          "Dips & Spreads",
          "Food Gift Baskets",
          "Frozen Desserts & Novelties",
          "Fruit Flavored Drinks",
          "Fruits & Vegetables",
          "Grains, Rice & Cereal",
          "Hot Chocolate",
          "Juice",
          "Meat, Seafood & Eggs",
          "Milk",
          "Non-Dairy Milk",
          "Nuts & Seeds",
          "Pasta & Noodles",
          "Powdered Beverage Mixes",
          "Prepared Foods",
          "Prepared Meals",
          "Seasonings & Spices",
          "Snack Foods",
          "Soda",
          "Soups & Broths",
          "Sports & Energy Drinks",
          "Tea & Infusions",
          "Tofu, Soy & Vegetarian Products",
          "Vinegar Drinks",
          "Water"
         ],
         "y": [
          0.7752680000000001,
          0.0048,
          0.48644799999999994,
          0.32269899999999996,
          0.72812,
          0.658385,
          0.7636930000000001,
          0.5765100000000001,
          0.001129,
          0.346132,
          0.27526799999999996,
          0.7972899999999999,
          0.616318,
          0.017222,
          0.470638,
          0.769622,
          0.5999439999999999,
          0.11123699999999999,
          0.253529,
          null,
          0.100508,
          0.7608699999999999,
          0.0008470000000000001,
          0.42349,
          0.793902,
          0.451158,
          0.322417,
          0.195935,
          0.269339,
          0.041502,
          0.002259,
          0.409656
         ]
        },
        {
         "connectgaps": false,
         "line": {
          "dash": "solid"
         },
         "mode": "lines+markers",
         "name": "Powdered Beverage Mixes",
         "type": "scatter",
         "x": [
          "Bakery",
          "Candied & Chocolate Covered Fruit",
          "Candy & Chocolate",
          "Coffee",
          "Condiments & Sauces",
          "Cooking & Baking Ingredients",
          "Dairy Products",
          "Dips & Spreads",
          "Food Gift Baskets",
          "Frozen Desserts & Novelties",
          "Fruit Flavored Drinks",
          "Fruits & Vegetables",
          "Grains, Rice & Cereal",
          "Hot Chocolate",
          "Juice",
          "Meat, Seafood & Eggs",
          "Milk",
          "Non-Dairy Milk",
          "Nuts & Seeds",
          "Pasta & Noodles",
          "Powdered Beverage Mixes",
          "Prepared Foods",
          "Prepared Meals",
          "Seasonings & Spices",
          "Snack Foods",
          "Soda",
          "Soups & Broths",
          "Sports & Energy Drinks",
          "Tea & Infusions",
          "Tofu, Soy & Vegetarian Products",
          "Vinegar Drinks",
          "Water"
         ],
         "y": [
          0.72549,
          0.002614,
          0.473203,
          0.324183,
          0.69281,
          0.639216,
          0.699346,
          0.528105,
          0.002614,
          0.311111,
          0.345098,
          0.7320260000000001,
          0.562092,
          0.014379,
          0.43137299999999995,
          0.7215689999999999,
          0.54902,
          0.098039,
          0.243137,
          0.465359,
          null,
          0.666667,
          0.001307,
          0.39869299999999996,
          0.776471,
          0.42614399999999997,
          0.290196,
          0.261438,
          0.24183000000000002,
          0.018300999999999998,
          0,
          0.397386
         ]
        },
        {
         "connectgaps": false,
         "line": {
          "dash": "solid"
         },
         "mode": "lines+markers",
         "name": "Prepared Foods",
         "type": "scatter",
         "x": [
          "Bakery",
          "Candied & Chocolate Covered Fruit",
          "Candy & Chocolate",
          "Coffee",
          "Condiments & Sauces",
          "Cooking & Baking Ingredients",
          "Dairy Products",
          "Dips & Spreads",
          "Food Gift Baskets",
          "Frozen Desserts & Novelties",
          "Fruit Flavored Drinks",
          "Fruits & Vegetables",
          "Grains, Rice & Cereal",
          "Hot Chocolate",
          "Juice",
          "Meat, Seafood & Eggs",
          "Milk",
          "Non-Dairy Milk",
          "Nuts & Seeds",
          "Pasta & Noodles",
          "Powdered Beverage Mixes",
          "Prepared Foods",
          "Prepared Meals",
          "Seasonings & Spices",
          "Snack Foods",
          "Soda",
          "Soups & Broths",
          "Sports & Energy Drinks",
          "Tea & Infusions",
          "Tofu, Soy & Vegetarian Products",
          "Vinegar Drinks",
          "Water"
         ],
         "y": [
          0.43696999999999997,
          0.003266,
          0.24691,
          0.165784,
          0.361582,
          0.31214699999999995,
          0.403337,
          0.27816,
          0.000618,
          0.18291,
          0.13833,
          0.426907,
          0.287518,
          0.010152,
          0.22766599999999998,
          0.429996,
          0.290254,
          0.053496,
          0.118203,
          0.237906,
          0.045021,
          null,
          0.003266,
          0.191031,
          0.43114399999999997,
          0.242673,
          0.14962899999999998,
          0.094809,
          0.140802,
          0.01898,
          0.000883,
          0.21539499999999998
         ]
        },
        {
         "connectgaps": false,
         "line": {
          "dash": "solid"
         },
         "mode": "lines+markers",
         "name": "Prepared Meals",
         "type": "scatter",
         "x": [
          "Bakery",
          "Candied & Chocolate Covered Fruit",
          "Candy & Chocolate",
          "Coffee",
          "Condiments & Sauces",
          "Cooking & Baking Ingredients",
          "Dairy Products",
          "Dips & Spreads",
          "Food Gift Baskets",
          "Frozen Desserts & Novelties",
          "Fruit Flavored Drinks",
          "Fruits & Vegetables",
          "Grains, Rice & Cereal",
          "Hot Chocolate",
          "Juice",
          "Meat, Seafood & Eggs",
          "Milk",
          "Non-Dairy Milk",
          "Nuts & Seeds",
          "Pasta & Noodles",
          "Powdered Beverage Mixes",
          "Prepared Foods",
          "Prepared Meals",
          "Seasonings & Spices",
          "Snack Foods",
          "Soda",
          "Soups & Broths",
          "Sports & Energy Drinks",
          "Tea & Infusions",
          "Tofu, Soy & Vegetarian Products",
          "Vinegar Drinks",
          "Water"
         ],
         "y": [
          0.241379,
          0.022989,
          0.068966,
          0.126437,
          0.183908,
          0.034483,
          0.137931,
          0.057471,
          0.011493999999999999,
          0.137931,
          0.011493999999999999,
          0.103448,
          0.068966,
          0.022989,
          0.149425,
          0.16092,
          0.08046,
          0,
          0.011493999999999999,
          0.034483,
          0.011493999999999999,
          0.42528699999999997,
          null,
          0.022989,
          0.20689699999999997,
          0.126437,
          0.011493999999999999,
          0.011493999999999999,
          0.068966,
          0,
          0,
          0.011493999999999999
         ]
        },
        {
         "connectgaps": false,
         "line": {
          "dash": "solid"
         },
         "mode": "lines+markers",
         "name": "Seasonings & Spices",
         "type": "scatter",
         "x": [
          "Bakery",
          "Candied & Chocolate Covered Fruit",
          "Candy & Chocolate",
          "Coffee",
          "Condiments & Sauces",
          "Cooking & Baking Ingredients",
          "Dairy Products",
          "Dips & Spreads",
          "Food Gift Baskets",
          "Frozen Desserts & Novelties",
          "Fruit Flavored Drinks",
          "Fruits & Vegetables",
          "Grains, Rice & Cereal",
          "Hot Chocolate",
          "Juice",
          "Meat, Seafood & Eggs",
          "Milk",
          "Non-Dairy Milk",
          "Nuts & Seeds",
          "Pasta & Noodles",
          "Powdered Beverage Mixes",
          "Prepared Foods",
          "Prepared Meals",
          "Seasonings & Spices",
          "Snack Foods",
          "Soda",
          "Soups & Broths",
          "Sports & Energy Drinks",
          "Tea & Infusions",
          "Tofu, Soy & Vegetarian Products",
          "Vinegar Drinks",
          "Water"
         ],
         "y": [
          0.7312420000000001,
          0.004305,
          0.4508,
          0.30842600000000003,
          0.6937270000000001,
          0.682042,
          0.730627,
          0.522755,
          0.000923,
          0.314268,
          0.24169699999999997,
          0.78567,
          0.578721,
          0.014759999999999999,
          0.428967,
          0.725707,
          0.543358,
          0.112239,
          0.29305,
          0.461255,
          0.093788,
          0.665437,
          0.000615,
          null,
          0.742005,
          0.395756,
          0.310271,
          0.166667,
          0.26721999999999996,
          0.040898000000000004,
          0.0018449999999999999,
          0.373309
         ]
        },
        {
         "connectgaps": false,
         "line": {
          "dash": "solid"
         },
         "mode": "lines+markers",
         "name": "Snack Foods",
         "type": "scatter",
         "x": [
          "Bakery",
          "Candied & Chocolate Covered Fruit",
          "Candy & Chocolate",
          "Coffee",
          "Condiments & Sauces",
          "Cooking & Baking Ingredients",
          "Dairy Products",
          "Dips & Spreads",
          "Food Gift Baskets",
          "Frozen Desserts & Novelties",
          "Fruit Flavored Drinks",
          "Fruits & Vegetables",
          "Grains, Rice & Cereal",
          "Hot Chocolate",
          "Juice",
          "Meat, Seafood & Eggs",
          "Milk",
          "Non-Dairy Milk",
          "Nuts & Seeds",
          "Pasta & Noodles",
          "Powdered Beverage Mixes",
          "Prepared Foods",
          "Prepared Meals",
          "Seasonings & Spices",
          "Snack Foods",
          "Soda",
          "Soups & Broths",
          "Sports & Energy Drinks",
          "Tea & Infusions",
          "Tofu, Soy & Vegetarian Products",
          "Vinegar Drinks",
          "Water"
         ],
         "y": [
          0.6012649999999999,
          0.00322,
          0.383324,
          0.240943,
          0.502473,
          0.459114,
          0.556412,
          0.39632,
          0.000805,
          0.23576799999999998,
          0.19148900000000002,
          0.592639,
          0.42737200000000003,
          0.011041,
          0.321104,
          0.566647,
          0.404945,
          0.074641,
          0.188844,
          0.32340399999999997,
          0.068315,
          0.561702,
          0.00207,
          0.277516,
          null,
          0.340771,
          0.2023,
          0.145601,
          0.186199,
          0.023922,
          0.001265,
          0.299827
         ]
        },
        {
         "connectgaps": false,
         "line": {
          "dash": "solid"
         },
         "mode": "lines+markers",
         "name": "Soda",
         "type": "scatter",
         "x": [
          "Bakery",
          "Candied & Chocolate Covered Fruit",
          "Candy & Chocolate",
          "Coffee",
          "Condiments & Sauces",
          "Cooking & Baking Ingredients",
          "Dairy Products",
          "Dips & Spreads",
          "Food Gift Baskets",
          "Frozen Desserts & Novelties",
          "Fruit Flavored Drinks",
          "Fruits & Vegetables",
          "Grains, Rice & Cereal",
          "Hot Chocolate",
          "Juice",
          "Meat, Seafood & Eggs",
          "Milk",
          "Non-Dairy Milk",
          "Nuts & Seeds",
          "Pasta & Noodles",
          "Powdered Beverage Mixes",
          "Prepared Foods",
          "Prepared Meals",
          "Seasonings & Spices",
          "Snack Foods",
          "Soda",
          "Soups & Broths",
          "Sports & Energy Drinks",
          "Tea & Infusions",
          "Tofu, Soy & Vegetarian Products",
          "Vinegar Drinks",
          "Water"
         ],
         "y": [
          0.600693,
          0.0034649999999999998,
          0.397358,
          0.247077,
          0.522737,
          0.4699,
          0.580987,
          0.41403199999999996,
          0,
          0.27566,
          0.23213499999999998,
          0.596579,
          0.41728000000000004,
          0.013209,
          0.3534,
          0.591382,
          0.44521400000000005,
          0.072975,
          0.174534,
          0.346037,
          0.07059299999999999,
          0.595279,
          0.002382,
          0.278692,
          0.64162,
          null,
          0.22260700000000003,
          0.17605,
          0.203118,
          0.021654,
          0.001083,
          0.354916
         ]
        },
        {
         "connectgaps": false,
         "line": {
          "dash": "solid"
         },
         "mode": "lines+markers",
         "name": "Soups & Broths",
         "type": "scatter",
         "x": [
          "Bakery",
          "Candied & Chocolate Covered Fruit",
          "Candy & Chocolate",
          "Coffee",
          "Condiments & Sauces",
          "Cooking & Baking Ingredients",
          "Dairy Products",
          "Dips & Spreads",
          "Food Gift Baskets",
          "Frozen Desserts & Novelties",
          "Fruit Flavored Drinks",
          "Fruits & Vegetables",
          "Grains, Rice & Cereal",
          "Hot Chocolate",
          "Juice",
          "Meat, Seafood & Eggs",
          "Milk",
          "Non-Dairy Milk",
          "Nuts & Seeds",
          "Pasta & Noodles",
          "Powdered Beverage Mixes",
          "Prepared Foods",
          "Prepared Meals",
          "Seasonings & Spices",
          "Snack Foods",
          "Soda",
          "Soups & Broths",
          "Sports & Energy Drinks",
          "Tea & Infusions",
          "Tofu, Soy & Vegetarian Products",
          "Vinegar Drinks",
          "Water"
         ],
         "y": [
          0.7977890000000001,
          0.004146,
          0.494242,
          0.346384,
          0.758637,
          0.678489,
          0.773837,
          0.5997239999999999,
          0.00046100000000000004,
          0.365269,
          0.268079,
          0.825887,
          0.625058,
          0.017043,
          0.479042,
          0.803316,
          0.609857,
          0.125288,
          0.276831,
          0.526025,
          0.102257,
          0.780746,
          0.00046100000000000004,
          0.46476300000000004,
          0.810226,
          0.47351499999999996,
          null,
          0.205896,
          0.285583,
          0.042377,
          0.004606,
          0.42745299999999997
         ]
        },
        {
         "connectgaps": false,
         "line": {
          "dash": "solid"
         },
         "mode": "lines+markers",
         "name": "Sports & Energy Drinks",
         "type": "scatter",
         "x": [
          "Bakery",
          "Candied & Chocolate Covered Fruit",
          "Candy & Chocolate",
          "Coffee",
          "Condiments & Sauces",
          "Cooking & Baking Ingredients",
          "Dairy Products",
          "Dips & Spreads",
          "Food Gift Baskets",
          "Frozen Desserts & Novelties",
          "Fruit Flavored Drinks",
          "Fruits & Vegetables",
          "Grains, Rice & Cereal",
          "Hot Chocolate",
          "Juice",
          "Meat, Seafood & Eggs",
          "Milk",
          "Non-Dairy Milk",
          "Nuts & Seeds",
          "Pasta & Noodles",
          "Powdered Beverage Mixes",
          "Prepared Foods",
          "Prepared Meals",
          "Seasonings & Spices",
          "Snack Foods",
          "Soda",
          "Soups & Broths",
          "Sports & Energy Drinks",
          "Tea & Infusions",
          "Tofu, Soy & Vegetarian Products",
          "Vinegar Drinks",
          "Water"
         ],
         "y": [
          0.604603,
          0.0026149999999999997,
          0.399582,
          0.24110900000000002,
          0.5062760000000001,
          0.45815900000000004,
          0.562762,
          0.41527200000000003,
          0,
          0.24267800000000003,
          0.273013,
          0.573222,
          0.417364,
          0.005753,
          0.35251,
          0.584205,
          0.435146,
          0.083682,
          0.195607,
          0.362971,
          0.104603,
          0.561715,
          0.000523,
          0.283473,
          0.662134,
          0.425209,
          0.233787,
          null,
          0.22018800000000002,
          0.009414,
          0.001046,
          0.40010500000000004
         ]
        },
        {
         "connectgaps": false,
         "line": {
          "dash": "solid"
         },
         "mode": "lines+markers",
         "name": "Tea & Infusions",
         "type": "scatter",
         "x": [
          "Bakery",
          "Candied & Chocolate Covered Fruit",
          "Candy & Chocolate",
          "Coffee",
          "Condiments & Sauces",
          "Cooking & Baking Ingredients",
          "Dairy Products",
          "Dips & Spreads",
          "Food Gift Baskets",
          "Frozen Desserts & Novelties",
          "Fruit Flavored Drinks",
          "Fruits & Vegetables",
          "Grains, Rice & Cereal",
          "Hot Chocolate",
          "Juice",
          "Meat, Seafood & Eggs",
          "Milk",
          "Non-Dairy Milk",
          "Nuts & Seeds",
          "Pasta & Noodles",
          "Powdered Beverage Mixes",
          "Prepared Foods",
          "Prepared Meals",
          "Seasonings & Spices",
          "Snack Foods",
          "Soda",
          "Soups & Broths",
          "Sports & Energy Drinks",
          "Tea & Infusions",
          "Tofu, Soy & Vegetarian Products",
          "Vinegar Drinks",
          "Water"
         ],
         "y": [
          0.561746,
          0.0063880000000000004,
          0.36195900000000003,
          0.293471,
          0.490774,
          0.48332200000000003,
          0.541519,
          0.386799,
          0.001065,
          0.259404,
          0.20794899999999997,
          0.570263,
          0.42902799999999996,
          0.016678,
          0.337119,
          0.544003,
          0.41980100000000004,
          0.081263,
          0.206529,
          0.338538,
          0.065649,
          0.566004,
          0.002129,
          0.308375,
          0.574521,
          0.33286,
          0.220014,
          0.149397,
          null,
          0.026614999999999996,
          0.0017739999999999998,
          0.30873
         ]
        },
        {
         "connectgaps": false,
         "line": {
          "dash": "solid"
         },
         "mode": "lines+markers",
         "name": "Tofu, Soy & Vegetarian Products",
         "type": "scatter",
         "x": [
          "Bakery",
          "Candied & Chocolate Covered Fruit",
          "Candy & Chocolate",
          "Coffee",
          "Condiments & Sauces",
          "Cooking & Baking Ingredients",
          "Dairy Products",
          "Dips & Spreads",
          "Food Gift Baskets",
          "Frozen Desserts & Novelties",
          "Fruit Flavored Drinks",
          "Fruits & Vegetables",
          "Grains, Rice & Cereal",
          "Hot Chocolate",
          "Juice",
          "Meat, Seafood & Eggs",
          "Milk",
          "Non-Dairy Milk",
          "Nuts & Seeds",
          "Pasta & Noodles",
          "Powdered Beverage Mixes",
          "Prepared Foods",
          "Prepared Meals",
          "Seasonings & Spices",
          "Snack Foods",
          "Soda",
          "Soups & Broths",
          "Sports & Energy Drinks",
          "Tea & Infusions",
          "Tofu, Soy & Vegetarian Products",
          "Vinegar Drinks",
          "Water"
         ],
         "y": [
          0.7601479999999999,
          0.0036899999999999997,
          0.546125,
          0.369004,
          0.741697,
          0.660517,
          0.767528,
          0.656827,
          0,
          0.442804,
          0.302583,
          0.8339479999999999,
          0.664207,
          0.0369,
          0.509225,
          0.789668,
          0.612546,
          0.26937300000000003,
          0.36531399999999997,
          0.542435,
          0.051661,
          0.793358,
          0,
          0.490775,
          0.767528,
          0.369004,
          0.339483,
          0.06642100000000001,
          0.276753,
          null,
          0,
          0.391144
         ]
        },
        {
         "connectgaps": false,
         "line": {
          "dash": "solid"
         },
         "mode": "lines+markers",
         "name": "Vinegar Drinks",
         "type": "scatter",
         "x": [
          "Bakery",
          "Candied & Chocolate Covered Fruit",
          "Candy & Chocolate",
          "Coffee",
          "Condiments & Sauces",
          "Cooking & Baking Ingredients",
          "Dairy Products",
          "Dips & Spreads",
          "Food Gift Baskets",
          "Frozen Desserts & Novelties",
          "Fruit Flavored Drinks",
          "Fruits & Vegetables",
          "Grains, Rice & Cereal",
          "Hot Chocolate",
          "Juice",
          "Meat, Seafood & Eggs",
          "Milk",
          "Non-Dairy Milk",
          "Nuts & Seeds",
          "Pasta & Noodles",
          "Powdered Beverage Mixes",
          "Prepared Foods",
          "Prepared Meals",
          "Seasonings & Spices",
          "Snack Foods",
          "Soda",
          "Soups & Broths",
          "Sports & Energy Drinks",
          "Tea & Infusions",
          "Tofu, Soy & Vegetarian Products",
          "Vinegar Drinks",
          "Water"
         ],
         "y": [
          0.631579,
          0,
          0.157895,
          0.21052600000000002,
          0.578947,
          0.578947,
          0.473684,
          0.368421,
          0,
          0.315789,
          0.263158,
          0.684211,
          0.315789,
          0,
          0.473684,
          0.631579,
          0.315789,
          0.052632000000000005,
          0.157895,
          0.42105299999999996,
          0,
          0.526316,
          0,
          0.315789,
          0.578947,
          0.263158,
          0.526316,
          0.10526300000000001,
          0.263158,
          0,
          null,
          0.21052600000000002
         ]
        },
        {
         "connectgaps": false,
         "line": {
          "dash": "solid"
         },
         "mode": "lines+markers",
         "name": "Water",
         "type": "scatter",
         "x": [
          "Bakery",
          "Candied & Chocolate Covered Fruit",
          "Candy & Chocolate",
          "Coffee",
          "Condiments & Sauces",
          "Cooking & Baking Ingredients",
          "Dairy Products",
          "Dips & Spreads",
          "Food Gift Baskets",
          "Frozen Desserts & Novelties",
          "Fruit Flavored Drinks",
          "Fruits & Vegetables",
          "Grains, Rice & Cereal",
          "Hot Chocolate",
          "Juice",
          "Meat, Seafood & Eggs",
          "Milk",
          "Non-Dairy Milk",
          "Nuts & Seeds",
          "Pasta & Noodles",
          "Powdered Beverage Mixes",
          "Prepared Foods",
          "Prepared Meals",
          "Seasonings & Spices",
          "Snack Foods",
          "Soda",
          "Soups & Broths",
          "Sports & Energy Drinks",
          "Tea & Infusions",
          "Tofu, Soy & Vegetarian Products",
          "Vinegar Drinks",
          "Water"
         ],
         "y": [
          0.705866,
          0.003336,
          0.45148699999999997,
          0.30303,
          0.614679,
          0.552127,
          0.674729,
          0.490965,
          0.001668,
          0.312205,
          0.289964,
          0.710314,
          0.512649,
          0.011676,
          0.429803,
          0.701418,
          0.52377,
          0.10314200000000001,
          0.228246,
          0.40339200000000003,
          0.08451499999999999,
          0.678343,
          0.000278,
          0.337503,
          0.724771,
          0.455657,
          0.257993,
          0.212677,
          0.24186799999999997,
          0.029469,
          0.001112,
          null
         ]
        }
       ],
       "layout": {
        "autosize": false,
        "height": 600,
        "template": {
         "data": {
          "bar": [
           {
            "error_x": {
             "color": "#2a3f5f"
            },
            "error_y": {
             "color": "#2a3f5f"
            },
            "marker": {
             "line": {
              "color": "#E5ECF6",
              "width": 0.5
             }
            },
            "type": "bar"
           }
          ],
          "barpolar": [
           {
            "marker": {
             "line": {
              "color": "#E5ECF6",
              "width": 0.5
             }
            },
            "type": "barpolar"
           }
          ],
          "carpet": [
           {
            "aaxis": {
             "endlinecolor": "#2a3f5f",
             "gridcolor": "white",
             "linecolor": "white",
             "minorgridcolor": "white",
             "startlinecolor": "#2a3f5f"
            },
            "baxis": {
             "endlinecolor": "#2a3f5f",
             "gridcolor": "white",
             "linecolor": "white",
             "minorgridcolor": "white",
             "startlinecolor": "#2a3f5f"
            },
            "type": "carpet"
           }
          ],
          "choropleth": [
           {
            "colorbar": {
             "outlinewidth": 0,
             "ticks": ""
            },
            "type": "choropleth"
           }
          ],
          "contour": [
           {
            "colorbar": {
             "outlinewidth": 0,
             "ticks": ""
            },
            "colorscale": [
             [
              0,
              "#0d0887"
             ],
             [
              0.1111111111111111,
              "#46039f"
             ],
             [
              0.2222222222222222,
              "#7201a8"
             ],
             [
              0.3333333333333333,
              "#9c179e"
             ],
             [
              0.4444444444444444,
              "#bd3786"
             ],
             [
              0.5555555555555556,
              "#d8576b"
             ],
             [
              0.6666666666666666,
              "#ed7953"
             ],
             [
              0.7777777777777778,
              "#fb9f3a"
             ],
             [
              0.8888888888888888,
              "#fdca26"
             ],
             [
              1,
              "#f0f921"
             ]
            ],
            "type": "contour"
           }
          ],
          "contourcarpet": [
           {
            "colorbar": {
             "outlinewidth": 0,
             "ticks": ""
            },
            "type": "contourcarpet"
           }
          ],
          "heatmap": [
           {
            "colorbar": {
             "outlinewidth": 0,
             "ticks": ""
            },
            "colorscale": [
             [
              0,
              "#0d0887"
             ],
             [
              0.1111111111111111,
              "#46039f"
             ],
             [
              0.2222222222222222,
              "#7201a8"
             ],
             [
              0.3333333333333333,
              "#9c179e"
             ],
             [
              0.4444444444444444,
              "#bd3786"
             ],
             [
              0.5555555555555556,
              "#d8576b"
             ],
             [
              0.6666666666666666,
              "#ed7953"
             ],
             [
              0.7777777777777778,
              "#fb9f3a"
             ],
             [
              0.8888888888888888,
              "#fdca26"
             ],
             [
              1,
              "#f0f921"
             ]
            ],
            "type": "heatmap"
           }
          ],
          "heatmapgl": [
           {
            "colorbar": {
             "outlinewidth": 0,
             "ticks": ""
            },
            "colorscale": [
             [
              0,
              "#0d0887"
             ],
             [
              0.1111111111111111,
              "#46039f"
             ],
             [
              0.2222222222222222,
              "#7201a8"
             ],
             [
              0.3333333333333333,
              "#9c179e"
             ],
             [
              0.4444444444444444,
              "#bd3786"
             ],
             [
              0.5555555555555556,
              "#d8576b"
             ],
             [
              0.6666666666666666,
              "#ed7953"
             ],
             [
              0.7777777777777778,
              "#fb9f3a"
             ],
             [
              0.8888888888888888,
              "#fdca26"
             ],
             [
              1,
              "#f0f921"
             ]
            ],
            "type": "heatmapgl"
           }
          ],
          "histogram": [
           {
            "marker": {
             "colorbar": {
              "outlinewidth": 0,
              "ticks": ""
             }
            },
            "type": "histogram"
           }
          ],
          "histogram2d": [
           {
            "colorbar": {
             "outlinewidth": 0,
             "ticks": ""
            },
            "colorscale": [
             [
              0,
              "#0d0887"
             ],
             [
              0.1111111111111111,
              "#46039f"
             ],
             [
              0.2222222222222222,
              "#7201a8"
             ],
             [
              0.3333333333333333,
              "#9c179e"
             ],
             [
              0.4444444444444444,
              "#bd3786"
             ],
             [
              0.5555555555555556,
              "#d8576b"
             ],
             [
              0.6666666666666666,
              "#ed7953"
             ],
             [
              0.7777777777777778,
              "#fb9f3a"
             ],
             [
              0.8888888888888888,
              "#fdca26"
             ],
             [
              1,
              "#f0f921"
             ]
            ],
            "type": "histogram2d"
           }
          ],
          "histogram2dcontour": [
           {
            "colorbar": {
             "outlinewidth": 0,
             "ticks": ""
            },
            "colorscale": [
             [
              0,
              "#0d0887"
             ],
             [
              0.1111111111111111,
              "#46039f"
             ],
             [
              0.2222222222222222,
              "#7201a8"
             ],
             [
              0.3333333333333333,
              "#9c179e"
             ],
             [
              0.4444444444444444,
              "#bd3786"
             ],
             [
              0.5555555555555556,
              "#d8576b"
             ],
             [
              0.6666666666666666,
              "#ed7953"
             ],
             [
              0.7777777777777778,
              "#fb9f3a"
             ],
             [
              0.8888888888888888,
              "#fdca26"
             ],
             [
              1,
              "#f0f921"
             ]
            ],
            "type": "histogram2dcontour"
           }
          ],
          "mesh3d": [
           {
            "colorbar": {
             "outlinewidth": 0,
             "ticks": ""
            },
            "type": "mesh3d"
           }
          ],
          "parcoords": [
           {
            "line": {
             "colorbar": {
              "outlinewidth": 0,
              "ticks": ""
             }
            },
            "type": "parcoords"
           }
          ],
          "pie": [
           {
            "automargin": true,
            "type": "pie"
           }
          ],
          "scatter": [
           {
            "marker": {
             "colorbar": {
              "outlinewidth": 0,
              "ticks": ""
             }
            },
            "type": "scatter"
           }
          ],
          "scatter3d": [
           {
            "line": {
             "colorbar": {
              "outlinewidth": 0,
              "ticks": ""
             }
            },
            "marker": {
             "colorbar": {
              "outlinewidth": 0,
              "ticks": ""
             }
            },
            "type": "scatter3d"
           }
          ],
          "scattercarpet": [
           {
            "marker": {
             "colorbar": {
              "outlinewidth": 0,
              "ticks": ""
             }
            },
            "type": "scattercarpet"
           }
          ],
          "scattergeo": [
           {
            "marker": {
             "colorbar": {
              "outlinewidth": 0,
              "ticks": ""
             }
            },
            "type": "scattergeo"
           }
          ],
          "scattergl": [
           {
            "marker": {
             "colorbar": {
              "outlinewidth": 0,
              "ticks": ""
             }
            },
            "type": "scattergl"
           }
          ],
          "scattermapbox": [
           {
            "marker": {
             "colorbar": {
              "outlinewidth": 0,
              "ticks": ""
             }
            },
            "type": "scattermapbox"
           }
          ],
          "scatterpolar": [
           {
            "marker": {
             "colorbar": {
              "outlinewidth": 0,
              "ticks": ""
             }
            },
            "type": "scatterpolar"
           }
          ],
          "scatterpolargl": [
           {
            "marker": {
             "colorbar": {
              "outlinewidth": 0,
              "ticks": ""
             }
            },
            "type": "scatterpolargl"
           }
          ],
          "scatterternary": [
           {
            "marker": {
             "colorbar": {
              "outlinewidth": 0,
              "ticks": ""
             }
            },
            "type": "scatterternary"
           }
          ],
          "surface": [
           {
            "colorbar": {
             "outlinewidth": 0,
             "ticks": ""
            },
            "colorscale": [
             [
              0,
              "#0d0887"
             ],
             [
              0.1111111111111111,
              "#46039f"
             ],
             [
              0.2222222222222222,
              "#7201a8"
             ],
             [
              0.3333333333333333,
              "#9c179e"
             ],
             [
              0.4444444444444444,
              "#bd3786"
             ],
             [
              0.5555555555555556,
              "#d8576b"
             ],
             [
              0.6666666666666666,
              "#ed7953"
             ],
             [
              0.7777777777777778,
              "#fb9f3a"
             ],
             [
              0.8888888888888888,
              "#fdca26"
             ],
             [
              1,
              "#f0f921"
             ]
            ],
            "type": "surface"
           }
          ],
          "table": [
           {
            "cells": {
             "fill": {
              "color": "#EBF0F8"
             },
             "line": {
              "color": "white"
             }
            },
            "header": {
             "fill": {
              "color": "#C8D4E3"
             },
             "line": {
              "color": "white"
             }
            },
            "type": "table"
           }
          ]
         },
         "layout": {
          "annotationdefaults": {
           "arrowcolor": "#2a3f5f",
           "arrowhead": 0,
           "arrowwidth": 1
          },
          "coloraxis": {
           "colorbar": {
            "outlinewidth": 0,
            "ticks": ""
           }
          },
          "colorscale": {
           "diverging": [
            [
             0,
             "#8e0152"
            ],
            [
             0.1,
             "#c51b7d"
            ],
            [
             0.2,
             "#de77ae"
            ],
            [
             0.3,
             "#f1b6da"
            ],
            [
             0.4,
             "#fde0ef"
            ],
            [
             0.5,
             "#f7f7f7"
            ],
            [
             0.6,
             "#e6f5d0"
            ],
            [
             0.7,
             "#b8e186"
            ],
            [
             0.8,
             "#7fbc41"
            ],
            [
             0.9,
             "#4d9221"
            ],
            [
             1,
             "#276419"
            ]
           ],
           "sequential": [
            [
             0,
             "#0d0887"
            ],
            [
             0.1111111111111111,
             "#46039f"
            ],
            [
             0.2222222222222222,
             "#7201a8"
            ],
            [
             0.3333333333333333,
             "#9c179e"
            ],
            [
             0.4444444444444444,
             "#bd3786"
            ],
            [
             0.5555555555555556,
             "#d8576b"
            ],
            [
             0.6666666666666666,
             "#ed7953"
            ],
            [
             0.7777777777777778,
             "#fb9f3a"
            ],
            [
             0.8888888888888888,
             "#fdca26"
            ],
            [
             1,
             "#f0f921"
            ]
           ],
           "sequentialminus": [
            [
             0,
             "#0d0887"
            ],
            [
             0.1111111111111111,
             "#46039f"
            ],
            [
             0.2222222222222222,
             "#7201a8"
            ],
            [
             0.3333333333333333,
             "#9c179e"
            ],
            [
             0.4444444444444444,
             "#bd3786"
            ],
            [
             0.5555555555555556,
             "#d8576b"
            ],
            [
             0.6666666666666666,
             "#ed7953"
            ],
            [
             0.7777777777777778,
             "#fb9f3a"
            ],
            [
             0.8888888888888888,
             "#fdca26"
            ],
            [
             1,
             "#f0f921"
            ]
           ]
          },
          "colorway": [
           "#636efa",
           "#EF553B",
           "#00cc96",
           "#ab63fa",
           "#FFA15A",
           "#19d3f3",
           "#FF6692",
           "#B6E880",
           "#FF97FF",
           "#FECB52"
          ],
          "font": {
           "color": "#2a3f5f"
          },
          "geo": {
           "bgcolor": "white",
           "lakecolor": "white",
           "landcolor": "#E5ECF6",
           "showlakes": true,
           "showland": true,
           "subunitcolor": "white"
          },
          "hoverlabel": {
           "align": "left"
          },
          "hovermode": "closest",
          "mapbox": {
           "style": "light"
          },
          "paper_bgcolor": "white",
          "plot_bgcolor": "#E5ECF6",
          "polar": {
           "angularaxis": {
            "gridcolor": "white",
            "linecolor": "white",
            "ticks": ""
           },
           "bgcolor": "#E5ECF6",
           "radialaxis": {
            "gridcolor": "white",
            "linecolor": "white",
            "ticks": ""
           }
          },
          "scene": {
           "xaxis": {
            "backgroundcolor": "#E5ECF6",
            "gridcolor": "white",
            "gridwidth": 2,
            "linecolor": "white",
            "showbackground": true,
            "ticks": "",
            "zerolinecolor": "white"
           },
           "yaxis": {
            "backgroundcolor": "#E5ECF6",
            "gridcolor": "white",
            "gridwidth": 2,
            "linecolor": "white",
            "showbackground": true,
            "ticks": "",
            "zerolinecolor": "white"
           },
           "zaxis": {
            "backgroundcolor": "#E5ECF6",
            "gridcolor": "white",
            "gridwidth": 2,
            "linecolor": "white",
            "showbackground": true,
            "ticks": "",
            "zerolinecolor": "white"
           }
          },
          "shapedefaults": {
           "line": {
            "color": "#2a3f5f"
           }
          },
          "ternary": {
           "aaxis": {
            "gridcolor": "white",
            "linecolor": "white",
            "ticks": ""
           },
           "baxis": {
            "gridcolor": "white",
            "linecolor": "white",
            "ticks": ""
           },
           "bgcolor": "#E5ECF6",
           "caxis": {
            "gridcolor": "white",
            "linecolor": "white",
            "ticks": ""
           }
          },
          "title": {
           "x": 0.05
          },
          "xaxis": {
           "automargin": true,
           "gridcolor": "white",
           "linecolor": "white",
           "ticks": "",
           "title": {
            "standoff": 15
           },
           "zerolinecolor": "white",
           "zerolinewidth": 2
          },
          "yaxis": {
           "automargin": true,
           "gridcolor": "white",
           "linecolor": "white",
           "ticks": "",
           "title": {
            "standoff": 15
           },
           "zerolinecolor": "white",
           "zerolinewidth": 2
          }
         }
        },
        "updatemenus": [
         {
          "active": 0,
          "buttons": [
           {
            "args": [
             {
              "showlegend": true,
              "title": "All",
              "visible": [
               true,
               true,
               true,
               true,
               true,
               true,
               true,
               true,
               true,
               true,
               true,
               true,
               true,
               true,
               true,
               true,
               true,
               true,
               true,
               true,
               true,
               true,
               true,
               true,
               true,
               true,
               true,
               true,
               true,
               true,
               true,
               true
              ]
             }
            ],
            "label": "All",
            "method": "update"
           },
           {
            "args": [
             {
              "showlegend": true,
              "title": "Bakery",
              "visible": [
               true,
               false,
               false,
               false,
               false,
               false,
               false,
               false,
               false,
               false,
               false,
               false,
               false,
               false,
               false,
               false,
               false,
               false,
               false,
               false,
               false,
               false,
               false,
               false,
               false,
               false,
               false,
               false,
               false,
               false,
               false,
               false
              ]
             }
            ],
            "label": "Bakery",
            "method": "update"
           },
           {
            "args": [
             {
              "showlegend": true,
              "title": "Candied & Chocolate Covered Fruit",
              "visible": [
               false,
               true,
               false,
               false,
               false,
               false,
               false,
               false,
               false,
               false,
               false,
               false,
               false,
               false,
               false,
               false,
               false,
               false,
               false,
               false,
               false,
               false,
               false,
               false,
               false,
               false,
               false,
               false,
               false,
               false,
               false,
               false
              ]
             }
            ],
            "label": "Candied & Chocolate Covered Fruit",
            "method": "update"
           },
           {
            "args": [
             {
              "showlegend": true,
              "title": "Candy & Chocolate",
              "visible": [
               false,
               false,
               true,
               false,
               false,
               false,
               false,
               false,
               false,
               false,
               false,
               false,
               false,
               false,
               false,
               false,
               false,
               false,
               false,
               false,
               false,
               false,
               false,
               false,
               false,
               false,
               false,
               false,
               false,
               false,
               false,
               false
              ]
             }
            ],
            "label": "Candy & Chocolate",
            "method": "update"
           },
           {
            "args": [
             {
              "showlegend": true,
              "title": "Coffee",
              "visible": [
               false,
               false,
               false,
               true,
               false,
               false,
               false,
               false,
               false,
               false,
               false,
               false,
               false,
               false,
               false,
               false,
               false,
               false,
               false,
               false,
               false,
               false,
               false,
               false,
               false,
               false,
               false,
               false,
               false,
               false,
               false,
               false
              ]
             }
            ],
            "label": "Coffee",
            "method": "update"
           },
           {
            "args": [
             {
              "showlegend": true,
              "title": "Condiments & Sauces",
              "visible": [
               false,
               false,
               false,
               false,
               true,
               false,
               false,
               false,
               false,
               false,
               false,
               false,
               false,
               false,
               false,
               false,
               false,
               false,
               false,
               false,
               false,
               false,
               false,
               false,
               false,
               false,
               false,
               false,
               false,
               false,
               false,
               false
              ]
             }
            ],
            "label": "Condiments & Sauces",
            "method": "update"
           },
           {
            "args": [
             {
              "showlegend": true,
              "title": "Cooking & Baking Ingredients",
              "visible": [
               false,
               false,
               false,
               false,
               false,
               true,
               false,
               false,
               false,
               false,
               false,
               false,
               false,
               false,
               false,
               false,
               false,
               false,
               false,
               false,
               false,
               false,
               false,
               false,
               false,
               false,
               false,
               false,
               false,
               false,
               false,
               false
              ]
             }
            ],
            "label": "Cooking & Baking Ingredients",
            "method": "update"
           },
           {
            "args": [
             {
              "showlegend": true,
              "title": "Dairy Products",
              "visible": [
               false,
               false,
               false,
               false,
               false,
               false,
               true,
               false,
               false,
               false,
               false,
               false,
               false,
               false,
               false,
               false,
               false,
               false,
               false,
               false,
               false,
               false,
               false,
               false,
               false,
               false,
               false,
               false,
               false,
               false,
               false,
               false
              ]
             }
            ],
            "label": "Dairy Products",
            "method": "update"
           },
           {
            "args": [
             {
              "showlegend": true,
              "title": "Dips & Spreads",
              "visible": [
               false,
               false,
               false,
               false,
               false,
               false,
               false,
               true,
               false,
               false,
               false,
               false,
               false,
               false,
               false,
               false,
               false,
               false,
               false,
               false,
               false,
               false,
               false,
               false,
               false,
               false,
               false,
               false,
               false,
               false,
               false,
               false
              ]
             }
            ],
            "label": "Dips & Spreads",
            "method": "update"
           },
           {
            "args": [
             {
              "showlegend": true,
              "title": "Food Gift Baskets",
              "visible": [
               false,
               false,
               false,
               false,
               false,
               false,
               false,
               false,
               true,
               false,
               false,
               false,
               false,
               false,
               false,
               false,
               false,
               false,
               false,
               false,
               false,
               false,
               false,
               false,
               false,
               false,
               false,
               false,
               false,
               false,
               false,
               false
              ]
             }
            ],
            "label": "Food Gift Baskets",
            "method": "update"
           },
           {
            "args": [
             {
              "showlegend": true,
              "title": "Frozen Desserts & Novelties",
              "visible": [
               false,
               false,
               false,
               false,
               false,
               false,
               false,
               false,
               false,
               true,
               false,
               false,
               false,
               false,
               false,
               false,
               false,
               false,
               false,
               false,
               false,
               false,
               false,
               false,
               false,
               false,
               false,
               false,
               false,
               false,
               false,
               false
              ]
             }
            ],
            "label": "Frozen Desserts & Novelties",
            "method": "update"
           },
           {
            "args": [
             {
              "showlegend": true,
              "title": "Fruit Flavored Drinks",
              "visible": [
               false,
               false,
               false,
               false,
               false,
               false,
               false,
               false,
               false,
               false,
               true,
               false,
               false,
               false,
               false,
               false,
               false,
               false,
               false,
               false,
               false,
               false,
               false,
               false,
               false,
               false,
               false,
               false,
               false,
               false,
               false,
               false
              ]
             }
            ],
            "label": "Fruit Flavored Drinks",
            "method": "update"
           },
           {
            "args": [
             {
              "showlegend": true,
              "title": "Fruits & Vegetables",
              "visible": [
               false,
               false,
               false,
               false,
               false,
               false,
               false,
               false,
               false,
               false,
               false,
               true,
               false,
               false,
               false,
               false,
               false,
               false,
               false,
               false,
               false,
               false,
               false,
               false,
               false,
               false,
               false,
               false,
               false,
               false,
               false,
               false
              ]
             }
            ],
            "label": "Fruits & Vegetables",
            "method": "update"
           },
           {
            "args": [
             {
              "showlegend": true,
              "title": "Grains, Rice & Cereal",
              "visible": [
               false,
               false,
               false,
               false,
               false,
               false,
               false,
               false,
               false,
               false,
               false,
               false,
               true,
               false,
               false,
               false,
               false,
               false,
               false,
               false,
               false,
               false,
               false,
               false,
               false,
               false,
               false,
               false,
               false,
               false,
               false,
               false
              ]
             }
            ],
            "label": "Grains, Rice & Cereal",
            "method": "update"
           },
           {
            "args": [
             {
              "showlegend": true,
              "title": "Hot Chocolate",
              "visible": [
               false,
               false,
               false,
               false,
               false,
               false,
               false,
               false,
               false,
               false,
               false,
               false,
               false,
               true,
               false,
               false,
               false,
               false,
               false,
               false,
               false,
               false,
               false,
               false,
               false,
               false,
               false,
               false,
               false,
               false,
               false,
               false
              ]
             }
            ],
            "label": "Hot Chocolate",
            "method": "update"
           },
           {
            "args": [
             {
              "showlegend": true,
              "title": "Juice",
              "visible": [
               false,
               false,
               false,
               false,
               false,
               false,
               false,
               false,
               false,
               false,
               false,
               false,
               false,
               false,
               true,
               false,
               false,
               false,
               false,
               false,
               false,
               false,
               false,
               false,
               false,
               false,
               false,
               false,
               false,
               false,
               false,
               false
              ]
             }
            ],
            "label": "Juice",
            "method": "update"
           },
           {
            "args": [
             {
              "showlegend": true,
              "title": "Meat, Seafood & Eggs",
              "visible": [
               false,
               false,
               false,
               false,
               false,
               false,
               false,
               false,
               false,
               false,
               false,
               false,
               false,
               false,
               false,
               true,
               false,
               false,
               false,
               false,
               false,
               false,
               false,
               false,
               false,
               false,
               false,
               false,
               false,
               false,
               false,
               false
              ]
             }
            ],
            "label": "Meat, Seafood & Eggs",
            "method": "update"
           },
           {
            "args": [
             {
              "showlegend": true,
              "title": "Milk",
              "visible": [
               false,
               false,
               false,
               false,
               false,
               false,
               false,
               false,
               false,
               false,
               false,
               false,
               false,
               false,
               false,
               false,
               true,
               false,
               false,
               false,
               false,
               false,
               false,
               false,
               false,
               false,
               false,
               false,
               false,
               false,
               false,
               false
              ]
             }
            ],
            "label": "Milk",
            "method": "update"
           },
           {
            "args": [
             {
              "showlegend": true,
              "title": "Non-Dairy Milk",
              "visible": [
               false,
               false,
               false,
               false,
               false,
               false,
               false,
               false,
               false,
               false,
               false,
               false,
               false,
               false,
               false,
               false,
               false,
               true,
               false,
               false,
               false,
               false,
               false,
               false,
               false,
               false,
               false,
               false,
               false,
               false,
               false,
               false
              ]
             }
            ],
            "label": "Non-Dairy Milk",
            "method": "update"
           },
           {
            "args": [
             {
              "showlegend": true,
              "title": "Nuts & Seeds",
              "visible": [
               false,
               false,
               false,
               false,
               false,
               false,
               false,
               false,
               false,
               false,
               false,
               false,
               false,
               false,
               false,
               false,
               false,
               false,
               true,
               false,
               false,
               false,
               false,
               false,
               false,
               false,
               false,
               false,
               false,
               false,
               false,
               false
              ]
             }
            ],
            "label": "Nuts & Seeds",
            "method": "update"
           },
           {
            "args": [
             {
              "showlegend": true,
              "title": "Pasta & Noodles",
              "visible": [
               false,
               false,
               false,
               false,
               false,
               false,
               false,
               false,
               false,
               false,
               false,
               false,
               false,
               false,
               false,
               false,
               false,
               false,
               false,
               true,
               false,
               false,
               false,
               false,
               false,
               false,
               false,
               false,
               false,
               false,
               false,
               false
              ]
             }
            ],
            "label": "Pasta & Noodles",
            "method": "update"
           },
           {
            "args": [
             {
              "showlegend": true,
              "title": "Powdered Beverage Mixes",
              "visible": [
               false,
               false,
               false,
               false,
               false,
               false,
               false,
               false,
               false,
               false,
               false,
               false,
               false,
               false,
               false,
               false,
               false,
               false,
               false,
               false,
               true,
               false,
               false,
               false,
               false,
               false,
               false,
               false,
               false,
               false,
               false,
               false
              ]
             }
            ],
            "label": "Powdered Beverage Mixes",
            "method": "update"
           },
           {
            "args": [
             {
              "showlegend": true,
              "title": "Prepared Foods",
              "visible": [
               false,
               false,
               false,
               false,
               false,
               false,
               false,
               false,
               false,
               false,
               false,
               false,
               false,
               false,
               false,
               false,
               false,
               false,
               false,
               false,
               false,
               true,
               false,
               false,
               false,
               false,
               false,
               false,
               false,
               false,
               false,
               false
              ]
             }
            ],
            "label": "Prepared Foods",
            "method": "update"
           },
           {
            "args": [
             {
              "showlegend": true,
              "title": "Prepared Meals",
              "visible": [
               false,
               false,
               false,
               false,
               false,
               false,
               false,
               false,
               false,
               false,
               false,
               false,
               false,
               false,
               false,
               false,
               false,
               false,
               false,
               false,
               false,
               false,
               true,
               false,
               false,
               false,
               false,
               false,
               false,
               false,
               false,
               false
              ]
             }
            ],
            "label": "Prepared Meals",
            "method": "update"
           },
           {
            "args": [
             {
              "showlegend": true,
              "title": "Seasonings & Spices",
              "visible": [
               false,
               false,
               false,
               false,
               false,
               false,
               false,
               false,
               false,
               false,
               false,
               false,
               false,
               false,
               false,
               false,
               false,
               false,
               false,
               false,
               false,
               false,
               false,
               true,
               false,
               false,
               false,
               false,
               false,
               false,
               false,
               false
              ]
             }
            ],
            "label": "Seasonings & Spices",
            "method": "update"
           },
           {
            "args": [
             {
              "showlegend": true,
              "title": "Snack Foods",
              "visible": [
               false,
               false,
               false,
               false,
               false,
               false,
               false,
               false,
               false,
               false,
               false,
               false,
               false,
               false,
               false,
               false,
               false,
               false,
               false,
               false,
               false,
               false,
               false,
               false,
               true,
               false,
               false,
               false,
               false,
               false,
               false,
               false
              ]
             }
            ],
            "label": "Snack Foods",
            "method": "update"
           },
           {
            "args": [
             {
              "showlegend": true,
              "title": "Soda",
              "visible": [
               false,
               false,
               false,
               false,
               false,
               false,
               false,
               false,
               false,
               false,
               false,
               false,
               false,
               false,
               false,
               false,
               false,
               false,
               false,
               false,
               false,
               false,
               false,
               false,
               false,
               true,
               false,
               false,
               false,
               false,
               false,
               false
              ]
             }
            ],
            "label": "Soda",
            "method": "update"
           },
           {
            "args": [
             {
              "showlegend": true,
              "title": "Soups & Broths",
              "visible": [
               false,
               false,
               false,
               false,
               false,
               false,
               false,
               false,
               false,
               false,
               false,
               false,
               false,
               false,
               false,
               false,
               false,
               false,
               false,
               false,
               false,
               false,
               false,
               false,
               false,
               false,
               true,
               false,
               false,
               false,
               false,
               false
              ]
             }
            ],
            "label": "Soups & Broths",
            "method": "update"
           },
           {
            "args": [
             {
              "showlegend": true,
              "title": "Sports & Energy Drinks",
              "visible": [
               false,
               false,
               false,
               false,
               false,
               false,
               false,
               false,
               false,
               false,
               false,
               false,
               false,
               false,
               false,
               false,
               false,
               false,
               false,
               false,
               false,
               false,
               false,
               false,
               false,
               false,
               false,
               true,
               false,
               false,
               false,
               false
              ]
             }
            ],
            "label": "Sports & Energy Drinks",
            "method": "update"
           },
           {
            "args": [
             {
              "showlegend": true,
              "title": "Tea & Infusions",
              "visible": [
               false,
               false,
               false,
               false,
               false,
               false,
               false,
               false,
               false,
               false,
               false,
               false,
               false,
               false,
               false,
               false,
               false,
               false,
               false,
               false,
               false,
               false,
               false,
               false,
               false,
               false,
               false,
               false,
               true,
               false,
               false,
               false
              ]
             }
            ],
            "label": "Tea & Infusions",
            "method": "update"
           },
           {
            "args": [
             {
              "showlegend": true,
              "title": "Tofu, Soy & Vegetarian Products",
              "visible": [
               false,
               false,
               false,
               false,
               false,
               false,
               false,
               false,
               false,
               false,
               false,
               false,
               false,
               false,
               false,
               false,
               false,
               false,
               false,
               false,
               false,
               false,
               false,
               false,
               false,
               false,
               false,
               false,
               false,
               true,
               false,
               false
              ]
             }
            ],
            "label": "Tofu, Soy & Vegetarian Products",
            "method": "update"
           },
           {
            "args": [
             {
              "showlegend": true,
              "title": "Vinegar Drinks",
              "visible": [
               false,
               false,
               false,
               false,
               false,
               false,
               false,
               false,
               false,
               false,
               false,
               false,
               false,
               false,
               false,
               false,
               false,
               false,
               false,
               false,
               false,
               false,
               false,
               false,
               false,
               false,
               false,
               false,
               false,
               false,
               true,
               false
              ]
             }
            ],
            "label": "Vinegar Drinks",
            "method": "update"
           },
           {
            "args": [
             {
              "showlegend": true,
              "title": "Water",
              "visible": [
               false,
               false,
               false,
               false,
               false,
               false,
               false,
               false,
               false,
               false,
               false,
               false,
               false,
               false,
               false,
               false,
               false,
               false,
               false,
               false,
               false,
               false,
               false,
               false,
               false,
               false,
               false,
               false,
               false,
               false,
               false,
               true
              ]
             }
            ],
            "label": "Water",
            "method": "update"
           }
          ]
         }
        ],
        "width": 1200
       }
      },
      "text/html": [
       "<div>                            <div id=\"ff221234-a662-4437-8cd0-9592c7f80009\" class=\"plotly-graph-div\" style=\"height:600px; width:1200px;\"></div>            <script type=\"text/javascript\">                require([\"plotly\"], function(Plotly) {                    window.PLOTLYENV=window.PLOTLYENV || {};                                    if (document.getElementById(\"ff221234-a662-4437-8cd0-9592c7f80009\")) {                    Plotly.newPlot(                        \"ff221234-a662-4437-8cd0-9592c7f80009\",                        [{\"connectgaps\": false, \"line\": {\"dash\": \"solid\"}, \"mode\": \"lines+markers\", \"name\": \"Bakery\", \"type\": \"scatter\", \"x\": [\"Bakery\", \"Candied & Chocolate Covered Fruit\", \"Candy & Chocolate\", \"Coffee\", \"Condiments & Sauces\", \"Cooking & Baking Ingredients\", \"Dairy Products\", \"Dips & Spreads\", \"Food Gift Baskets\", \"Frozen Desserts & Novelties\", \"Fruit Flavored Drinks\", \"Fruits & Vegetables\", \"Grains, Rice & Cereal\", \"Hot Chocolate\", \"Juice\", \"Meat, Seafood & Eggs\", \"Milk\", \"Non-Dairy Milk\", \"Nuts & Seeds\", \"Pasta & Noodles\", \"Powdered Beverage Mixes\", \"Prepared Foods\", \"Prepared Meals\", \"Seasonings & Spices\", \"Snack Foods\", \"Soda\", \"Soups & Broths\", \"Sports & Energy Drinks\", \"Tea & Infusions\", \"Tofu, Soy & Vegetarian Products\", \"Vinegar Drinks\", \"Water\"], \"y\": [null, 0.004422, 0.39927199999999996, 0.258941, 0.552478, 0.504877, 0.631161, 0.437118, 0.0010400000000000001, 0.27675900000000003, 0.211731, 0.665886, 0.459618, 0.013136000000000002, 0.357784, 0.6519699999999999, 0.470933, 0.083756, 0.195864, 0.357134, 0.072181, 0.643777, 0.002731, 0.309273, 0.679932, 0.360775, 0.225257, 0.150345, 0.205879, 0.026792000000000003, 0.0015609999999999999, 0.330212]}, {\"connectgaps\": false, \"line\": {\"dash\": \"solid\"}, \"mode\": \"lines+markers\", \"name\": \"Candied & Chocolate Covered Fruit\", \"type\": \"scatter\", \"x\": [\"Bakery\", \"Candied & Chocolate Covered Fruit\", \"Candy & Chocolate\", \"Coffee\", \"Condiments & Sauces\", \"Cooking & Baking Ingredients\", \"Dairy Products\", \"Dips & Spreads\", \"Food Gift Baskets\", \"Frozen Desserts & Novelties\", \"Fruit Flavored Drinks\", \"Fruits & Vegetables\", \"Grains, Rice & Cereal\", \"Hot Chocolate\", \"Juice\", \"Meat, Seafood & Eggs\", \"Milk\", \"Non-Dairy Milk\", \"Nuts & Seeds\", \"Pasta & Noodles\", \"Powdered Beverage Mixes\", \"Prepared Foods\", \"Prepared Meals\", \"Seasonings & Spices\", \"Snack Foods\", \"Soda\", \"Soups & Broths\", \"Sports & Energy Drinks\", \"Tea & Infusions\", \"Tofu, Soy & Vegetarian Products\", \"Vinegar Drinks\", \"Water\"], \"y\": [0.515152, null, 0.409091, 0.257576, 0.378788, 0.348485, 0.48484799999999995, 0.318182, 0.0, 0.363636, 0.19697, 0.515152, 0.318182, 0.06060599999999999, 0.333333, 0.409091, 0.348485, 0.12121199999999999, 0.257576, 0.257576, 0.030302999999999997, 0.560606, 0.030302999999999997, 0.212121, 0.424242, 0.24242399999999997, 0.136364, 0.075758, 0.272727, 0.015152, 0.0, 0.181818]}, {\"connectgaps\": false, \"line\": {\"dash\": \"solid\"}, \"mode\": \"lines+markers\", \"name\": \"Candy & Chocolate\", \"type\": \"scatter\", \"x\": [\"Bakery\", \"Candied & Chocolate Covered Fruit\", \"Candy & Chocolate\", \"Coffee\", \"Condiments & Sauces\", \"Cooking & Baking Ingredients\", \"Dairy Products\", \"Dips & Spreads\", \"Food Gift Baskets\", \"Frozen Desserts & Novelties\", \"Fruit Flavored Drinks\", \"Fruits & Vegetables\", \"Grains, Rice & Cereal\", \"Hot Chocolate\", \"Juice\", \"Meat, Seafood & Eggs\", \"Milk\", \"Non-Dairy Milk\", \"Nuts & Seeds\", \"Pasta & Noodles\", \"Powdered Beverage Mixes\", \"Prepared Foods\", \"Prepared Meals\", \"Seasonings & Spices\", \"Snack Foods\", \"Soda\", \"Soups & Broths\", \"Sports & Energy Drinks\", \"Tea & Infusions\", \"Tofu, Soy & Vegetarian Products\", \"Vinegar Drinks\", \"Water\"], \"y\": [0.632338, 0.005561, null, 0.268795, 0.535942, 0.5071060000000001, 0.581256, 0.438723, 0.001648, 0.30587, 0.220185, 0.605561, 0.457467, 0.017508000000000003, 0.362719, 0.579815, 0.44778599999999996, 0.08383099999999999, 0.216272, 0.354892, 0.074562, 0.5761069999999999, 0.001236, 0.30195700000000003, 0.686509, 0.377961, 0.221009, 0.157364, 0.21009299999999997, 0.030483999999999997, 0.000618, 0.33450100000000005]}, {\"connectgaps\": false, \"line\": {\"dash\": \"solid\"}, \"mode\": \"lines+markers\", \"name\": \"Coffee\", \"type\": \"scatter\", \"x\": [\"Bakery\", \"Candied & Chocolate Covered Fruit\", \"Candy & Chocolate\", \"Coffee\", \"Condiments & Sauces\", \"Cooking & Baking Ingredients\", \"Dairy Products\", \"Dips & Spreads\", \"Food Gift Baskets\", \"Frozen Desserts & Novelties\", \"Fruit Flavored Drinks\", \"Fruits & Vegetables\", \"Grains, Rice & Cereal\", \"Hot Chocolate\", \"Juice\", \"Meat, Seafood & Eggs\", \"Milk\", \"Non-Dairy Milk\", \"Nuts & Seeds\", \"Pasta & Noodles\", \"Powdered Beverage Mixes\", \"Prepared Foods\", \"Prepared Meals\", \"Seasonings & Spices\", \"Snack Foods\", \"Soda\", \"Soups & Broths\", \"Sports & Energy Drinks\", \"Tea & Infusions\", \"Tofu, Soy & Vegetarian Products\", \"Vinegar Drinks\", \"Water\"], \"y\": [0.5303680000000001, 0.004529, 0.347629, null, 0.47442700000000004, 0.44778900000000005, 0.516249, 0.37453400000000003, 0.001598, 0.233884, 0.179275, 0.533031, 0.409696, 0.015184, 0.30740500000000004, 0.51252, 0.392914, 0.08391, 0.186201, 0.304475, 0.066063, 0.500266, 0.00293, 0.26718200000000003, 0.558071, 0.303942, 0.20032, 0.122802, 0.220298, 0.026638, 0.001066, 0.29035700000000003]}, {\"connectgaps\": false, \"line\": {\"dash\": \"solid\"}, \"mode\": \"lines+markers\", \"name\": \"Condiments & Sauces\", \"type\": \"scatter\", \"x\": [\"Bakery\", \"Candied & Chocolate Covered Fruit\", \"Candy & Chocolate\", \"Coffee\", \"Condiments & Sauces\", \"Cooking & Baking Ingredients\", \"Dairy Products\", \"Dips & Spreads\", \"Food Gift Baskets\", \"Frozen Desserts & Novelties\", \"Fruit Flavored Drinks\", \"Fruits & Vegetables\", \"Grains, Rice & Cereal\", \"Hot Chocolate\", \"Juice\", \"Meat, Seafood & Eggs\", \"Milk\", \"Non-Dairy Milk\", \"Nuts & Seeds\", \"Pasta & Noodles\", \"Powdered Beverage Mixes\", \"Prepared Foods\", \"Prepared Meals\", \"Seasonings & Spices\", \"Snack Foods\", \"Soda\", \"Soups & Broths\", \"Sports & Energy Drinks\", \"Tea & Infusions\", \"Tofu, Soy & Vegetarian Products\", \"Vinegar Drinks\", \"Water\"], \"y\": [0.700643, 0.004123, 0.42916000000000004, 0.293749, null, 0.5883229999999999, 0.694046, 0.5010720000000001, 0.00099, 0.294244, 0.23486700000000002, 0.7456699999999999, 0.5271319999999999, 0.014513999999999999, 0.40508, 0.712519, 0.515421, 0.101105, 0.230084, 0.425367, 0.08741499999999999, 0.675573, 0.002639, 0.372093, 0.7206, 0.39815300000000003, 0.271648, 0.159657, 0.22810500000000003, 0.033152, 0.001814, 0.364671]}, {\"connectgaps\": false, \"line\": {\"dash\": \"solid\"}, \"mode\": \"lines+markers\", \"name\": \"Cooking & Baking Ingredients\", \"type\": \"scatter\", \"x\": [\"Bakery\", \"Candied & Chocolate Covered Fruit\", \"Candy & Chocolate\", \"Coffee\", \"Condiments & Sauces\", \"Cooking & Baking Ingredients\", \"Dairy Products\", \"Dips & Spreads\", \"Food Gift Baskets\", \"Frozen Desserts & Novelties\", \"Fruit Flavored Drinks\", \"Fruits & Vegetables\", \"Grains, Rice & Cereal\", \"Hot Chocolate\", \"Juice\", \"Meat, Seafood & Eggs\", \"Milk\", \"Non-Dairy Milk\", \"Nuts & Seeds\", \"Pasta & Noodles\", \"Powdered Beverage Mixes\", \"Prepared Foods\", \"Prepared Meals\", \"Seasonings & Spices\", \"Snack Foods\", \"Soda\", \"Soups & Broths\", \"Sports & Energy Drinks\", \"Tea & Infusions\", \"Tofu, Soy & Vegetarian Products\", \"Vinegar Drinks\", \"Water\"], \"y\": [0.69433, 0.0041140000000000005, 0.44035100000000005, 0.300662, 0.63799, null, 0.687176, 0.491504, 0.0008939999999999999, 0.292434, 0.227508, 0.7329640000000001, 0.5313899999999999, 0.013951, 0.39814, 0.683956, 0.512788, 0.102665, 0.243606, 0.417099, 0.087462, 0.632445, 0.000537, 0.39670900000000003, 0.714005, 0.38812399999999997, 0.263459, 0.15667999999999999, 0.243606, 0.032016, 0.001967, 0.355214]}, {\"connectgaps\": false, \"line\": {\"dash\": \"solid\"}, \"mode\": \"lines+markers\", \"name\": \"Dairy Products\", \"type\": \"scatter\", \"x\": [\"Bakery\", \"Candied & Chocolate Covered Fruit\", \"Candy & Chocolate\", \"Coffee\", \"Condiments & Sauces\", \"Cooking & Baking Ingredients\", \"Dairy Products\", \"Dips & Spreads\", \"Food Gift Baskets\", \"Frozen Desserts & Novelties\", \"Fruit Flavored Drinks\", \"Fruits & Vegetables\", \"Grains, Rice & Cereal\", \"Hot Chocolate\", \"Juice\", \"Meat, Seafood & Eggs\", \"Milk\", \"Non-Dairy Milk\", \"Nuts & Seeds\", \"Pasta & Noodles\", \"Powdered Beverage Mixes\", \"Prepared Foods\", \"Prepared Meals\", \"Seasonings & Spices\", \"Snack Foods\", \"Soda\", \"Soups & Broths\", \"Sports & Energy Drinks\", \"Tea & Infusions\", \"Tofu, Soy & Vegetarian Products\", \"Vinegar Drinks\", \"Water\"], \"y\": [0.745812, 0.004918, 0.433687, 0.297833, 0.646688, 0.590441, null, 0.5073, 0.000768, 0.30643899999999996, 0.23743699999999998, 0.780083, 0.52359, 0.014907, 0.407715, 0.75949, 0.5489470000000001, 0.100815, 0.22222199999999998, 0.415706, 0.082219, 0.702167, 0.0018440000000000002, 0.365145, 0.7435069999999999, 0.412325, 0.258183, 0.16535999999999998, 0.234517, 0.031966, 0.0013830000000000001, 0.372983]}, {\"connectgaps\": false, \"line\": {\"dash\": \"solid\"}, \"mode\": \"lines+markers\", \"name\": \"Dips & Spreads\", \"type\": \"scatter\", \"x\": [\"Bakery\", \"Candied & Chocolate Covered Fruit\", \"Candy & Chocolate\", \"Coffee\", \"Condiments & Sauces\", \"Cooking & Baking Ingredients\", \"Dairy Products\", \"Dips & Spreads\", \"Food Gift Baskets\", \"Frozen Desserts & Novelties\", \"Fruit Flavored Drinks\", \"Fruits & Vegetables\", \"Grains, Rice & Cereal\", \"Hot Chocolate\", \"Juice\", \"Meat, Seafood & Eggs\", \"Milk\", \"Non-Dairy Milk\", \"Nuts & Seeds\", \"Pasta & Noodles\", \"Powdered Beverage Mixes\", \"Prepared Foods\", \"Prepared Meals\", \"Seasonings & Spices\", \"Snack Foods\", \"Soda\", \"Soups & Broths\", \"Sports & Energy Drinks\", \"Tea & Infusions\", \"Tofu, Soy & Vegetarian Products\", \"Vinegar Drinks\", \"Water\"], \"y\": [0.764037, 0.0047740000000000005, 0.48420100000000005, 0.31961799999999996, 0.690612, 0.624687, 0.750398, null, 0.002046, 0.344169, 0.26847, 0.7815409999999999, 0.575358, 0.018413, 0.44601, 0.7569899999999999, 0.573994, 0.117754, 0.251421, 0.464196, 0.091839, 0.716299, 0.001137, 0.38645100000000004, 0.7833600000000001, 0.434644, 0.295976, 0.180496, 0.247784, 0.040464, 0.001591, 0.401455]}, {\"connectgaps\": false, \"line\": {\"dash\": \"solid\"}, \"mode\": \"lines+markers\", \"name\": \"Food Gift Baskets\", \"type\": \"scatter\", \"x\": [\"Bakery\", \"Candied & Chocolate Covered Fruit\", \"Candy & Chocolate\", \"Coffee\", \"Condiments & Sauces\", \"Cooking & Baking Ingredients\", \"Dairy Products\", \"Dips & Spreads\", \"Food Gift Baskets\", \"Frozen Desserts & Novelties\", \"Fruit Flavored Drinks\", \"Fruits & Vegetables\", \"Grains, Rice & Cereal\", \"Hot Chocolate\", \"Juice\", \"Meat, Seafood & Eggs\", \"Milk\", \"Non-Dairy Milk\", \"Nuts & Seeds\", \"Pasta & Noodles\", \"Powdered Beverage Mixes\", \"Prepared Foods\", \"Prepared Meals\", \"Seasonings & Spices\", \"Snack Foods\", \"Soda\", \"Soups & Broths\", \"Sports & Energy Drinks\", \"Tea & Infusions\", \"Tofu, Soy & Vegetarian Products\", \"Vinegar Drinks\", \"Water\"], \"y\": [0.186047, 0.0, 0.186047, 0.139535, 0.139535, 0.116279, 0.116279, 0.209302, null, 0.046512, 0.046512, 0.186047, 0.186047, 0.0, 0.069767, 0.186047, 0.116279, 0.0, 0.116279, 0.09302300000000001, 0.046512, 0.16279100000000002, 0.023256, 0.069767, 0.16279100000000002, 0.0, 0.023256, 0.0, 0.069767, 0.0, 0.0, 0.139535]}, {\"connectgaps\": false, \"line\": {\"dash\": \"solid\"}, \"mode\": \"lines+markers\", \"name\": \"Frozen Desserts & Novelties\", \"type\": \"scatter\", \"x\": [\"Bakery\", \"Candied & Chocolate Covered Fruit\", \"Candy & Chocolate\", \"Coffee\", \"Condiments & Sauces\", \"Cooking & Baking Ingredients\", \"Dairy Products\", \"Dips & Spreads\", \"Food Gift Baskets\", \"Frozen Desserts & Novelties\", \"Fruit Flavored Drinks\", \"Fruits & Vegetables\", \"Grains, Rice & Cereal\", \"Hot Chocolate\", \"Juice\", \"Meat, Seafood & Eggs\", \"Milk\", \"Non-Dairy Milk\", \"Nuts & Seeds\", \"Pasta & Noodles\", \"Powdered Beverage Mixes\", \"Prepared Foods\", \"Prepared Meals\", \"Seasonings & Spices\", \"Snack Foods\", \"Soda\", \"Soups & Broths\", \"Sports & Energy Drinks\", \"Tea & Infusions\", \"Tofu, Soy & Vegetarian Products\", \"Vinegar Drinks\", \"Water\"], \"y\": [0.778632, 0.008782, 0.543359, 0.321259, 0.652763, 0.598244, 0.729601, 0.55397, 0.000732, null, 0.29930500000000004, 0.7588729999999999, 0.563483, 0.027076, 0.47969300000000004, 0.75375, 0.59678, 0.10794000000000001, 0.252104, 0.44859099999999996, 0.08708400000000001, 0.758141, 0.004391, 0.373948, 0.750091, 0.465789, 0.290157, 0.169777, 0.267472, 0.043907999999999996, 0.002195, 0.410904]}, {\"connectgaps\": false, \"line\": {\"dash\": \"solid\"}, \"mode\": \"lines+markers\", \"name\": \"Fruit Flavored Drinks\", \"type\": \"scatter\", \"x\": [\"Bakery\", \"Candied & Chocolate Covered Fruit\", \"Candy & Chocolate\", \"Coffee\", \"Condiments & Sauces\", \"Cooking & Baking Ingredients\", \"Dairy Products\", \"Dips & Spreads\", \"Food Gift Baskets\", \"Frozen Desserts & Novelties\", \"Fruit Flavored Drinks\", \"Fruits & Vegetables\", \"Grains, Rice & Cereal\", \"Hot Chocolate\", \"Juice\", \"Meat, Seafood & Eggs\", \"Milk\", \"Non-Dairy Milk\", \"Nuts & Seeds\", \"Pasta & Noodles\", \"Powdered Beverage Mixes\", \"Prepared Foods\", \"Prepared Meals\", \"Seasonings & Spices\", \"Snack Foods\", \"Soda\", \"Soups & Broths\", \"Sports & Energy Drinks\", \"Tea & Infusions\", \"Tofu, Soy & Vegetarian Products\", \"Vinegar Drinks\", \"Water\"], \"y\": [0.70233, 0.005608, 0.46117299999999994, 0.29033600000000004, 0.614323, 0.5487489999999999, 0.666523, 0.509491, 0.000863, 0.35289, null, 0.698447, 0.51855, 0.016825, 0.46807600000000005, 0.702761, 0.534944, 0.103538, 0.229077, 0.420621, 0.113891, 0.676014, 0.00043099999999999996, 0.33908499999999997, 0.718292, 0.46246800000000005, 0.251079, 0.225194, 0.252804, 0.035375, 0.002157, 0.449957]}, {\"connectgaps\": false, \"line\": {\"dash\": \"solid\"}, \"mode\": \"lines+markers\", \"name\": \"Fruits & Vegetables\", \"type\": \"scatter\", \"x\": [\"Bakery\", \"Candied & Chocolate Covered Fruit\", \"Candy & Chocolate\", \"Coffee\", \"Condiments & Sauces\", \"Cooking & Baking Ingredients\", \"Dairy Products\", \"Dips & Spreads\", \"Food Gift Baskets\", \"Frozen Desserts & Novelties\", \"Fruit Flavored Drinks\", \"Fruits & Vegetables\", \"Grains, Rice & Cereal\", \"Hot Chocolate\", \"Juice\", \"Meat, Seafood & Eggs\", \"Milk\", \"Non-Dairy Milk\", \"Nuts & Seeds\", \"Pasta & Noodles\", \"Powdered Beverage Mixes\", \"Prepared Foods\", \"Prepared Meals\", \"Seasonings & Spices\", \"Snack Foods\", \"Soda\", \"Soups & Broths\", \"Sports & Energy Drinks\", \"Tea & Infusions\", \"Tofu, Soy & Vegetarian Products\", \"Vinegar Drinks\", \"Water\"], \"y\": [0.682394, 0.0045320000000000004, 0.391843, 0.26669299999999996, 0.6025590000000001, 0.546182, 0.676529, 0.458217, 0.001066, 0.276423, 0.21578000000000003, null, 0.490071, 0.012528000000000001, 0.371718, 0.6987869999999999, 0.491537, 0.092363, 0.217246, 0.37638299999999997, 0.074637, 0.6445420000000001, 0.0012, 0.34053, 0.686792, 0.367186, 0.23897100000000002, 0.146075, 0.21418099999999998, 0.030121, 0.0017329999999999997, 0.34053]}, {\"connectgaps\": false, \"line\": {\"dash\": \"solid\"}, \"mode\": \"lines+markers\", \"name\": \"Grains, Rice & Cereal\", \"type\": \"scatter\", \"x\": [\"Bakery\", \"Candied & Chocolate Covered Fruit\", \"Candy & Chocolate\", \"Coffee\", \"Condiments & Sauces\", \"Cooking & Baking Ingredients\", \"Dairy Products\", \"Dips & Spreads\", \"Food Gift Baskets\", \"Frozen Desserts & Novelties\", \"Fruit Flavored Drinks\", \"Fruits & Vegetables\", \"Grains, Rice & Cereal\", \"Hot Chocolate\", \"Juice\", \"Meat, Seafood & Eggs\", \"Milk\", \"Non-Dairy Milk\", \"Nuts & Seeds\", \"Pasta & Noodles\", \"Powdered Beverage Mixes\", \"Prepared Foods\", \"Prepared Meals\", \"Seasonings & Spices\", \"Snack Foods\", \"Soda\", \"Soups & Broths\", \"Sports & Energy Drinks\", \"Tea & Infusions\", \"Tofu, Soy & Vegetarian Products\", \"Vinegar Drinks\", \"Water\"], \"y\": [0.758206, 0.0045049999999999995, 0.47650699999999996, 0.329972, 0.6856899999999999, 0.637417, 0.730959, 0.543017, 0.001716, 0.330401, 0.257885, 0.788887, null, 0.017164, 0.453122, 0.741686, 0.5885, 0.114568, 0.27011399999999997, 0.468354, 0.09225499999999999, 0.6987770000000001, 0.001287, 0.403776, 0.797254, 0.41343100000000005, 0.291139, 0.171208, 0.259386, 0.038618, 0.001287, 0.395623]}, {\"connectgaps\": false, \"line\": {\"dash\": \"solid\"}, \"mode\": \"lines+markers\", \"name\": \"Hot Chocolate\", \"type\": \"scatter\", \"x\": [\"Bakery\", \"Candied & Chocolate Covered Fruit\", \"Candy & Chocolate\", \"Coffee\", \"Condiments & Sauces\", \"Cooking & Baking Ingredients\", \"Dairy Products\", \"Dips & Spreads\", \"Food Gift Baskets\", \"Frozen Desserts & Novelties\", \"Fruit Flavored Drinks\", \"Fruits & Vegetables\", \"Grains, Rice & Cereal\", \"Hot Chocolate\", \"Juice\", \"Meat, Seafood & Eggs\", \"Milk\", \"Non-Dairy Milk\", \"Nuts & Seeds\", \"Pasta & Noodles\", \"Powdered Beverage Mixes\", \"Prepared Foods\", \"Prepared Meals\", \"Seasonings & Spices\", \"Snack Foods\", \"Soda\", \"Soups & Broths\", \"Sports & Energy Drinks\", \"Tea & Infusions\", \"Tofu, Soy & Vegetarian Products\", \"Vinegar Drinks\", \"Water\"], \"y\": [0.5804600000000001, 0.022989, 0.48850600000000005, 0.327586, 0.5057470000000001, 0.448276, 0.557471, 0.465517, 0.0, 0.42528699999999997, 0.224138, 0.54023, 0.45976999999999996, null, 0.42528699999999997, 0.551724, 0.5057470000000001, 0.086207, 0.20689699999999997, 0.350575, 0.063218, 0.66092, 0.011493999999999999, 0.275862, 0.551724, 0.350575, 0.212644, 0.063218, 0.270115, 0.057471, 0.0, 0.241379]}, {\"connectgaps\": false, \"line\": {\"dash\": \"solid\"}, \"mode\": \"lines+markers\", \"name\": \"Juice\", \"type\": \"scatter\", \"x\": [\"Bakery\", \"Candied & Chocolate Covered Fruit\", \"Candy & Chocolate\", \"Coffee\", \"Condiments & Sauces\", \"Cooking & Baking Ingredients\", \"Dairy Products\", \"Dips & Spreads\", \"Food Gift Baskets\", \"Frozen Desserts & Novelties\", \"Fruit Flavored Drinks\", \"Fruits & Vegetables\", \"Grains, Rice & Cereal\", \"Hot Chocolate\", \"Juice\", \"Meat, Seafood & Eggs\", \"Milk\", \"Non-Dairy Milk\", \"Nuts & Seeds\", \"Pasta & Noodles\", \"Powdered Beverage Mixes\", \"Prepared Foods\", \"Prepared Meals\", \"Seasonings & Spices\", \"Snack Foods\", \"Soda\", \"Soups & Broths\", \"Sports & Energy Drinks\", \"Tea & Infusions\", \"Tofu, Soy & Vegetarian Products\", \"Vinegar Drinks\", \"Water\"], \"y\": [0.7755850000000001, 0.006202, 0.49647600000000003, 0.325345, 0.692416, 0.6275729999999999, 0.7479560000000001, 0.553144, 0.0008460000000000001, 0.369608, 0.305892, 0.7862979999999999, 0.595433, 0.020863, null, 0.7747390000000001, 0.6131939999999999, 0.11699999999999999, 0.252044, 0.469975, 0.09303600000000001, 0.727093, 0.003665, 0.39329000000000003, 0.787144, 0.460107, 0.293206, 0.19002, 0.267832, 0.038906, 0.002537, 0.43586099999999994]}, {\"connectgaps\": false, \"line\": {\"dash\": \"solid\"}, \"mode\": \"lines+markers\", \"name\": \"Meat, Seafood & Eggs\", \"type\": \"scatter\", \"x\": [\"Bakery\", \"Candied & Chocolate Covered Fruit\", \"Candy & Chocolate\", \"Coffee\", \"Condiments & Sauces\", \"Cooking & Baking Ingredients\", \"Dairy Products\", \"Dips & Spreads\", \"Food Gift Baskets\", \"Frozen Desserts & Novelties\", \"Fruit Flavored Drinks\", \"Fruits & Vegetables\", \"Grains, Rice & Cereal\", \"Hot Chocolate\", \"Juice\", \"Meat, Seafood & Eggs\", \"Milk\", \"Non-Dairy Milk\", \"Nuts & Seeds\", \"Pasta & Noodles\", \"Powdered Beverage Mixes\", \"Prepared Foods\", \"Prepared Meals\", \"Seasonings & Spices\", \"Snack Foods\", \"Soda\", \"Soups & Broths\", \"Sports & Energy Drinks\", \"Tea & Infusions\", \"Tofu, Soy & Vegetarian Products\", \"Vinegar Drinks\", \"Water\"], \"y\": [0.706255, 0.003804, 0.39659099999999997, 0.27106199999999997, 0.608622, 0.5387430000000001, 0.6962520000000001, 0.469146, 0.001127, 0.290223, 0.229501, 0.7386590000000001, 0.48703900000000006, 0.013525, 0.387151, null, 0.513807, 0.093125, 0.202592, 0.384052, 0.07776799999999999, 0.68625, 0.001972, 0.332488, 0.6941390000000001, 0.384756, 0.24570300000000003, 0.157368, 0.21597600000000003, 0.030149000000000002, 0.001691, 0.355452]}, {\"connectgaps\": false, \"line\": {\"dash\": \"solid\"}, \"mode\": \"lines+markers\", \"name\": \"Milk\", \"type\": \"scatter\", \"x\": [\"Bakery\", \"Candied & Chocolate Covered Fruit\", \"Candy & Chocolate\", \"Coffee\", \"Condiments & Sauces\", \"Cooking & Baking Ingredients\", \"Dairy Products\", \"Dips & Spreads\", \"Food Gift Baskets\", \"Frozen Desserts & Novelties\", \"Fruit Flavored Drinks\", \"Fruits & Vegetables\", \"Grains, Rice & Cereal\", \"Hot Chocolate\", \"Juice\", \"Meat, Seafood & Eggs\", \"Milk\", \"Non-Dairy Milk\", \"Nuts & Seeds\", \"Pasta & Noodles\", \"Powdered Beverage Mixes\", \"Prepared Foods\", \"Prepared Meals\", \"Seasonings & Spices\", \"Snack Foods\", \"Soda\", \"Soups & Broths\", \"Sports & Energy Drinks\", \"Tea & Infusions\", \"Tofu, Soy & Vegetarian Products\", \"Vinegar Drinks\", \"Water\"], \"y\": [0.858057, 0.00545, 0.515166, 0.349526, 0.740521, 0.679384, 0.8464450000000001, 0.598341, 0.001185, 0.386493, 0.29383899999999996, 0.873934, 0.65, 0.020853, 0.515403, 0.864218, null, 0.112322, 0.257583, 0.503555, 0.099526, 0.779147, 0.0016589999999999999, 0.41872, 0.83436, 0.48720399999999997, 0.313744, 0.197156, 0.280332, 0.039336, 0.001422, 0.446445]}, {\"connectgaps\": false, \"line\": {\"dash\": \"solid\"}, \"mode\": \"lines+markers\", \"name\": \"Non-Dairy Milk\", \"type\": \"scatter\", \"x\": [\"Bakery\", \"Candied & Chocolate Covered Fruit\", \"Candy & Chocolate\", \"Coffee\", \"Condiments & Sauces\", \"Cooking & Baking Ingredients\", \"Dairy Products\", \"Dips & Spreads\", \"Food Gift Baskets\", \"Frozen Desserts & Novelties\", \"Fruit Flavored Drinks\", \"Fruits & Vegetables\", \"Grains, Rice & Cereal\", \"Hot Chocolate\", \"Juice\", \"Meat, Seafood & Eggs\", \"Milk\", \"Non-Dairy Milk\", \"Nuts & Seeds\", \"Pasta & Noodles\", \"Powdered Beverage Mixes\", \"Prepared Foods\", \"Prepared Meals\", \"Seasonings & Spices\", \"Snack Foods\", \"Soda\", \"Soups & Broths\", \"Sports & Energy Drinks\", \"Tea & Infusions\", \"Tofu, Soy & Vegetarian Products\", \"Vinegar Drinks\", \"Water\"], \"y\": [0.796044, 0.009889, 0.5030899999999999, 0.38937, 0.757726, 0.709518, 0.810878, 0.640297, 0.0, 0.364648, 0.296663, 0.856613, 0.6600739999999999, 0.018541, 0.512979, 0.817058, 0.585909, null, 0.368356, 0.487021, 0.09270700000000001, 0.749073, 0.0, 0.45117399999999996, 0.802225, 0.41656400000000005, 0.33621799999999996, 0.197775, 0.283066, 0.090235, 0.001236, 0.45859099999999997]}, {\"connectgaps\": false, \"line\": {\"dash\": \"solid\"}, \"mode\": \"lines+markers\", \"name\": \"Nuts & Seeds\", \"type\": \"scatter\", \"x\": [\"Bakery\", \"Candied & Chocolate Covered Fruit\", \"Candy & Chocolate\", \"Coffee\", \"Condiments & Sauces\", \"Cooking & Baking Ingredients\", \"Dairy Products\", \"Dips & Spreads\", \"Food Gift Baskets\", \"Frozen Desserts & Novelties\", \"Fruit Flavored Drinks\", \"Fruits & Vegetables\", \"Grains, Rice & Cereal\", \"Hot Chocolate\", \"Juice\", \"Meat, Seafood & Eggs\", \"Milk\", \"Non-Dairy Milk\", \"Nuts & Seeds\", \"Pasta & Noodles\", \"Powdered Beverage Mixes\", \"Prepared Foods\", \"Prepared Meals\", \"Seasonings & Spices\", \"Snack Foods\", \"Soda\", \"Soups & Broths\", \"Sports & Energy Drinks\", \"Tea & Infusions\", \"Tofu, Soy & Vegetarian Products\", \"Vinegar Drinks\", \"Water\"], \"y\": [0.684545, 0.0077269999999999995, 0.47727299999999995, 0.317727, 0.634091, 0.619091, 0.657273, 0.502727, 0.002273, 0.313182, 0.241364, 0.740909, 0.5722729999999999, 0.016364, 0.406364, 0.653636, 0.494091, 0.135455, null, 0.408182, 0.08454500000000001, 0.608636, 0.000455, 0.43318199999999996, 0.746364, 0.36636399999999997, 0.27318200000000004, 0.17, 0.264545, 0.045, 0.001364, 0.373182]}, {\"connectgaps\": false, \"line\": {\"dash\": \"solid\"}, \"mode\": \"lines+markers\", \"name\": \"Pasta & Noodles\", \"type\": \"scatter\", \"x\": [\"Bakery\", \"Candied & Chocolate Covered Fruit\", \"Candy & Chocolate\", \"Coffee\", \"Condiments & Sauces\", \"Cooking & Baking Ingredients\", \"Dairy Products\", \"Dips & Spreads\", \"Food Gift Baskets\", \"Frozen Desserts & Novelties\", \"Fruit Flavored Drinks\", \"Fruits & Vegetables\", \"Grains, Rice & Cereal\", \"Hot Chocolate\", \"Juice\", \"Meat, Seafood & Eggs\", \"Milk\", \"Non-Dairy Milk\", \"Nuts & Seeds\", \"Pasta & Noodles\", \"Powdered Beverage Mixes\", \"Prepared Foods\", \"Prepared Meals\", \"Seasonings & Spices\", \"Snack Foods\", \"Soda\", \"Soups & Broths\", \"Sports & Energy Drinks\", \"Tea & Infusions\", \"Tofu, Soy & Vegetarian Products\", \"Vinegar Drinks\", \"Water\"], \"y\": [0.7752680000000001, 0.0048, 0.48644799999999994, 0.32269899999999996, 0.72812, 0.658385, 0.7636930000000001, 0.5765100000000001, 0.001129, 0.346132, 0.27526799999999996, 0.7972899999999999, 0.616318, 0.017222, 0.470638, 0.769622, 0.5999439999999999, 0.11123699999999999, 0.253529, null, 0.100508, 0.7608699999999999, 0.0008470000000000001, 0.42349, 0.793902, 0.451158, 0.322417, 0.195935, 0.269339, 0.041502, 0.002259, 0.409656]}, {\"connectgaps\": false, \"line\": {\"dash\": \"solid\"}, \"mode\": \"lines+markers\", \"name\": \"Powdered Beverage Mixes\", \"type\": \"scatter\", \"x\": [\"Bakery\", \"Candied & Chocolate Covered Fruit\", \"Candy & Chocolate\", \"Coffee\", \"Condiments & Sauces\", \"Cooking & Baking Ingredients\", \"Dairy Products\", \"Dips & Spreads\", \"Food Gift Baskets\", \"Frozen Desserts & Novelties\", \"Fruit Flavored Drinks\", \"Fruits & Vegetables\", \"Grains, Rice & Cereal\", \"Hot Chocolate\", \"Juice\", \"Meat, Seafood & Eggs\", \"Milk\", \"Non-Dairy Milk\", \"Nuts & Seeds\", \"Pasta & Noodles\", \"Powdered Beverage Mixes\", \"Prepared Foods\", \"Prepared Meals\", \"Seasonings & Spices\", \"Snack Foods\", \"Soda\", \"Soups & Broths\", \"Sports & Energy Drinks\", \"Tea & Infusions\", \"Tofu, Soy & Vegetarian Products\", \"Vinegar Drinks\", \"Water\"], \"y\": [0.72549, 0.002614, 0.473203, 0.324183, 0.69281, 0.639216, 0.699346, 0.528105, 0.002614, 0.311111, 0.345098, 0.7320260000000001, 0.562092, 0.014379, 0.43137299999999995, 0.7215689999999999, 0.54902, 0.098039, 0.243137, 0.465359, null, 0.666667, 0.001307, 0.39869299999999996, 0.776471, 0.42614399999999997, 0.290196, 0.261438, 0.24183000000000002, 0.018300999999999998, 0.0, 0.397386]}, {\"connectgaps\": false, \"line\": {\"dash\": \"solid\"}, \"mode\": \"lines+markers\", \"name\": \"Prepared Foods\", \"type\": \"scatter\", \"x\": [\"Bakery\", \"Candied & Chocolate Covered Fruit\", \"Candy & Chocolate\", \"Coffee\", \"Condiments & Sauces\", \"Cooking & Baking Ingredients\", \"Dairy Products\", \"Dips & Spreads\", \"Food Gift Baskets\", \"Frozen Desserts & Novelties\", \"Fruit Flavored Drinks\", \"Fruits & Vegetables\", \"Grains, Rice & Cereal\", \"Hot Chocolate\", \"Juice\", \"Meat, Seafood & Eggs\", \"Milk\", \"Non-Dairy Milk\", \"Nuts & Seeds\", \"Pasta & Noodles\", \"Powdered Beverage Mixes\", \"Prepared Foods\", \"Prepared Meals\", \"Seasonings & Spices\", \"Snack Foods\", \"Soda\", \"Soups & Broths\", \"Sports & Energy Drinks\", \"Tea & Infusions\", \"Tofu, Soy & Vegetarian Products\", \"Vinegar Drinks\", \"Water\"], \"y\": [0.43696999999999997, 0.003266, 0.24691, 0.165784, 0.361582, 0.31214699999999995, 0.403337, 0.27816, 0.000618, 0.18291, 0.13833, 0.426907, 0.287518, 0.010152, 0.22766599999999998, 0.429996, 0.290254, 0.053496, 0.118203, 0.237906, 0.045021, null, 0.003266, 0.191031, 0.43114399999999997, 0.242673, 0.14962899999999998, 0.094809, 0.140802, 0.01898, 0.000883, 0.21539499999999998]}, {\"connectgaps\": false, \"line\": {\"dash\": \"solid\"}, \"mode\": \"lines+markers\", \"name\": \"Prepared Meals\", \"type\": \"scatter\", \"x\": [\"Bakery\", \"Candied & Chocolate Covered Fruit\", \"Candy & Chocolate\", \"Coffee\", \"Condiments & Sauces\", \"Cooking & Baking Ingredients\", \"Dairy Products\", \"Dips & Spreads\", \"Food Gift Baskets\", \"Frozen Desserts & Novelties\", \"Fruit Flavored Drinks\", \"Fruits & Vegetables\", \"Grains, Rice & Cereal\", \"Hot Chocolate\", \"Juice\", \"Meat, Seafood & Eggs\", \"Milk\", \"Non-Dairy Milk\", \"Nuts & Seeds\", \"Pasta & Noodles\", \"Powdered Beverage Mixes\", \"Prepared Foods\", \"Prepared Meals\", \"Seasonings & Spices\", \"Snack Foods\", \"Soda\", \"Soups & Broths\", \"Sports & Energy Drinks\", \"Tea & Infusions\", \"Tofu, Soy & Vegetarian Products\", \"Vinegar Drinks\", \"Water\"], \"y\": [0.241379, 0.022989, 0.068966, 0.126437, 0.183908, 0.034483, 0.137931, 0.057471, 0.011493999999999999, 0.137931, 0.011493999999999999, 0.103448, 0.068966, 0.022989, 0.149425, 0.16092, 0.08046, 0.0, 0.011493999999999999, 0.034483, 0.011493999999999999, 0.42528699999999997, null, 0.022989, 0.20689699999999997, 0.126437, 0.011493999999999999, 0.011493999999999999, 0.068966, 0.0, 0.0, 0.011493999999999999]}, {\"connectgaps\": false, \"line\": {\"dash\": \"solid\"}, \"mode\": \"lines+markers\", \"name\": \"Seasonings & Spices\", \"type\": \"scatter\", \"x\": [\"Bakery\", \"Candied & Chocolate Covered Fruit\", \"Candy & Chocolate\", \"Coffee\", \"Condiments & Sauces\", \"Cooking & Baking Ingredients\", \"Dairy Products\", \"Dips & Spreads\", \"Food Gift Baskets\", \"Frozen Desserts & Novelties\", \"Fruit Flavored Drinks\", \"Fruits & Vegetables\", \"Grains, Rice & Cereal\", \"Hot Chocolate\", \"Juice\", \"Meat, Seafood & Eggs\", \"Milk\", \"Non-Dairy Milk\", \"Nuts & Seeds\", \"Pasta & Noodles\", \"Powdered Beverage Mixes\", \"Prepared Foods\", \"Prepared Meals\", \"Seasonings & Spices\", \"Snack Foods\", \"Soda\", \"Soups & Broths\", \"Sports & Energy Drinks\", \"Tea & Infusions\", \"Tofu, Soy & Vegetarian Products\", \"Vinegar Drinks\", \"Water\"], \"y\": [0.7312420000000001, 0.004305, 0.4508, 0.30842600000000003, 0.6937270000000001, 0.682042, 0.730627, 0.522755, 0.000923, 0.314268, 0.24169699999999997, 0.78567, 0.578721, 0.014759999999999999, 0.428967, 0.725707, 0.543358, 0.112239, 0.29305, 0.461255, 0.093788, 0.665437, 0.000615, null, 0.742005, 0.395756, 0.310271, 0.166667, 0.26721999999999996, 0.040898000000000004, 0.0018449999999999999, 0.373309]}, {\"connectgaps\": false, \"line\": {\"dash\": \"solid\"}, \"mode\": \"lines+markers\", \"name\": \"Snack Foods\", \"type\": \"scatter\", \"x\": [\"Bakery\", \"Candied & Chocolate Covered Fruit\", \"Candy & Chocolate\", \"Coffee\", \"Condiments & Sauces\", \"Cooking & Baking Ingredients\", \"Dairy Products\", \"Dips & Spreads\", \"Food Gift Baskets\", \"Frozen Desserts & Novelties\", \"Fruit Flavored Drinks\", \"Fruits & Vegetables\", \"Grains, Rice & Cereal\", \"Hot Chocolate\", \"Juice\", \"Meat, Seafood & Eggs\", \"Milk\", \"Non-Dairy Milk\", \"Nuts & Seeds\", \"Pasta & Noodles\", \"Powdered Beverage Mixes\", \"Prepared Foods\", \"Prepared Meals\", \"Seasonings & Spices\", \"Snack Foods\", \"Soda\", \"Soups & Broths\", \"Sports & Energy Drinks\", \"Tea & Infusions\", \"Tofu, Soy & Vegetarian Products\", \"Vinegar Drinks\", \"Water\"], \"y\": [0.6012649999999999, 0.00322, 0.383324, 0.240943, 0.502473, 0.459114, 0.556412, 0.39632, 0.000805, 0.23576799999999998, 0.19148900000000002, 0.592639, 0.42737200000000003, 0.011041, 0.321104, 0.566647, 0.404945, 0.074641, 0.188844, 0.32340399999999997, 0.068315, 0.561702, 0.00207, 0.277516, null, 0.340771, 0.2023, 0.145601, 0.186199, 0.023922, 0.001265, 0.299827]}, {\"connectgaps\": false, \"line\": {\"dash\": \"solid\"}, \"mode\": \"lines+markers\", \"name\": \"Soda\", \"type\": \"scatter\", \"x\": [\"Bakery\", \"Candied & Chocolate Covered Fruit\", \"Candy & Chocolate\", \"Coffee\", \"Condiments & Sauces\", \"Cooking & Baking Ingredients\", \"Dairy Products\", \"Dips & Spreads\", \"Food Gift Baskets\", \"Frozen Desserts & Novelties\", \"Fruit Flavored Drinks\", \"Fruits & Vegetables\", \"Grains, Rice & Cereal\", \"Hot Chocolate\", \"Juice\", \"Meat, Seafood & Eggs\", \"Milk\", \"Non-Dairy Milk\", \"Nuts & Seeds\", \"Pasta & Noodles\", \"Powdered Beverage Mixes\", \"Prepared Foods\", \"Prepared Meals\", \"Seasonings & Spices\", \"Snack Foods\", \"Soda\", \"Soups & Broths\", \"Sports & Energy Drinks\", \"Tea & Infusions\", \"Tofu, Soy & Vegetarian Products\", \"Vinegar Drinks\", \"Water\"], \"y\": [0.600693, 0.0034649999999999998, 0.397358, 0.247077, 0.522737, 0.4699, 0.580987, 0.41403199999999996, 0.0, 0.27566, 0.23213499999999998, 0.596579, 0.41728000000000004, 0.013209, 0.3534, 0.591382, 0.44521400000000005, 0.072975, 0.174534, 0.346037, 0.07059299999999999, 0.595279, 0.002382, 0.278692, 0.64162, null, 0.22260700000000003, 0.17605, 0.203118, 0.021654, 0.001083, 0.354916]}, {\"connectgaps\": false, \"line\": {\"dash\": \"solid\"}, \"mode\": \"lines+markers\", \"name\": \"Soups & Broths\", \"type\": \"scatter\", \"x\": [\"Bakery\", \"Candied & Chocolate Covered Fruit\", \"Candy & Chocolate\", \"Coffee\", \"Condiments & Sauces\", \"Cooking & Baking Ingredients\", \"Dairy Products\", \"Dips & Spreads\", \"Food Gift Baskets\", \"Frozen Desserts & Novelties\", \"Fruit Flavored Drinks\", \"Fruits & Vegetables\", \"Grains, Rice & Cereal\", \"Hot Chocolate\", \"Juice\", \"Meat, Seafood & Eggs\", \"Milk\", \"Non-Dairy Milk\", \"Nuts & Seeds\", \"Pasta & Noodles\", \"Powdered Beverage Mixes\", \"Prepared Foods\", \"Prepared Meals\", \"Seasonings & Spices\", \"Snack Foods\", \"Soda\", \"Soups & Broths\", \"Sports & Energy Drinks\", \"Tea & Infusions\", \"Tofu, Soy & Vegetarian Products\", \"Vinegar Drinks\", \"Water\"], \"y\": [0.7977890000000001, 0.004146, 0.494242, 0.346384, 0.758637, 0.678489, 0.773837, 0.5997239999999999, 0.00046100000000000004, 0.365269, 0.268079, 0.825887, 0.625058, 0.017043, 0.479042, 0.803316, 0.609857, 0.125288, 0.276831, 0.526025, 0.102257, 0.780746, 0.00046100000000000004, 0.46476300000000004, 0.810226, 0.47351499999999996, null, 0.205896, 0.285583, 0.042377, 0.004606, 0.42745299999999997]}, {\"connectgaps\": false, \"line\": {\"dash\": \"solid\"}, \"mode\": \"lines+markers\", \"name\": \"Sports & Energy Drinks\", \"type\": \"scatter\", \"x\": [\"Bakery\", \"Candied & Chocolate Covered Fruit\", \"Candy & Chocolate\", \"Coffee\", \"Condiments & Sauces\", \"Cooking & Baking Ingredients\", \"Dairy Products\", \"Dips & Spreads\", \"Food Gift Baskets\", \"Frozen Desserts & Novelties\", \"Fruit Flavored Drinks\", \"Fruits & Vegetables\", \"Grains, Rice & Cereal\", \"Hot Chocolate\", \"Juice\", \"Meat, Seafood & Eggs\", \"Milk\", \"Non-Dairy Milk\", \"Nuts & Seeds\", \"Pasta & Noodles\", \"Powdered Beverage Mixes\", \"Prepared Foods\", \"Prepared Meals\", \"Seasonings & Spices\", \"Snack Foods\", \"Soda\", \"Soups & Broths\", \"Sports & Energy Drinks\", \"Tea & Infusions\", \"Tofu, Soy & Vegetarian Products\", \"Vinegar Drinks\", \"Water\"], \"y\": [0.604603, 0.0026149999999999997, 0.399582, 0.24110900000000002, 0.5062760000000001, 0.45815900000000004, 0.562762, 0.41527200000000003, 0.0, 0.24267800000000003, 0.273013, 0.573222, 0.417364, 0.005753, 0.35251, 0.584205, 0.435146, 0.083682, 0.195607, 0.362971, 0.104603, 0.561715, 0.000523, 0.283473, 0.662134, 0.425209, 0.233787, null, 0.22018800000000002, 0.009414, 0.001046, 0.40010500000000004]}, {\"connectgaps\": false, \"line\": {\"dash\": \"solid\"}, \"mode\": \"lines+markers\", \"name\": \"Tea & Infusions\", \"type\": \"scatter\", \"x\": [\"Bakery\", \"Candied & Chocolate Covered Fruit\", \"Candy & Chocolate\", \"Coffee\", \"Condiments & Sauces\", \"Cooking & Baking Ingredients\", \"Dairy Products\", \"Dips & Spreads\", \"Food Gift Baskets\", \"Frozen Desserts & Novelties\", \"Fruit Flavored Drinks\", \"Fruits & Vegetables\", \"Grains, Rice & Cereal\", \"Hot Chocolate\", \"Juice\", \"Meat, Seafood & Eggs\", \"Milk\", \"Non-Dairy Milk\", \"Nuts & Seeds\", \"Pasta & Noodles\", \"Powdered Beverage Mixes\", \"Prepared Foods\", \"Prepared Meals\", \"Seasonings & Spices\", \"Snack Foods\", \"Soda\", \"Soups & Broths\", \"Sports & Energy Drinks\", \"Tea & Infusions\", \"Tofu, Soy & Vegetarian Products\", \"Vinegar Drinks\", \"Water\"], \"y\": [0.561746, 0.0063880000000000004, 0.36195900000000003, 0.293471, 0.490774, 0.48332200000000003, 0.541519, 0.386799, 0.001065, 0.259404, 0.20794899999999997, 0.570263, 0.42902799999999996, 0.016678, 0.337119, 0.544003, 0.41980100000000004, 0.081263, 0.206529, 0.338538, 0.065649, 0.566004, 0.002129, 0.308375, 0.574521, 0.33286, 0.220014, 0.149397, null, 0.026614999999999996, 0.0017739999999999998, 0.30873]}, {\"connectgaps\": false, \"line\": {\"dash\": \"solid\"}, \"mode\": \"lines+markers\", \"name\": \"Tofu, Soy & Vegetarian Products\", \"type\": \"scatter\", \"x\": [\"Bakery\", \"Candied & Chocolate Covered Fruit\", \"Candy & Chocolate\", \"Coffee\", \"Condiments & Sauces\", \"Cooking & Baking Ingredients\", \"Dairy Products\", \"Dips & Spreads\", \"Food Gift Baskets\", \"Frozen Desserts & Novelties\", \"Fruit Flavored Drinks\", \"Fruits & Vegetables\", \"Grains, Rice & Cereal\", \"Hot Chocolate\", \"Juice\", \"Meat, Seafood & Eggs\", \"Milk\", \"Non-Dairy Milk\", \"Nuts & Seeds\", \"Pasta & Noodles\", \"Powdered Beverage Mixes\", \"Prepared Foods\", \"Prepared Meals\", \"Seasonings & Spices\", \"Snack Foods\", \"Soda\", \"Soups & Broths\", \"Sports & Energy Drinks\", \"Tea & Infusions\", \"Tofu, Soy & Vegetarian Products\", \"Vinegar Drinks\", \"Water\"], \"y\": [0.7601479999999999, 0.0036899999999999997, 0.546125, 0.369004, 0.741697, 0.660517, 0.767528, 0.656827, 0.0, 0.442804, 0.302583, 0.8339479999999999, 0.664207, 0.0369, 0.509225, 0.789668, 0.612546, 0.26937300000000003, 0.36531399999999997, 0.542435, 0.051661, 0.793358, 0.0, 0.490775, 0.767528, 0.369004, 0.339483, 0.06642100000000001, 0.276753, null, 0.0, 0.391144]}, {\"connectgaps\": false, \"line\": {\"dash\": \"solid\"}, \"mode\": \"lines+markers\", \"name\": \"Vinegar Drinks\", \"type\": \"scatter\", \"x\": [\"Bakery\", \"Candied & Chocolate Covered Fruit\", \"Candy & Chocolate\", \"Coffee\", \"Condiments & Sauces\", \"Cooking & Baking Ingredients\", \"Dairy Products\", \"Dips & Spreads\", \"Food Gift Baskets\", \"Frozen Desserts & Novelties\", \"Fruit Flavored Drinks\", \"Fruits & Vegetables\", \"Grains, Rice & Cereal\", \"Hot Chocolate\", \"Juice\", \"Meat, Seafood & Eggs\", \"Milk\", \"Non-Dairy Milk\", \"Nuts & Seeds\", \"Pasta & Noodles\", \"Powdered Beverage Mixes\", \"Prepared Foods\", \"Prepared Meals\", \"Seasonings & Spices\", \"Snack Foods\", \"Soda\", \"Soups & Broths\", \"Sports & Energy Drinks\", \"Tea & Infusions\", \"Tofu, Soy & Vegetarian Products\", \"Vinegar Drinks\", \"Water\"], \"y\": [0.631579, 0.0, 0.157895, 0.21052600000000002, 0.578947, 0.578947, 0.473684, 0.368421, 0.0, 0.315789, 0.263158, 0.684211, 0.315789, 0.0, 0.473684, 0.631579, 0.315789, 0.052632000000000005, 0.157895, 0.42105299999999996, 0.0, 0.526316, 0.0, 0.315789, 0.578947, 0.263158, 0.526316, 0.10526300000000001, 0.263158, 0.0, null, 0.21052600000000002]}, {\"connectgaps\": false, \"line\": {\"dash\": \"solid\"}, \"mode\": \"lines+markers\", \"name\": \"Water\", \"type\": \"scatter\", \"x\": [\"Bakery\", \"Candied & Chocolate Covered Fruit\", \"Candy & Chocolate\", \"Coffee\", \"Condiments & Sauces\", \"Cooking & Baking Ingredients\", \"Dairy Products\", \"Dips & Spreads\", \"Food Gift Baskets\", \"Frozen Desserts & Novelties\", \"Fruit Flavored Drinks\", \"Fruits & Vegetables\", \"Grains, Rice & Cereal\", \"Hot Chocolate\", \"Juice\", \"Meat, Seafood & Eggs\", \"Milk\", \"Non-Dairy Milk\", \"Nuts & Seeds\", \"Pasta & Noodles\", \"Powdered Beverage Mixes\", \"Prepared Foods\", \"Prepared Meals\", \"Seasonings & Spices\", \"Snack Foods\", \"Soda\", \"Soups & Broths\", \"Sports & Energy Drinks\", \"Tea & Infusions\", \"Tofu, Soy & Vegetarian Products\", \"Vinegar Drinks\", \"Water\"], \"y\": [0.705866, 0.003336, 0.45148699999999997, 0.30303, 0.614679, 0.552127, 0.674729, 0.490965, 0.001668, 0.312205, 0.289964, 0.710314, 0.512649, 0.011676, 0.429803, 0.701418, 0.52377, 0.10314200000000001, 0.228246, 0.40339200000000003, 0.08451499999999999, 0.678343, 0.000278, 0.337503, 0.724771, 0.455657, 0.257993, 0.212677, 0.24186799999999997, 0.029469, 0.001112, null]}],                        {\"autosize\": false, \"height\": 600, \"template\": {\"data\": {\"bar\": [{\"error_x\": {\"color\": \"#2a3f5f\"}, \"error_y\": {\"color\": \"#2a3f5f\"}, \"marker\": {\"line\": {\"color\": \"#E5ECF6\", \"width\": 0.5}}, \"type\": \"bar\"}], \"barpolar\": [{\"marker\": {\"line\": {\"color\": \"#E5ECF6\", \"width\": 0.5}}, \"type\": \"barpolar\"}], \"carpet\": [{\"aaxis\": {\"endlinecolor\": \"#2a3f5f\", \"gridcolor\": \"white\", \"linecolor\": \"white\", \"minorgridcolor\": \"white\", \"startlinecolor\": \"#2a3f5f\"}, \"baxis\": {\"endlinecolor\": \"#2a3f5f\", \"gridcolor\": \"white\", \"linecolor\": \"white\", \"minorgridcolor\": \"white\", \"startlinecolor\": \"#2a3f5f\"}, \"type\": \"carpet\"}], \"choropleth\": [{\"colorbar\": {\"outlinewidth\": 0, \"ticks\": \"\"}, \"type\": \"choropleth\"}], \"contour\": [{\"colorbar\": {\"outlinewidth\": 0, \"ticks\": \"\"}, \"colorscale\": [[0.0, \"#0d0887\"], [0.1111111111111111, \"#46039f\"], [0.2222222222222222, \"#7201a8\"], [0.3333333333333333, \"#9c179e\"], [0.4444444444444444, \"#bd3786\"], [0.5555555555555556, \"#d8576b\"], [0.6666666666666666, \"#ed7953\"], [0.7777777777777778, \"#fb9f3a\"], [0.8888888888888888, \"#fdca26\"], [1.0, \"#f0f921\"]], \"type\": \"contour\"}], \"contourcarpet\": [{\"colorbar\": {\"outlinewidth\": 0, \"ticks\": \"\"}, \"type\": \"contourcarpet\"}], \"heatmap\": [{\"colorbar\": {\"outlinewidth\": 0, \"ticks\": \"\"}, \"colorscale\": [[0.0, \"#0d0887\"], [0.1111111111111111, \"#46039f\"], [0.2222222222222222, \"#7201a8\"], [0.3333333333333333, \"#9c179e\"], [0.4444444444444444, \"#bd3786\"], [0.5555555555555556, \"#d8576b\"], [0.6666666666666666, \"#ed7953\"], [0.7777777777777778, \"#fb9f3a\"], [0.8888888888888888, \"#fdca26\"], [1.0, \"#f0f921\"]], \"type\": \"heatmap\"}], \"heatmapgl\": [{\"colorbar\": {\"outlinewidth\": 0, \"ticks\": \"\"}, \"colorscale\": [[0.0, \"#0d0887\"], [0.1111111111111111, \"#46039f\"], [0.2222222222222222, \"#7201a8\"], [0.3333333333333333, \"#9c179e\"], [0.4444444444444444, \"#bd3786\"], [0.5555555555555556, \"#d8576b\"], [0.6666666666666666, \"#ed7953\"], [0.7777777777777778, \"#fb9f3a\"], [0.8888888888888888, \"#fdca26\"], [1.0, \"#f0f921\"]], \"type\": \"heatmapgl\"}], \"histogram\": [{\"marker\": {\"colorbar\": {\"outlinewidth\": 0, \"ticks\": \"\"}}, \"type\": \"histogram\"}], \"histogram2d\": [{\"colorbar\": {\"outlinewidth\": 0, \"ticks\": \"\"}, \"colorscale\": [[0.0, \"#0d0887\"], [0.1111111111111111, \"#46039f\"], [0.2222222222222222, \"#7201a8\"], [0.3333333333333333, \"#9c179e\"], [0.4444444444444444, \"#bd3786\"], [0.5555555555555556, \"#d8576b\"], [0.6666666666666666, \"#ed7953\"], [0.7777777777777778, \"#fb9f3a\"], [0.8888888888888888, \"#fdca26\"], [1.0, \"#f0f921\"]], \"type\": \"histogram2d\"}], \"histogram2dcontour\": [{\"colorbar\": {\"outlinewidth\": 0, \"ticks\": \"\"}, \"colorscale\": [[0.0, \"#0d0887\"], [0.1111111111111111, \"#46039f\"], [0.2222222222222222, \"#7201a8\"], [0.3333333333333333, \"#9c179e\"], [0.4444444444444444, \"#bd3786\"], [0.5555555555555556, \"#d8576b\"], [0.6666666666666666, \"#ed7953\"], [0.7777777777777778, \"#fb9f3a\"], [0.8888888888888888, \"#fdca26\"], [1.0, \"#f0f921\"]], \"type\": \"histogram2dcontour\"}], \"mesh3d\": [{\"colorbar\": {\"outlinewidth\": 0, \"ticks\": \"\"}, \"type\": \"mesh3d\"}], \"parcoords\": [{\"line\": {\"colorbar\": {\"outlinewidth\": 0, \"ticks\": \"\"}}, \"type\": \"parcoords\"}], \"pie\": [{\"automargin\": true, \"type\": \"pie\"}], \"scatter\": [{\"marker\": {\"colorbar\": {\"outlinewidth\": 0, \"ticks\": \"\"}}, \"type\": \"scatter\"}], \"scatter3d\": [{\"line\": {\"colorbar\": {\"outlinewidth\": 0, \"ticks\": \"\"}}, \"marker\": {\"colorbar\": {\"outlinewidth\": 0, \"ticks\": \"\"}}, \"type\": \"scatter3d\"}], \"scattercarpet\": [{\"marker\": {\"colorbar\": {\"outlinewidth\": 0, \"ticks\": \"\"}}, \"type\": \"scattercarpet\"}], \"scattergeo\": [{\"marker\": {\"colorbar\": {\"outlinewidth\": 0, \"ticks\": \"\"}}, \"type\": \"scattergeo\"}], \"scattergl\": [{\"marker\": {\"colorbar\": {\"outlinewidth\": 0, \"ticks\": \"\"}}, \"type\": \"scattergl\"}], \"scattermapbox\": [{\"marker\": {\"colorbar\": {\"outlinewidth\": 0, \"ticks\": \"\"}}, \"type\": \"scattermapbox\"}], \"scatterpolar\": [{\"marker\": {\"colorbar\": {\"outlinewidth\": 0, \"ticks\": \"\"}}, \"type\": \"scatterpolar\"}], \"scatterpolargl\": [{\"marker\": {\"colorbar\": {\"outlinewidth\": 0, \"ticks\": \"\"}}, \"type\": \"scatterpolargl\"}], \"scatterternary\": [{\"marker\": {\"colorbar\": {\"outlinewidth\": 0, \"ticks\": \"\"}}, \"type\": \"scatterternary\"}], \"surface\": [{\"colorbar\": {\"outlinewidth\": 0, \"ticks\": \"\"}, \"colorscale\": [[0.0, \"#0d0887\"], [0.1111111111111111, \"#46039f\"], [0.2222222222222222, \"#7201a8\"], [0.3333333333333333, \"#9c179e\"], [0.4444444444444444, \"#bd3786\"], [0.5555555555555556, \"#d8576b\"], [0.6666666666666666, \"#ed7953\"], [0.7777777777777778, \"#fb9f3a\"], [0.8888888888888888, \"#fdca26\"], [1.0, \"#f0f921\"]], \"type\": \"surface\"}], \"table\": [{\"cells\": {\"fill\": {\"color\": \"#EBF0F8\"}, \"line\": {\"color\": \"white\"}}, \"header\": {\"fill\": {\"color\": \"#C8D4E3\"}, \"line\": {\"color\": \"white\"}}, \"type\": \"table\"}]}, \"layout\": {\"annotationdefaults\": {\"arrowcolor\": \"#2a3f5f\", \"arrowhead\": 0, \"arrowwidth\": 1}, \"coloraxis\": {\"colorbar\": {\"outlinewidth\": 0, \"ticks\": \"\"}}, \"colorscale\": {\"diverging\": [[0, \"#8e0152\"], [0.1, \"#c51b7d\"], [0.2, \"#de77ae\"], [0.3, \"#f1b6da\"], [0.4, \"#fde0ef\"], [0.5, \"#f7f7f7\"], [0.6, \"#e6f5d0\"], [0.7, \"#b8e186\"], [0.8, \"#7fbc41\"], [0.9, \"#4d9221\"], [1, \"#276419\"]], \"sequential\": [[0.0, \"#0d0887\"], [0.1111111111111111, \"#46039f\"], [0.2222222222222222, \"#7201a8\"], [0.3333333333333333, \"#9c179e\"], [0.4444444444444444, \"#bd3786\"], [0.5555555555555556, \"#d8576b\"], [0.6666666666666666, \"#ed7953\"], [0.7777777777777778, \"#fb9f3a\"], [0.8888888888888888, \"#fdca26\"], [1.0, \"#f0f921\"]], \"sequentialminus\": [[0.0, \"#0d0887\"], [0.1111111111111111, \"#46039f\"], [0.2222222222222222, \"#7201a8\"], [0.3333333333333333, \"#9c179e\"], [0.4444444444444444, \"#bd3786\"], [0.5555555555555556, \"#d8576b\"], [0.6666666666666666, \"#ed7953\"], [0.7777777777777778, \"#fb9f3a\"], [0.8888888888888888, \"#fdca26\"], [1.0, \"#f0f921\"]]}, \"colorway\": [\"#636efa\", \"#EF553B\", \"#00cc96\", \"#ab63fa\", \"#FFA15A\", \"#19d3f3\", \"#FF6692\", \"#B6E880\", \"#FF97FF\", \"#FECB52\"], \"font\": {\"color\": \"#2a3f5f\"}, \"geo\": {\"bgcolor\": \"white\", \"lakecolor\": \"white\", \"landcolor\": \"#E5ECF6\", \"showlakes\": true, \"showland\": true, \"subunitcolor\": \"white\"}, \"hoverlabel\": {\"align\": \"left\"}, \"hovermode\": \"closest\", \"mapbox\": {\"style\": \"light\"}, \"paper_bgcolor\": \"white\", \"plot_bgcolor\": \"#E5ECF6\", \"polar\": {\"angularaxis\": {\"gridcolor\": \"white\", \"linecolor\": \"white\", \"ticks\": \"\"}, \"bgcolor\": \"#E5ECF6\", \"radialaxis\": {\"gridcolor\": \"white\", \"linecolor\": \"white\", \"ticks\": \"\"}}, \"scene\": {\"xaxis\": {\"backgroundcolor\": \"#E5ECF6\", \"gridcolor\": \"white\", \"gridwidth\": 2, \"linecolor\": \"white\", \"showbackground\": true, \"ticks\": \"\", \"zerolinecolor\": \"white\"}, \"yaxis\": {\"backgroundcolor\": \"#E5ECF6\", \"gridcolor\": \"white\", \"gridwidth\": 2, \"linecolor\": \"white\", \"showbackground\": true, \"ticks\": \"\", \"zerolinecolor\": \"white\"}, \"zaxis\": {\"backgroundcolor\": \"#E5ECF6\", \"gridcolor\": \"white\", \"gridwidth\": 2, \"linecolor\": \"white\", \"showbackground\": true, \"ticks\": \"\", \"zerolinecolor\": \"white\"}}, \"shapedefaults\": {\"line\": {\"color\": \"#2a3f5f\"}}, \"ternary\": {\"aaxis\": {\"gridcolor\": \"white\", \"linecolor\": \"white\", \"ticks\": \"\"}, \"baxis\": {\"gridcolor\": \"white\", \"linecolor\": \"white\", \"ticks\": \"\"}, \"bgcolor\": \"#E5ECF6\", \"caxis\": {\"gridcolor\": \"white\", \"linecolor\": \"white\", \"ticks\": \"\"}}, \"title\": {\"x\": 0.05}, \"xaxis\": {\"automargin\": true, \"gridcolor\": \"white\", \"linecolor\": \"white\", \"ticks\": \"\", \"title\": {\"standoff\": 15}, \"zerolinecolor\": \"white\", \"zerolinewidth\": 2}, \"yaxis\": {\"automargin\": true, \"gridcolor\": \"white\", \"linecolor\": \"white\", \"ticks\": \"\", \"title\": {\"standoff\": 15}, \"zerolinecolor\": \"white\", \"zerolinewidth\": 2}}}, \"updatemenus\": [{\"active\": 0, \"buttons\": [{\"args\": [{\"showlegend\": true, \"title\": \"All\", \"visible\": [true, true, true, true, true, true, true, true, true, true, true, true, true, true, true, true, true, true, true, true, true, true, true, true, true, true, true, true, true, true, true, true]}], \"label\": \"All\", \"method\": \"update\"}, {\"args\": [{\"showlegend\": true, \"title\": \"Bakery\", \"visible\": [true, false, false, false, false, false, false, false, false, false, false, false, false, false, false, false, false, false, false, false, false, false, false, false, false, false, false, false, false, false, false, false]}], \"label\": \"Bakery\", \"method\": \"update\"}, {\"args\": [{\"showlegend\": true, \"title\": \"Candied & Chocolate Covered Fruit\", \"visible\": [false, true, false, false, false, false, false, false, false, false, false, false, false, false, false, false, false, false, false, false, false, false, false, false, false, false, false, false, false, false, false, false]}], \"label\": \"Candied & Chocolate Covered Fruit\", \"method\": \"update\"}, {\"args\": [{\"showlegend\": true, \"title\": \"Candy & Chocolate\", \"visible\": [false, false, true, false, false, false, false, false, false, false, false, false, false, false, false, false, false, false, false, false, false, false, false, false, false, false, false, false, false, false, false, false]}], \"label\": \"Candy & Chocolate\", \"method\": \"update\"}, {\"args\": [{\"showlegend\": true, \"title\": \"Coffee\", \"visible\": [false, false, false, true, false, false, false, false, false, false, false, false, false, false, false, false, false, false, false, false, false, false, false, false, false, false, false, false, false, false, false, false]}], \"label\": \"Coffee\", \"method\": \"update\"}, {\"args\": [{\"showlegend\": true, \"title\": \"Condiments & Sauces\", \"visible\": [false, false, false, false, true, false, false, false, false, false, false, false, false, false, false, false, false, false, false, false, false, false, false, false, false, false, false, false, false, false, false, false]}], \"label\": \"Condiments & Sauces\", \"method\": \"update\"}, {\"args\": [{\"showlegend\": true, \"title\": \"Cooking & Baking Ingredients\", \"visible\": [false, false, false, false, false, true, false, false, false, false, false, false, false, false, false, false, false, false, false, false, false, false, false, false, false, false, false, false, false, false, false, false]}], \"label\": \"Cooking & Baking Ingredients\", \"method\": \"update\"}, {\"args\": [{\"showlegend\": true, \"title\": \"Dairy Products\", \"visible\": [false, false, false, false, false, false, true, false, false, false, false, false, false, false, false, false, false, false, false, false, false, false, false, false, false, false, false, false, false, false, false, false]}], \"label\": \"Dairy Products\", \"method\": \"update\"}, {\"args\": [{\"showlegend\": true, \"title\": \"Dips & Spreads\", \"visible\": [false, false, false, false, false, false, false, true, false, false, false, false, false, false, false, false, false, false, false, false, false, false, false, false, false, false, false, false, false, false, false, false]}], \"label\": \"Dips & Spreads\", \"method\": \"update\"}, {\"args\": [{\"showlegend\": true, \"title\": \"Food Gift Baskets\", \"visible\": [false, false, false, false, false, false, false, false, true, false, false, false, false, false, false, false, false, false, false, false, false, false, false, false, false, false, false, false, false, false, false, false]}], \"label\": \"Food Gift Baskets\", \"method\": \"update\"}, {\"args\": [{\"showlegend\": true, \"title\": \"Frozen Desserts & Novelties\", \"visible\": [false, false, false, false, false, false, false, false, false, true, false, false, false, false, false, false, false, false, false, false, false, false, false, false, false, false, false, false, false, false, false, false]}], \"label\": \"Frozen Desserts & Novelties\", \"method\": \"update\"}, {\"args\": [{\"showlegend\": true, \"title\": \"Fruit Flavored Drinks\", \"visible\": [false, false, false, false, false, false, false, false, false, false, true, false, false, false, false, false, false, false, false, false, false, false, false, false, false, false, false, false, false, false, false, false]}], \"label\": \"Fruit Flavored Drinks\", \"method\": \"update\"}, {\"args\": [{\"showlegend\": true, \"title\": \"Fruits & Vegetables\", \"visible\": [false, false, false, false, false, false, false, false, false, false, false, true, false, false, false, false, false, false, false, false, false, false, false, false, false, false, false, false, false, false, false, false]}], \"label\": \"Fruits & Vegetables\", \"method\": \"update\"}, {\"args\": [{\"showlegend\": true, \"title\": \"Grains, Rice & Cereal\", \"visible\": [false, false, false, false, false, false, false, false, false, false, false, false, true, false, false, false, false, false, false, false, false, false, false, false, false, false, false, false, false, false, false, false]}], \"label\": \"Grains, Rice & Cereal\", \"method\": \"update\"}, {\"args\": [{\"showlegend\": true, \"title\": \"Hot Chocolate\", \"visible\": [false, false, false, false, false, false, false, false, false, false, false, false, false, true, false, false, false, false, false, false, false, false, false, false, false, false, false, false, false, false, false, false]}], \"label\": \"Hot Chocolate\", \"method\": \"update\"}, {\"args\": [{\"showlegend\": true, \"title\": \"Juice\", \"visible\": [false, false, false, false, false, false, false, false, false, false, false, false, false, false, true, false, false, false, false, false, false, false, false, false, false, false, false, false, false, false, false, false]}], \"label\": \"Juice\", \"method\": \"update\"}, {\"args\": [{\"showlegend\": true, \"title\": \"Meat, Seafood & Eggs\", \"visible\": [false, false, false, false, false, false, false, false, false, false, false, false, false, false, false, true, false, false, false, false, false, false, false, false, false, false, false, false, false, false, false, false]}], \"label\": \"Meat, Seafood & Eggs\", \"method\": \"update\"}, {\"args\": [{\"showlegend\": true, \"title\": \"Milk\", \"visible\": [false, false, false, false, false, false, false, false, false, false, false, false, false, false, false, false, true, false, false, false, false, false, false, false, false, false, false, false, false, false, false, false]}], \"label\": \"Milk\", \"method\": \"update\"}, {\"args\": [{\"showlegend\": true, \"title\": \"Non-Dairy Milk\", \"visible\": [false, false, false, false, false, false, false, false, false, false, false, false, false, false, false, false, false, true, false, false, false, false, false, false, false, false, false, false, false, false, false, false]}], \"label\": \"Non-Dairy Milk\", \"method\": \"update\"}, {\"args\": [{\"showlegend\": true, \"title\": \"Nuts & Seeds\", \"visible\": [false, false, false, false, false, false, false, false, false, false, false, false, false, false, false, false, false, false, true, false, false, false, false, false, false, false, false, false, false, false, false, false]}], \"label\": \"Nuts & Seeds\", \"method\": \"update\"}, {\"args\": [{\"showlegend\": true, \"title\": \"Pasta & Noodles\", \"visible\": [false, false, false, false, false, false, false, false, false, false, false, false, false, false, false, false, false, false, false, true, false, false, false, false, false, false, false, false, false, false, false, false]}], \"label\": \"Pasta & Noodles\", \"method\": \"update\"}, {\"args\": [{\"showlegend\": true, \"title\": \"Powdered Beverage Mixes\", \"visible\": [false, false, false, false, false, false, false, false, false, false, false, false, false, false, false, false, false, false, false, false, true, false, false, false, false, false, false, false, false, false, false, false]}], \"label\": \"Powdered Beverage Mixes\", \"method\": \"update\"}, {\"args\": [{\"showlegend\": true, \"title\": \"Prepared Foods\", \"visible\": [false, false, false, false, false, false, false, false, false, false, false, false, false, false, false, false, false, false, false, false, false, true, false, false, false, false, false, false, false, false, false, false]}], \"label\": \"Prepared Foods\", \"method\": \"update\"}, {\"args\": [{\"showlegend\": true, \"title\": \"Prepared Meals\", \"visible\": [false, false, false, false, false, false, false, false, false, false, false, false, false, false, false, false, false, false, false, false, false, false, true, false, false, false, false, false, false, false, false, false]}], \"label\": \"Prepared Meals\", \"method\": \"update\"}, {\"args\": [{\"showlegend\": true, \"title\": \"Seasonings & Spices\", \"visible\": [false, false, false, false, false, false, false, false, false, false, false, false, false, false, false, false, false, false, false, false, false, false, false, true, false, false, false, false, false, false, false, false]}], \"label\": \"Seasonings & Spices\", \"method\": \"update\"}, {\"args\": [{\"showlegend\": true, \"title\": \"Snack Foods\", \"visible\": [false, false, false, false, false, false, false, false, false, false, false, false, false, false, false, false, false, false, false, false, false, false, false, false, true, false, false, false, false, false, false, false]}], \"label\": \"Snack Foods\", \"method\": \"update\"}, {\"args\": [{\"showlegend\": true, \"title\": \"Soda\", \"visible\": [false, false, false, false, false, false, false, false, false, false, false, false, false, false, false, false, false, false, false, false, false, false, false, false, false, true, false, false, false, false, false, false]}], \"label\": \"Soda\", \"method\": \"update\"}, {\"args\": [{\"showlegend\": true, \"title\": \"Soups & Broths\", \"visible\": [false, false, false, false, false, false, false, false, false, false, false, false, false, false, false, false, false, false, false, false, false, false, false, false, false, false, true, false, false, false, false, false]}], \"label\": \"Soups & Broths\", \"method\": \"update\"}, {\"args\": [{\"showlegend\": true, \"title\": \"Sports & Energy Drinks\", \"visible\": [false, false, false, false, false, false, false, false, false, false, false, false, false, false, false, false, false, false, false, false, false, false, false, false, false, false, false, true, false, false, false, false]}], \"label\": \"Sports & Energy Drinks\", \"method\": \"update\"}, {\"args\": [{\"showlegend\": true, \"title\": \"Tea & Infusions\", \"visible\": [false, false, false, false, false, false, false, false, false, false, false, false, false, false, false, false, false, false, false, false, false, false, false, false, false, false, false, false, true, false, false, false]}], \"label\": \"Tea & Infusions\", \"method\": \"update\"}, {\"args\": [{\"showlegend\": true, \"title\": \"Tofu, Soy & Vegetarian Products\", \"visible\": [false, false, false, false, false, false, false, false, false, false, false, false, false, false, false, false, false, false, false, false, false, false, false, false, false, false, false, false, false, true, false, false]}], \"label\": \"Tofu, Soy & Vegetarian Products\", \"method\": \"update\"}, {\"args\": [{\"showlegend\": true, \"title\": \"Vinegar Drinks\", \"visible\": [false, false, false, false, false, false, false, false, false, false, false, false, false, false, false, false, false, false, false, false, false, false, false, false, false, false, false, false, false, false, true, false]}], \"label\": \"Vinegar Drinks\", \"method\": \"update\"}, {\"args\": [{\"showlegend\": true, \"title\": \"Water\", \"visible\": [false, false, false, false, false, false, false, false, false, false, false, false, false, false, false, false, false, false, false, false, false, false, false, false, false, false, false, false, false, false, false, true]}], \"label\": \"Water\", \"method\": \"update\"}]}], \"width\": 1200},                        {\"responsive\": true}                    ).then(function(){\n",
       "                            \n",
       "var gd = document.getElementById('ff221234-a662-4437-8cd0-9592c7f80009');\n",
       "var x = new MutationObserver(function (mutations, observer) {{\n",
       "        var display = window.getComputedStyle(gd).display;\n",
       "        if (!display || display === 'none') {{\n",
       "            console.log([gd, 'removed!']);\n",
       "            Plotly.purge(gd);\n",
       "            observer.disconnect();\n",
       "        }}\n",
       "}});\n",
       "\n",
       "// Listen for the removal of the full notebook cells\n",
       "var notebookContainer = gd.closest('#notebook-container');\n",
       "if (notebookContainer) {{\n",
       "    x.observe(notebookContainer, {childList: true});\n",
       "}}\n",
       "\n",
       "// Listen for the clearing of the current output cell\n",
       "var outputEl = gd.closest('.output');\n",
       "if (outputEl) {{\n",
       "    x.observe(outputEl, {childList: true});\n",
       "}}\n",
       "\n",
       "                        })                };                });            </script>        </div>"
      ]
     },
     "metadata": {},
     "output_type": "display_data"
    }
   ],
   "source": [
    "\n",
    "diag = np.diag(np.diag(df))\n",
    "df = df.mask(diag != 0)\n",
    "\n",
    "fig = go.Figure()\n",
    "\n",
    "addAll = True\n",
    "\n",
    "# Do not show diagnoal values\n",
    "for col in df.columns.to_list():\n",
    "    fig.add_trace(\n",
    "        go.Scatter(\n",
    "            x = df.index,\n",
    "            y = df.loc[col],\n",
    "            name = col,\n",
    "            connectgaps=False,\n",
    "            mode='lines+markers',\n",
    "            line={'dash': 'solid'}))\n",
    "    \n",
    "button_all = dict(label = 'All',\n",
    "                  method = 'update',\n",
    "                  args = [{'visible': df.columns.isin(df.columns),\n",
    "                          'title': 'All', \n",
    "                          'showlegend': True}])\n",
    "\n",
    "def create_layout_button(column):\n",
    "    return dict(label = column,\n",
    "               method = 'update',\n",
    "               args = [{'visible': df.columns.isin([column]),\n",
    "                       'title': column,\n",
    "                       'showlegend': True}])\n",
    "\n",
    "fig.update_layout(autosize=False,\n",
    "    width=1200,\n",
    "    height=600,\n",
    "    updatemenus = [go.layout.Updatemenu(\n",
    "        active = 0,\n",
    "        buttons = ([button_all]*addAll) + list(df.columns.map(lambda col:\\\n",
    "                                                             create_layout_button(col))))])\n",
    "fig.show()"
   ]
  },
  {
   "cell_type": "code",
   "execution_count": 74,
   "metadata": {},
   "outputs": [
    {
     "data": {
      "text/plain": [
       "'https://plotly.com/~lin2793799/8/'"
      ]
     },
     "execution_count": 74,
     "metadata": {},
     "output_type": "execute_result"
    }
   ],
   "source": [
    "'''\n",
    "    save into chart studio account:\n",
    "        upload the graph online to your plotly account\n",
    "        - auto_open=True: the file will automatically open in your browser when you run the code\n",
    "\n",
    "'''\n",
    "\n",
    "\n",
    "username = 'lin2793799'\n",
    "api_key = 'WjhR05tShyuMQQ74Xqd6'\n",
    "\n",
    "# log into my plotly account from python jupyter notebook\n",
    "tls.set_credentials_file(username=username, api_key=api_key)\n",
    "\n",
    "py.plot(fig, filename = '{}_confidence_scores'.format(category), auto_open=False)"
   ]
  },
  {
   "cell_type": "code",
   "execution_count": null,
   "metadata": {},
   "outputs": [],
   "source": []
  },
  {
   "cell_type": "code",
   "execution_count": null,
   "metadata": {},
   "outputs": [],
   "source": [
    "'''\n",
    "    save to local html file\n",
    "'''\n",
    "## initializa the app\n",
    "\n",
    "# app = dash.Dash(__name__)\n",
    "\n",
    "# # define the app\n",
    "# app.layout = html.Div([\n",
    "#     dcc.Graph(figure=fig)\n",
    "# ])\n",
    "\n",
    "# # run the app\n",
    "# if __name__ == '__main__':\n",
    "#     app.run_server(debug=True, use_reloader=False)"
   ]
  },
  {
   "cell_type": "code",
   "execution_count": null,
   "metadata": {},
   "outputs": [],
   "source": []
  },
  {
   "cell_type": "code",
   "execution_count": null,
   "metadata": {},
   "outputs": [],
   "source": []
  },
  {
   "cell_type": "markdown",
   "metadata": {},
   "source": [
    "## Plotly: Similarity"
   ]
  },
  {
   "cell_type": "code",
   "execution_count": 120,
   "metadata": {},
   "outputs": [
    {
     "name": "stdout",
     "output_type": "stream",
     "text": [
      "grocery\n",
      "(32, 32)\n"
     ]
    }
   ],
   "source": [
    "# category = 'restaurant'\n",
    "category = 'grocery'\n",
    "\n",
    "if category == 'restaurant':\n",
    "    print(category)\n",
    "    df = sim_mat_restaurant.copy()\n",
    "if category == 'grocery':\n",
    "    print(category)\n",
    "    df = sim_mat_grocery.copy()\n",
    "print(df.shape)"
   ]
  },
  {
   "cell_type": "code",
   "execution_count": 129,
   "metadata": {},
   "outputs": [
    {
     "data": {
      "application/vnd.plotly.v1+json": {
       "config": {
        "plotlyServerURL": "https://plotly.com"
       },
       "data": [
        {
         "connectgaps": false,
         "line": {
          "dash": "solid"
         },
         "mode": "lines+markers",
         "name": "Bakery",
         "type": "scatter",
         "x": [
          "Bakery",
          "Candied & Chocolate Covered Fruit",
          "Candy & Chocolate",
          "Coffee",
          "Condiments & Sauces",
          "Cooking & Baking Ingredients",
          "Dairy Products",
          "Dips & Spreads",
          "Food Gift Baskets",
          "Frozen Desserts & Novelties",
          "Fruit Flavored Drinks",
          "Fruits & Vegetables",
          "Grains, Rice & Cereal",
          "Hot Chocolate",
          "Juice",
          "Meat, Seafood & Eggs",
          "Milk",
          "Non-Dairy Milk",
          "Nuts & Seeds",
          "Pasta & Noodles",
          "Powdered Beverage Mixes",
          "Prepared Foods",
          "Prepared Meals",
          "Seasonings & Spices",
          "Snack Foods",
          "Soda",
          "Soups & Broths",
          "Sports & Energy Drinks",
          "Tea & Infusions",
          "Tofu, Soy & Vegetarian Products",
          "Vinegar Drinks",
          "Water"
         ],
         "y": [
          null,
          0.004404,
          0.32404499999999997,
          0.210643,
          0.44697,
          0.413067,
          0.519426,
          0.385127,
          0.001036,
          0.256571,
          0.194295,
          0.50834,
          0.400862,
          0.013012000000000001,
          0.324219,
          0.512891,
          0.43689700000000004,
          0.081996,
          0.179649,
          0.32363000000000003,
          0.070262,
          0.351887,
          0.002708,
          0.277706,
          0.46862700000000007,
          0.290989,
          0.21309099999999997,
          0.13688599999999998,
          0.177387,
          0.026567,
          0.001559,
          0.290271
         ]
        },
        {
         "connectgaps": false,
         "line": {
          "dash": "solid"
         },
         "mode": "lines+markers",
         "name": "Candied & Chocolate Covered Fruit",
         "type": "scatter",
         "x": [
          "Bakery",
          "Candied & Chocolate Covered Fruit",
          "Candy & Chocolate",
          "Coffee",
          "Condiments & Sauces",
          "Cooking & Baking Ingredients",
          "Dairy Products",
          "Dips & Spreads",
          "Food Gift Baskets",
          "Frozen Desserts & Novelties",
          "Fruit Flavored Drinks",
          "Fruits & Vegetables",
          "Grains, Rice & Cereal",
          "Hot Chocolate",
          "Juice",
          "Meat, Seafood & Eggs",
          "Milk",
          "Non-Dairy Milk",
          "Nuts & Seeds",
          "Pasta & Noodles",
          "Powdered Beverage Mixes",
          "Prepared Foods",
          "Prepared Meals",
          "Seasonings & Spices",
          "Snack Foods",
          "Soda",
          "Soups & Broths",
          "Sports & Energy Drinks",
          "Tea & Infusions",
          "Tofu, Soy & Vegetarian Products",
          "Vinegar Drinks",
          "Water"
         ],
         "y": [
          0.004404,
          null,
          0.005517,
          0.00447,
          0.004096,
          0.004082,
          0.0048920000000000005,
          0.004725,
          0,
          0.008648999999999999,
          0.005483,
          0.0045119999999999995,
          0.004462,
          0.016949000000000002,
          0.0061259999999999995,
          0.003783,
          0.0053950000000000005,
          0.009226999999999999,
          0.007559000000000001,
          0.004734,
          0.0024129999999999998,
          0.003258,
          0.013244999999999998,
          0.0042369999999999994,
          0.003206,
          0.003428,
          0.004039,
          0.002534,
          0.006281,
          0.0029760000000000003,
          0,
          0.0032869999999999996
         ]
        },
        {
         "connectgaps": false,
         "line": {
          "dash": "solid"
         },
         "mode": "lines+markers",
         "name": "Candy & Chocolate",
         "type": "scatter",
         "x": [
          "Bakery",
          "Candied & Chocolate Covered Fruit",
          "Candy & Chocolate",
          "Coffee",
          "Condiments & Sauces",
          "Cooking & Baking Ingredients",
          "Dairy Products",
          "Dips & Spreads",
          "Food Gift Baskets",
          "Frozen Desserts & Novelties",
          "Fruit Flavored Drinks",
          "Fruits & Vegetables",
          "Grains, Rice & Cereal",
          "Hot Chocolate",
          "Juice",
          "Meat, Seafood & Eggs",
          "Milk",
          "Non-Dairy Milk",
          "Nuts & Seeds",
          "Pasta & Noodles",
          "Powdered Beverage Mixes",
          "Prepared Foods",
          "Prepared Meals",
          "Seasonings & Spices",
          "Snack Foods",
          "Soda",
          "Soups & Broths",
          "Sports & Energy Drinks",
          "Tea & Infusions",
          "Tofu, Soy & Vegetarian Products",
          "Vinegar Drinks",
          "Water"
         ],
         "y": [
          0.32404499999999997,
          0.005517,
          null,
          0.178669,
          0.312891,
          0.308367,
          0.330445,
          0.298989,
          0.0016359999999999999,
          0.243323,
          0.17513099999999998,
          0.312168,
          0.30445500000000003,
          0.017193,
          0.265171,
          0.308054,
          0.315027,
          0.077421,
          0.174854,
          0.258166,
          0.068847,
          0.20895,
          0.001216,
          0.22075,
          0.326221,
          0.24024600000000002,
          0.18024500000000002,
          0.12727,
          0.153314,
          0.029731,
          0.000616,
          0.237844
         ]
        },
        {
         "connectgaps": false,
         "line": {
          "dash": "solid"
         },
         "mode": "lines+markers",
         "name": "Coffee",
         "type": "scatter",
         "x": [
          "Bakery",
          "Candied & Chocolate Covered Fruit",
          "Candy & Chocolate",
          "Coffee",
          "Condiments & Sauces",
          "Cooking & Baking Ingredients",
          "Dairy Products",
          "Dips & Spreads",
          "Food Gift Baskets",
          "Frozen Desserts & Novelties",
          "Fruit Flavored Drinks",
          "Fruits & Vegetables",
          "Grains, Rice & Cereal",
          "Hot Chocolate",
          "Juice",
          "Meat, Seafood & Eggs",
          "Milk",
          "Non-Dairy Milk",
          "Nuts & Seeds",
          "Pasta & Noodles",
          "Powdered Beverage Mixes",
          "Prepared Foods",
          "Prepared Meals",
          "Seasonings & Spices",
          "Snack Foods",
          "Soda",
          "Soups & Broths",
          "Sports & Energy Drinks",
          "Tea & Infusions",
          "Tofu, Soy & Vegetarian Products",
          "Vinegar Drinks",
          "Water"
         ],
         "y": [
          0.210643,
          0.00447,
          0.178669,
          null,
          0.22162800000000002,
          0.21933699999999998,
          0.23284899999999997,
          0.208389,
          0.001583,
          0.15653399999999998,
          0.124653,
          0.21618400000000002,
          0.223644,
          0.014725,
          0.18773399999999998,
          0.215502,
          0.226958,
          0.074153,
          0.133016,
          0.185763,
          0.058066,
          0.14223,
          0.002872,
          0.16708299999999998,
          0.202337,
          0.15779300000000002,
          0.14537,
          0.08856900000000001,
          0.143951,
          0.025478,
          0.0010609999999999999,
          0.174094
         ]
        },
        {
         "connectgaps": false,
         "line": {
          "dash": "solid"
         },
         "mode": "lines+markers",
         "name": "Condiments & Sauces",
         "type": "scatter",
         "x": [
          "Bakery",
          "Candied & Chocolate Covered Fruit",
          "Candy & Chocolate",
          "Coffee",
          "Condiments & Sauces",
          "Cooking & Baking Ingredients",
          "Dairy Products",
          "Dips & Spreads",
          "Food Gift Baskets",
          "Frozen Desserts & Novelties",
          "Fruit Flavored Drinks",
          "Fruits & Vegetables",
          "Grains, Rice & Cereal",
          "Hot Chocolate",
          "Juice",
          "Meat, Seafood & Eggs",
          "Milk",
          "Non-Dairy Milk",
          "Nuts & Seeds",
          "Pasta & Noodles",
          "Powdered Beverage Mixes",
          "Prepared Foods",
          "Prepared Meals",
          "Seasonings & Spices",
          "Snack Foods",
          "Soda",
          "Soups & Broths",
          "Sports & Energy Drinks",
          "Tea & Infusions",
          "Tofu, Soy & Vegetarian Products",
          "Vinegar Drinks",
          "Water"
         ],
         "y": [
          0.44697,
          0.004096,
          0.312891,
          0.22162800000000002,
          null,
          0.44107799999999997,
          0.503229,
          0.409213,
          0.000984,
          0.254421,
          0.20468599999999998,
          0.499834,
          0.424548,
          0.014311,
          0.343304,
          0.488633,
          0.43657399999999996,
          0.097939,
          0.20311600000000002,
          0.36706500000000003,
          0.08415399999999999,
          0.308086,
          0.0026079999999999996,
          0.319592,
          0.420541,
          0.292004,
          0.25003800000000004,
          0.138148,
          0.184449,
          0.032774,
          0.001812,
          0.29681799999999997
         ]
        },
        {
         "connectgaps": false,
         "line": {
          "dash": "solid"
         },
         "mode": "lines+markers",
         "name": "Cooking & Baking Ingredients",
         "type": "scatter",
         "x": [
          "Bakery",
          "Candied & Chocolate Covered Fruit",
          "Candy & Chocolate",
          "Coffee",
          "Condiments & Sauces",
          "Cooking & Baking Ingredients",
          "Dairy Products",
          "Dips & Spreads",
          "Food Gift Baskets",
          "Frozen Desserts & Novelties",
          "Fruit Flavored Drinks",
          "Fruits & Vegetables",
          "Grains, Rice & Cereal",
          "Hot Chocolate",
          "Juice",
          "Meat, Seafood & Eggs",
          "Milk",
          "Non-Dairy Milk",
          "Nuts & Seeds",
          "Pasta & Noodles",
          "Powdered Beverage Mixes",
          "Prepared Foods",
          "Prepared Meals",
          "Seasonings & Spices",
          "Snack Foods",
          "Soda",
          "Soups & Broths",
          "Sports & Energy Drinks",
          "Tea & Infusions",
          "Tofu, Soy & Vegetarian Products",
          "Vinegar Drinks",
          "Water"
         ],
         "y": [
          0.413067,
          0.004082,
          0.308367,
          0.21933699999999998,
          0.44107799999999997,
          null,
          0.465359,
          0.37945300000000004,
          0.0008880000000000001,
          0.24443099999999998,
          0.191653,
          0.45553599999999994,
          0.408048,
          0.013715,
          0.322049,
          0.431359,
          0.41287399999999996,
          0.098524,
          0.211853,
          0.342891,
          0.083348,
          0.264216,
          0.000529,
          0.33479200000000003,
          0.387799,
          0.269934,
          0.23421799999999998,
          0.132187,
          0.193274,
          0.031497000000000004,
          0.0019649999999999997,
          0.27575700000000003
         ]
        },
        {
         "connectgaps": false,
         "line": {
          "dash": "solid"
         },
         "mode": "lines+markers",
         "name": "Dairy Products",
         "type": "scatter",
         "x": [
          "Bakery",
          "Candied & Chocolate Covered Fruit",
          "Candy & Chocolate",
          "Coffee",
          "Condiments & Sauces",
          "Cooking & Baking Ingredients",
          "Dairy Products",
          "Dips & Spreads",
          "Food Gift Baskets",
          "Frozen Desserts & Novelties",
          "Fruit Flavored Drinks",
          "Fruits & Vegetables",
          "Grains, Rice & Cereal",
          "Hot Chocolate",
          "Juice",
          "Meat, Seafood & Eggs",
          "Milk",
          "Non-Dairy Milk",
          "Nuts & Seeds",
          "Pasta & Noodles",
          "Powdered Beverage Mixes",
          "Prepared Foods",
          "Prepared Meals",
          "Seasonings & Spices",
          "Snack Foods",
          "Soda",
          "Soups & Broths",
          "Sports & Energy Drinks",
          "Tea & Infusions",
          "Tofu, Soy & Vegetarian Products",
          "Vinegar Drinks",
          "Water"
         ],
         "y": [
          0.519426,
          0.0048920000000000005,
          0.330445,
          0.23284899999999997,
          0.503229,
          0.465359,
          null,
          0.43405699999999997,
          0.0007639999999999999,
          0.275186,
          0.212225,
          0.568167,
          0.43899,
          0.014733000000000001,
          0.35846500000000003,
          0.570472,
          0.49923100000000004,
          0.098498,
          0.19914600000000002,
          0.36832800000000004,
          0.079412,
          0.344414,
          0.001823,
          0.32182,
          0.466808,
          0.317816,
          0.240069,
          0.146534,
          0.195666,
          0.031659,
          0.001381,
          0.316139
         ]
        },
        {
         "connectgaps": false,
         "line": {
          "dash": "solid"
         },
         "mode": "lines+markers",
         "name": "Dips & Spreads",
         "type": "scatter",
         "x": [
          "Bakery",
          "Candied & Chocolate Covered Fruit",
          "Candy & Chocolate",
          "Coffee",
          "Condiments & Sauces",
          "Cooking & Baking Ingredients",
          "Dairy Products",
          "Dips & Spreads",
          "Food Gift Baskets",
          "Frozen Desserts & Novelties",
          "Fruit Flavored Drinks",
          "Fruits & Vegetables",
          "Grains, Rice & Cereal",
          "Hot Chocolate",
          "Juice",
          "Meat, Seafood & Eggs",
          "Milk",
          "Non-Dairy Milk",
          "Nuts & Seeds",
          "Pasta & Noodles",
          "Powdered Beverage Mixes",
          "Prepared Foods",
          "Prepared Meals",
          "Seasonings & Spices",
          "Snack Foods",
          "Soda",
          "Soups & Broths",
          "Sports & Energy Drinks",
          "Tea & Infusions",
          "Tofu, Soy & Vegetarian Products",
          "Vinegar Drinks",
          "Water"
         ],
         "y": [
          0.385127,
          0.004725,
          0.298989,
          0.208389,
          0.409213,
          0.37945300000000004,
          0.43405699999999997,
          null,
          0.00203,
          0.269491,
          0.213331,
          0.40619099999999997,
          0.387655,
          0.018032,
          0.327874,
          0.407738,
          0.414342,
          0.110448,
          0.201347,
          0.34615999999999997,
          0.084874,
          0.25055700000000003,
          0.001116,
          0.285666,
          0.357172,
          0.269106,
          0.247153,
          0.14391900000000002,
          0.177901,
          0.039626,
          0.0015869999999999999,
          0.283467
         ]
        },
        {
         "connectgaps": false,
         "line": {
          "dash": "solid"
         },
         "mode": "lines+markers",
         "name": "Food Gift Baskets",
         "type": "scatter",
         "x": [
          "Bakery",
          "Candied & Chocolate Covered Fruit",
          "Candy & Chocolate",
          "Coffee",
          "Condiments & Sauces",
          "Cooking & Baking Ingredients",
          "Dairy Products",
          "Dips & Spreads",
          "Food Gift Baskets",
          "Frozen Desserts & Novelties",
          "Fruit Flavored Drinks",
          "Fruits & Vegetables",
          "Grains, Rice & Cereal",
          "Hot Chocolate",
          "Juice",
          "Meat, Seafood & Eggs",
          "Milk",
          "Non-Dairy Milk",
          "Nuts & Seeds",
          "Pasta & Noodles",
          "Powdered Beverage Mixes",
          "Prepared Foods",
          "Prepared Meals",
          "Seasonings & Spices",
          "Snack Foods",
          "Soda",
          "Soups & Broths",
          "Sports & Energy Drinks",
          "Tea & Infusions",
          "Tofu, Soy & Vegetarian Products",
          "Vinegar Drinks",
          "Water"
         ],
         "y": [
          0.001036,
          0,
          0.0016359999999999999,
          0.001583,
          0.000984,
          0.0008880000000000001,
          0.0007639999999999999,
          0.00203,
          null,
          0.000721,
          0.000848,
          0.0010609999999999999,
          0.001704,
          0,
          0.0008359999999999999,
          0.0011220000000000002,
          0.001174,
          0,
          0.002234,
          0.001117,
          0.0024809999999999997,
          0.000616,
          0.007751999999999999,
          0.0009109999999999999,
          0.000802,
          0,
          0.000452,
          0,
          0.00105,
          0,
          0,
          0.0016510000000000001
         ]
        },
        {
         "connectgaps": false,
         "line": {
          "dash": "solid"
         },
         "mode": "lines+markers",
         "name": "Frozen Desserts & Novelties",
         "type": "scatter",
         "x": [
          "Bakery",
          "Candied & Chocolate Covered Fruit",
          "Candy & Chocolate",
          "Coffee",
          "Condiments & Sauces",
          "Cooking & Baking Ingredients",
          "Dairy Products",
          "Dips & Spreads",
          "Food Gift Baskets",
          "Frozen Desserts & Novelties",
          "Fruit Flavored Drinks",
          "Fruits & Vegetables",
          "Grains, Rice & Cereal",
          "Hot Chocolate",
          "Juice",
          "Meat, Seafood & Eggs",
          "Milk",
          "Non-Dairy Milk",
          "Nuts & Seeds",
          "Pasta & Noodles",
          "Powdered Beverage Mixes",
          "Prepared Foods",
          "Prepared Meals",
          "Seasonings & Spices",
          "Snack Foods",
          "Soda",
          "Soups & Broths",
          "Sports & Energy Drinks",
          "Tea & Infusions",
          "Tofu, Soy & Vegetarian Products",
          "Vinegar Drinks",
          "Water"
         ],
         "y": [
          0.256571,
          0.008648999999999999,
          0.243323,
          0.15653399999999998,
          0.254421,
          0.24443099999999998,
          0.275186,
          0.269491,
          0.000721,
          null,
          0.193244,
          0.254104,
          0.26306799999999997,
          0.026121,
          0.263836,
          0.265088,
          0.306464,
          0.090853,
          0.162347,
          0.24281999999999998,
          0.073006,
          0.172825,
          0.004274,
          0.20592399999999997,
          0.21859699999999999,
          0.20944400000000002,
          0.192897,
          0.110978,
          0.15166,
          0.041609,
          0.0021850000000000003,
          0.215671
         ]
        },
        {
         "connectgaps": false,
         "line": {
          "dash": "solid"
         },
         "mode": "lines+markers",
         "name": "Fruit Flavored Drinks",
         "type": "scatter",
         "x": [
          "Bakery",
          "Candied & Chocolate Covered Fruit",
          "Candy & Chocolate",
          "Coffee",
          "Condiments & Sauces",
          "Cooking & Baking Ingredients",
          "Dairy Products",
          "Dips & Spreads",
          "Food Gift Baskets",
          "Frozen Desserts & Novelties",
          "Fruit Flavored Drinks",
          "Fruits & Vegetables",
          "Grains, Rice & Cereal",
          "Hot Chocolate",
          "Juice",
          "Meat, Seafood & Eggs",
          "Milk",
          "Non-Dairy Milk",
          "Nuts & Seeds",
          "Pasta & Noodles",
          "Powdered Beverage Mixes",
          "Prepared Foods",
          "Prepared Meals",
          "Seasonings & Spices",
          "Snack Foods",
          "Soda",
          "Soups & Broths",
          "Sports & Energy Drinks",
          "Tea & Infusions",
          "Tofu, Soy & Vegetarian Products",
          "Vinegar Drinks",
          "Water"
         ],
         "y": [
          0.194295,
          0.005483,
          0.17513099999999998,
          0.124653,
          0.20468599999999998,
          0.191653,
          0.212225,
          0.213331,
          0.000848,
          0.193244,
          null,
          0.197391,
          0.20806599999999997,
          0.015899,
          0.226987,
          0.209195,
          0.234051,
          0.083131,
          0.133183,
          0.19959100000000002,
          0.09365,
          0.12972899999999998,
          0.00041600000000000003,
          0.164298,
          0.17811300000000002,
          0.18281,
          0.148963,
          0.14077699999999999,
          0.12879100000000002,
          0.032708,
          0.002144,
          0.21408000000000002
         ]
        },
        {
         "connectgaps": false,
         "line": {
          "dash": "solid"
         },
         "mode": "lines+markers",
         "name": "Fruits & Vegetables",
         "type": "scatter",
         "x": [
          "Bakery",
          "Candied & Chocolate Covered Fruit",
          "Candy & Chocolate",
          "Coffee",
          "Condiments & Sauces",
          "Cooking & Baking Ingredients",
          "Dairy Products",
          "Dips & Spreads",
          "Food Gift Baskets",
          "Frozen Desserts & Novelties",
          "Fruit Flavored Drinks",
          "Fruits & Vegetables",
          "Grains, Rice & Cereal",
          "Hot Chocolate",
          "Juice",
          "Meat, Seafood & Eggs",
          "Milk",
          "Non-Dairy Milk",
          "Nuts & Seeds",
          "Pasta & Noodles",
          "Powdered Beverage Mixes",
          "Prepared Foods",
          "Prepared Meals",
          "Seasonings & Spices",
          "Snack Foods",
          "Soda",
          "Soups & Broths",
          "Sports & Energy Drinks",
          "Tea & Infusions",
          "Tofu, Soy & Vegetarian Products",
          "Vinegar Drinks",
          "Water"
         ],
         "y": [
          0.50834,
          0.0045119999999999995,
          0.312168,
          0.21618400000000002,
          0.499834,
          0.45553599999999994,
          0.568167,
          0.40619099999999997,
          0.0010609999999999999,
          0.254104,
          0.197391,
          null,
          0.433251,
          0.012395999999999999,
          0.33760999999999997,
          0.5602689999999999,
          0.458992,
          0.09095700000000001,
          0.201908,
          0.343511,
          0.072652,
          0.345552,
          0.001187,
          0.311585,
          0.466546,
          0.294149,
          0.22750900000000002,
          0.131747,
          0.184416,
          0.029942,
          0.001731,
          0.299005
         ]
        },
        {
         "connectgaps": false,
         "line": {
          "dash": "solid"
         },
         "mode": "lines+markers",
         "name": "Grains, Rice & Cereal",
         "type": "scatter",
         "x": [
          "Bakery",
          "Candied & Chocolate Covered Fruit",
          "Candy & Chocolate",
          "Coffee",
          "Condiments & Sauces",
          "Cooking & Baking Ingredients",
          "Dairy Products",
          "Dips & Spreads",
          "Food Gift Baskets",
          "Frozen Desserts & Novelties",
          "Fruit Flavored Drinks",
          "Fruits & Vegetables",
          "Grains, Rice & Cereal",
          "Hot Chocolate",
          "Juice",
          "Meat, Seafood & Eggs",
          "Milk",
          "Non-Dairy Milk",
          "Nuts & Seeds",
          "Pasta & Noodles",
          "Powdered Beverage Mixes",
          "Prepared Foods",
          "Prepared Meals",
          "Seasonings & Spices",
          "Snack Foods",
          "Soda",
          "Soups & Broths",
          "Sports & Energy Drinks",
          "Tea & Infusions",
          "Tofu, Soy & Vegetarian Products",
          "Vinegar Drinks",
          "Water"
         ],
         "y": [
          0.400862,
          0.004462,
          0.30445500000000003,
          0.223644,
          0.424548,
          0.408048,
          0.43899,
          0.387655,
          0.001704,
          0.26306799999999997,
          0.20806599999999997,
          0.433251,
          null,
          0.016824000000000002,
          0.346457,
          0.41640600000000005,
          0.446888,
          0.10818499999999999,
          0.224741,
          0.362625,
          0.086069,
          0.255812,
          0.001265,
          0.312054,
          0.385477,
          0.262106,
          0.247854,
          0.138182,
          0.192823,
          0.037879,
          0.001284,
          0.28749600000000003
         ]
        },
        {
         "connectgaps": false,
         "line": {
          "dash": "solid"
         },
         "mode": "lines+markers",
         "name": "Hot Chocolate",
         "type": "scatter",
         "x": [
          "Bakery",
          "Candied & Chocolate Covered Fruit",
          "Candy & Chocolate",
          "Coffee",
          "Condiments & Sauces",
          "Cooking & Baking Ingredients",
          "Dairy Products",
          "Dips & Spreads",
          "Food Gift Baskets",
          "Frozen Desserts & Novelties",
          "Fruit Flavored Drinks",
          "Fruits & Vegetables",
          "Grains, Rice & Cereal",
          "Hot Chocolate",
          "Juice",
          "Meat, Seafood & Eggs",
          "Milk",
          "Non-Dairy Milk",
          "Nuts & Seeds",
          "Pasta & Noodles",
          "Powdered Beverage Mixes",
          "Prepared Foods",
          "Prepared Meals",
          "Seasonings & Spices",
          "Snack Foods",
          "Soda",
          "Soups & Broths",
          "Sports & Energy Drinks",
          "Tea & Infusions",
          "Tofu, Soy & Vegetarian Products",
          "Vinegar Drinks",
          "Water"
         ],
         "y": [
          0.013012000000000001,
          0.016949000000000002,
          0.017193,
          0.014725,
          0.014311,
          0.013715,
          0.014733000000000001,
          0.018032,
          0,
          0.026121,
          0.015899,
          0.012395999999999999,
          0.016824000000000002,
          null,
          0.020291,
          0.013378,
          0.020437,
          0.015496000000000001,
          0.015397999999999998,
          0.016689,
          0.011853,
          0.010099,
          0.007722,
          0.014209999999999999,
          0.010943000000000001,
          0.012894,
          0.016031,
          0.005301,
          0.015959,
          0.022989,
          0,
          0.011262999999999999
         ]
        },
        {
         "connectgaps": false,
         "line": {
          "dash": "solid"
         },
         "mode": "lines+markers",
         "name": "Juice",
         "type": "scatter",
         "x": [
          "Bakery",
          "Candied & Chocolate Covered Fruit",
          "Candy & Chocolate",
          "Coffee",
          "Condiments & Sauces",
          "Cooking & Baking Ingredients",
          "Dairy Products",
          "Dips & Spreads",
          "Food Gift Baskets",
          "Frozen Desserts & Novelties",
          "Fruit Flavored Drinks",
          "Fruits & Vegetables",
          "Grains, Rice & Cereal",
          "Hot Chocolate",
          "Juice",
          "Meat, Seafood & Eggs",
          "Milk",
          "Non-Dairy Milk",
          "Nuts & Seeds",
          "Pasta & Noodles",
          "Powdered Beverage Mixes",
          "Prepared Foods",
          "Prepared Meals",
          "Seasonings & Spices",
          "Snack Foods",
          "Soda",
          "Soups & Broths",
          "Sports & Energy Drinks",
          "Tea & Infusions",
          "Tofu, Soy & Vegetarian Products",
          "Vinegar Drinks",
          "Water"
         ],
         "y": [
          0.324219,
          0.0061259999999999995,
          0.265171,
          0.18773399999999998,
          0.343304,
          0.322049,
          0.35846500000000003,
          0.327874,
          0.0008359999999999999,
          0.263836,
          0.226987,
          0.33760999999999997,
          0.346457,
          0.020291,
          null,
          0.34798,
          0.388948,
          0.105303,
          0.18421600000000002,
          0.30745100000000003,
          0.082873,
          0.20974299999999999,
          0.00359,
          0.258142,
          0.29545,
          0.249809,
          0.22231700000000001,
          0.14085699999999998,
          0.175439,
          0.0375,
          0.00253,
          0.27616999999999997
         ]
        },
        {
         "connectgaps": false,
         "line": {
          "dash": "solid"
         },
         "mode": "lines+markers",
         "name": "Meat, Seafood & Eggs",
         "type": "scatter",
         "x": [
          "Bakery",
          "Candied & Chocolate Covered Fruit",
          "Candy & Chocolate",
          "Coffee",
          "Condiments & Sauces",
          "Cooking & Baking Ingredients",
          "Dairy Products",
          "Dips & Spreads",
          "Food Gift Baskets",
          "Frozen Desserts & Novelties",
          "Fruit Flavored Drinks",
          "Fruits & Vegetables",
          "Grains, Rice & Cereal",
          "Hot Chocolate",
          "Juice",
          "Meat, Seafood & Eggs",
          "Milk",
          "Non-Dairy Milk",
          "Nuts & Seeds",
          "Pasta & Noodles",
          "Powdered Beverage Mixes",
          "Prepared Foods",
          "Prepared Meals",
          "Seasonings & Spices",
          "Snack Foods",
          "Soda",
          "Soups & Broths",
          "Sports & Energy Drinks",
          "Tea & Infusions",
          "Tofu, Soy & Vegetarian Products",
          "Vinegar Drinks",
          "Water"
         ],
         "y": [
          0.512891,
          0.003783,
          0.308054,
          0.215502,
          0.488633,
          0.431359,
          0.570472,
          0.407738,
          0.0011220000000000002,
          0.265088,
          0.209195,
          0.5602689999999999,
          0.41640600000000005,
          0.013378,
          0.34798,
          null,
          0.47542700000000004,
          0.091223,
          0.182952,
          0.344453,
          0.075503,
          0.35935100000000003,
          0.001952,
          0.295369,
          0.453433,
          0.303951,
          0.23176100000000002,
          0.141518,
          0.18287,
          0.029908999999999998,
          0.001689,
          0.308737
         ]
        },
        {
         "connectgaps": false,
         "line": {
          "dash": "solid"
         },
         "mode": "lines+markers",
         "name": "Milk",
         "type": "scatter",
         "x": [
          "Bakery",
          "Candied & Chocolate Covered Fruit",
          "Candy & Chocolate",
          "Coffee",
          "Condiments & Sauces",
          "Cooking & Baking Ingredients",
          "Dairy Products",
          "Dips & Spreads",
          "Food Gift Baskets",
          "Frozen Desserts & Novelties",
          "Fruit Flavored Drinks",
          "Fruits & Vegetables",
          "Grains, Rice & Cereal",
          "Hot Chocolate",
          "Juice",
          "Meat, Seafood & Eggs",
          "Milk",
          "Non-Dairy Milk",
          "Nuts & Seeds",
          "Pasta & Noodles",
          "Powdered Beverage Mixes",
          "Prepared Foods",
          "Prepared Meals",
          "Seasonings & Spices",
          "Snack Foods",
          "Soda",
          "Soups & Broths",
          "Sports & Energy Drinks",
          "Tea & Infusions",
          "Tofu, Soy & Vegetarian Products",
          "Vinegar Drinks",
          "Water"
         ],
         "y": [
          0.43689700000000004,
          0.0053950000000000005,
          0.315027,
          0.226958,
          0.43657399999999996,
          0.41287399999999996,
          0.49923100000000004,
          0.414342,
          0.001174,
          0.306464,
          0.234051,
          0.458992,
          0.446888,
          0.020437,
          0.388948,
          0.47542700000000004,
          null,
          0.10406099999999999,
          0.203825,
          0.376974,
          0.092004,
          0.268189,
          0.001628,
          0.309728,
          0.374814,
          0.303155,
          0.261299,
          0.15698099999999998,
          0.20205,
          0.038382,
          0.001417,
          0.317546
         ]
        },
        {
         "connectgaps": false,
         "line": {
          "dash": "solid"
         },
         "mode": "lines+markers",
         "name": "Non-Dairy Milk",
         "type": "scatter",
         "x": [
          "Bakery",
          "Candied & Chocolate Covered Fruit",
          "Candy & Chocolate",
          "Coffee",
          "Condiments & Sauces",
          "Cooking & Baking Ingredients",
          "Dairy Products",
          "Dips & Spreads",
          "Food Gift Baskets",
          "Frozen Desserts & Novelties",
          "Fruit Flavored Drinks",
          "Fruits & Vegetables",
          "Grains, Rice & Cereal",
          "Hot Chocolate",
          "Juice",
          "Meat, Seafood & Eggs",
          "Milk",
          "Non-Dairy Milk",
          "Nuts & Seeds",
          "Pasta & Noodles",
          "Powdered Beverage Mixes",
          "Prepared Foods",
          "Prepared Meals",
          "Seasonings & Spices",
          "Snack Foods",
          "Soda",
          "Soups & Broths",
          "Sports & Energy Drinks",
          "Tea & Infusions",
          "Tofu, Soy & Vegetarian Products",
          "Vinegar Drinks",
          "Water"
         ],
         "y": [
          0.081996,
          0.009226999999999999,
          0.077421,
          0.074153,
          0.097939,
          0.098524,
          0.098498,
          0.110448,
          0,
          0.090853,
          0.083131,
          0.09095700000000001,
          0.10818499999999999,
          0.015496000000000001,
          0.105303,
          0.091223,
          0.10406099999999999,
          null,
          0.109923,
          0.09957,
          0.050033,
          0.052554,
          0,
          0.098755,
          0.073292,
          0.066208,
          0.10044299999999999,
          0.062476,
          0.067393,
          0.072493,
          0.001209,
          0.091945
         ]
        },
        {
         "connectgaps": false,
         "line": {
          "dash": "solid"
         },
         "mode": "lines+markers",
         "name": "Nuts & Seeds",
         "type": "scatter",
         "x": [
          "Bakery",
          "Candied & Chocolate Covered Fruit",
          "Candy & Chocolate",
          "Coffee",
          "Condiments & Sauces",
          "Cooking & Baking Ingredients",
          "Dairy Products",
          "Dips & Spreads",
          "Food Gift Baskets",
          "Frozen Desserts & Novelties",
          "Fruit Flavored Drinks",
          "Fruits & Vegetables",
          "Grains, Rice & Cereal",
          "Hot Chocolate",
          "Juice",
          "Meat, Seafood & Eggs",
          "Milk",
          "Non-Dairy Milk",
          "Nuts & Seeds",
          "Pasta & Noodles",
          "Powdered Beverage Mixes",
          "Prepared Foods",
          "Prepared Meals",
          "Seasonings & Spices",
          "Snack Foods",
          "Soda",
          "Soups & Broths",
          "Sports & Energy Drinks",
          "Tea & Infusions",
          "Tofu, Soy & Vegetarian Products",
          "Vinegar Drinks",
          "Water"
         ],
         "y": [
          0.179649,
          0.007559000000000001,
          0.174854,
          0.133016,
          0.20311600000000002,
          0.211853,
          0.19914600000000002,
          0.201347,
          0.002234,
          0.162347,
          0.133183,
          0.201908,
          0.224741,
          0.015397999999999998,
          0.18421600000000002,
          0.182952,
          0.203825,
          0.109923,
          null,
          0.185384,
          0.06693099999999999,
          0.10985299999999999,
          0.000437,
          0.211825,
          0.177456,
          0.13406500000000002,
          0.159416,
          0.10005399999999999,
          0.131199,
          0.041737,
          0.001354,
          0.164992
         ]
        },
        {
         "connectgaps": false,
         "line": {
          "dash": "solid"
         },
         "mode": "lines+markers",
         "name": "Pasta & Noodles",
         "type": "scatter",
         "x": [
          "Bakery",
          "Candied & Chocolate Covered Fruit",
          "Candy & Chocolate",
          "Coffee",
          "Condiments & Sauces",
          "Cooking & Baking Ingredients",
          "Dairy Products",
          "Dips & Spreads",
          "Food Gift Baskets",
          "Frozen Desserts & Novelties",
          "Fruit Flavored Drinks",
          "Fruits & Vegetables",
          "Grains, Rice & Cereal",
          "Hot Chocolate",
          "Juice",
          "Meat, Seafood & Eggs",
          "Milk",
          "Non-Dairy Milk",
          "Nuts & Seeds",
          "Pasta & Noodles",
          "Powdered Beverage Mixes",
          "Prepared Foods",
          "Prepared Meals",
          "Seasonings & Spices",
          "Snack Foods",
          "Soda",
          "Soups & Broths",
          "Sports & Energy Drinks",
          "Tea & Infusions",
          "Tofu, Soy & Vegetarian Products",
          "Vinegar Drinks",
          "Water"
         ],
         "y": [
          0.32363000000000003,
          0.004734,
          0.258166,
          0.185763,
          0.36706500000000003,
          0.342891,
          0.36832800000000004,
          0.34615999999999997,
          0.001117,
          0.24281999999999998,
          0.19959100000000002,
          0.343511,
          0.362625,
          0.016689,
          0.30745100000000003,
          0.344453,
          0.376974,
          0.09957,
          0.185384,
          null,
          0.09010399999999999,
          0.22135500000000002,
          0.0008269999999999999,
          0.28334000000000004,
          0.29835500000000004,
          0.243523,
          0.249836,
          0.145798,
          0.17647100000000002,
          0.040098,
          0.002252,
          0.255098
         ]
        },
        {
         "connectgaps": false,
         "line": {
          "dash": "solid"
         },
         "mode": "lines+markers",
         "name": "Powdered Beverage Mixes",
         "type": "scatter",
         "x": [
          "Bakery",
          "Candied & Chocolate Covered Fruit",
          "Candy & Chocolate",
          "Coffee",
          "Condiments & Sauces",
          "Cooking & Baking Ingredients",
          "Dairy Products",
          "Dips & Spreads",
          "Food Gift Baskets",
          "Frozen Desserts & Novelties",
          "Fruit Flavored Drinks",
          "Fruits & Vegetables",
          "Grains, Rice & Cereal",
          "Hot Chocolate",
          "Juice",
          "Meat, Seafood & Eggs",
          "Milk",
          "Non-Dairy Milk",
          "Nuts & Seeds",
          "Pasta & Noodles",
          "Powdered Beverage Mixes",
          "Prepared Foods",
          "Prepared Meals",
          "Seasonings & Spices",
          "Snack Foods",
          "Soda",
          "Soups & Broths",
          "Sports & Energy Drinks",
          "Tea & Infusions",
          "Tofu, Soy & Vegetarian Products",
          "Vinegar Drinks",
          "Water"
         ],
         "y": [
          0.070262,
          0.0024129999999999998,
          0.068847,
          0.058066,
          0.08415399999999999,
          0.083348,
          0.079412,
          0.084874,
          0.0024809999999999997,
          0.073006,
          0.09365,
          0.072652,
          0.086069,
          0.011853,
          0.082873,
          0.075503,
          0.092004,
          0.050033,
          0.06693099999999999,
          0.09010399999999999,
          null,
          0.04403,
          0.001175,
          0.082166,
          0.066998,
          0.064465,
          0.081798,
          0.080743,
          0.054444000000000006,
          0.013699000000000001,
          0,
          0.074914
         ]
        },
        {
         "connectgaps": false,
         "line": {
          "dash": "solid"
         },
         "mode": "lines+markers",
         "name": "Prepared Foods",
         "type": "scatter",
         "x": [
          "Bakery",
          "Candied & Chocolate Covered Fruit",
          "Candy & Chocolate",
          "Coffee",
          "Condiments & Sauces",
          "Cooking & Baking Ingredients",
          "Dairy Products",
          "Dips & Spreads",
          "Food Gift Baskets",
          "Frozen Desserts & Novelties",
          "Fruit Flavored Drinks",
          "Fruits & Vegetables",
          "Grains, Rice & Cereal",
          "Hot Chocolate",
          "Juice",
          "Meat, Seafood & Eggs",
          "Milk",
          "Non-Dairy Milk",
          "Nuts & Seeds",
          "Pasta & Noodles",
          "Powdered Beverage Mixes",
          "Prepared Foods",
          "Prepared Meals",
          "Seasonings & Spices",
          "Snack Foods",
          "Soda",
          "Soups & Broths",
          "Sports & Energy Drinks",
          "Tea & Infusions",
          "Tofu, Soy & Vegetarian Products",
          "Vinegar Drinks",
          "Water"
         ],
         "y": [
          0.351887,
          0.003258,
          0.20895,
          0.14223,
          0.308086,
          0.264216,
          0.344414,
          0.25055700000000003,
          0.000616,
          0.172825,
          0.12972899999999998,
          0.345552,
          0.255812,
          0.010099,
          0.20974299999999999,
          0.35935100000000003,
          0.268189,
          0.052554,
          0.10985299999999999,
          0.22135500000000002,
          0.04403,
          null,
          0.003252,
          0.174291,
          0.32261,
          0.20830500000000002,
          0.143595,
          0.088279,
          0.127082,
          0.018886,
          0.0008820000000000001,
          0.195435
         ]
        },
        {
         "connectgaps": false,
         "line": {
          "dash": "solid"
         },
         "mode": "lines+markers",
         "name": "Prepared Meals",
         "type": "scatter",
         "x": [
          "Bakery",
          "Candied & Chocolate Covered Fruit",
          "Candy & Chocolate",
          "Coffee",
          "Condiments & Sauces",
          "Cooking & Baking Ingredients",
          "Dairy Products",
          "Dips & Spreads",
          "Food Gift Baskets",
          "Frozen Desserts & Novelties",
          "Fruit Flavored Drinks",
          "Fruits & Vegetables",
          "Grains, Rice & Cereal",
          "Hot Chocolate",
          "Juice",
          "Meat, Seafood & Eggs",
          "Milk",
          "Non-Dairy Milk",
          "Nuts & Seeds",
          "Pasta & Noodles",
          "Powdered Beverage Mixes",
          "Prepared Foods",
          "Prepared Meals",
          "Seasonings & Spices",
          "Snack Foods",
          "Soda",
          "Soups & Broths",
          "Sports & Energy Drinks",
          "Tea & Infusions",
          "Tofu, Soy & Vegetarian Products",
          "Vinegar Drinks",
          "Water"
         ],
         "y": [
          0.002708,
          0.013244999999999998,
          0.001216,
          0.002872,
          0.0026079999999999996,
          0.000529,
          0.001823,
          0.001116,
          0.007751999999999999,
          0.004274,
          0.00041600000000000003,
          0.001187,
          0.001265,
          0.007722,
          0.00359,
          0.001952,
          0.001628,
          0,
          0.000437,
          0.0008269999999999999,
          0.001175,
          0.003252,
          null,
          0.000599,
          0.002054,
          0.002343,
          0.000443,
          0.0005009999999999999,
          0.00207,
          0,
          0,
          0.000272
         ]
        },
        {
         "connectgaps": false,
         "line": {
          "dash": "solid"
         },
         "mode": "lines+markers",
         "name": "Seasonings & Spices",
         "type": "scatter",
         "x": [
          "Bakery",
          "Candied & Chocolate Covered Fruit",
          "Candy & Chocolate",
          "Coffee",
          "Condiments & Sauces",
          "Cooking & Baking Ingredients",
          "Dairy Products",
          "Dips & Spreads",
          "Food Gift Baskets",
          "Frozen Desserts & Novelties",
          "Fruit Flavored Drinks",
          "Fruits & Vegetables",
          "Grains, Rice & Cereal",
          "Hot Chocolate",
          "Juice",
          "Meat, Seafood & Eggs",
          "Milk",
          "Non-Dairy Milk",
          "Nuts & Seeds",
          "Pasta & Noodles",
          "Powdered Beverage Mixes",
          "Prepared Foods",
          "Prepared Meals",
          "Seasonings & Spices",
          "Snack Foods",
          "Soda",
          "Soups & Broths",
          "Sports & Energy Drinks",
          "Tea & Infusions",
          "Tofu, Soy & Vegetarian Products",
          "Vinegar Drinks",
          "Water"
         ],
         "y": [
          0.277706,
          0.0042369999999999994,
          0.22075,
          0.16708299999999998,
          0.319592,
          0.33479200000000003,
          0.32182,
          0.285666,
          0.0009109999999999999,
          0.20592399999999997,
          0.164298,
          0.311585,
          0.312054,
          0.014209999999999999,
          0.258142,
          0.295369,
          0.309728,
          0.098755,
          0.211825,
          0.28334000000000004,
          0.082166,
          0.174291,
          0.000599,
          null,
          0.253094,
          0.19550399999999998,
          0.228591,
          0.11726500000000001,
          0.16708299999999998,
          0.039233,
          0.001838,
          0.215439
         ]
        },
        {
         "connectgaps": false,
         "line": {
          "dash": "solid"
         },
         "mode": "lines+markers",
         "name": "Snack Foods",
         "type": "scatter",
         "x": [
          "Bakery",
          "Candied & Chocolate Covered Fruit",
          "Candy & Chocolate",
          "Coffee",
          "Condiments & Sauces",
          "Cooking & Baking Ingredients",
          "Dairy Products",
          "Dips & Spreads",
          "Food Gift Baskets",
          "Frozen Desserts & Novelties",
          "Fruit Flavored Drinks",
          "Fruits & Vegetables",
          "Grains, Rice & Cereal",
          "Hot Chocolate",
          "Juice",
          "Meat, Seafood & Eggs",
          "Milk",
          "Non-Dairy Milk",
          "Nuts & Seeds",
          "Pasta & Noodles",
          "Powdered Beverage Mixes",
          "Prepared Foods",
          "Prepared Meals",
          "Seasonings & Spices",
          "Snack Foods",
          "Soda",
          "Soups & Broths",
          "Sports & Energy Drinks",
          "Tea & Infusions",
          "Tofu, Soy & Vegetarian Products",
          "Vinegar Drinks",
          "Water"
         ],
         "y": [
          0.46862700000000007,
          0.003206,
          0.326221,
          0.202337,
          0.420541,
          0.387799,
          0.466808,
          0.357172,
          0.000802,
          0.21859699999999999,
          0.17811300000000002,
          0.466546,
          0.385477,
          0.010943000000000001,
          0.29545,
          0.453433,
          0.374814,
          0.073292,
          0.177456,
          0.29835500000000004,
          0.066998,
          0.32261,
          0.002054,
          0.253094,
          null,
          0.28628000000000003,
          0.19314800000000001,
          0.13553199999999999,
          0.163635,
          0.02375,
          0.0012640000000000001,
          0.269179
         ]
        },
        {
         "connectgaps": false,
         "line": {
          "dash": "solid"
         },
         "mode": "lines+markers",
         "name": "Soda",
         "type": "scatter",
         "x": [
          "Bakery",
          "Candied & Chocolate Covered Fruit",
          "Candy & Chocolate",
          "Coffee",
          "Condiments & Sauces",
          "Cooking & Baking Ingredients",
          "Dairy Products",
          "Dips & Spreads",
          "Food Gift Baskets",
          "Frozen Desserts & Novelties",
          "Fruit Flavored Drinks",
          "Fruits & Vegetables",
          "Grains, Rice & Cereal",
          "Hot Chocolate",
          "Juice",
          "Meat, Seafood & Eggs",
          "Milk",
          "Non-Dairy Milk",
          "Nuts & Seeds",
          "Pasta & Noodles",
          "Powdered Beverage Mixes",
          "Prepared Foods",
          "Prepared Meals",
          "Seasonings & Spices",
          "Snack Foods",
          "Soda",
          "Soups & Broths",
          "Sports & Energy Drinks",
          "Tea & Infusions",
          "Tofu, Soy & Vegetarian Products",
          "Vinegar Drinks",
          "Water"
         ],
         "y": [
          0.290989,
          0.003428,
          0.24024600000000002,
          0.15779300000000002,
          0.292004,
          0.269934,
          0.317816,
          0.269106,
          0,
          0.20944400000000002,
          0.18281,
          0.294149,
          0.262106,
          0.012894,
          0.249809,
          0.303951,
          0.303155,
          0.066208,
          0.13406500000000002,
          0.243523,
          0.064465,
          0.20830500000000002,
          0.002343,
          0.19550399999999998,
          0.28628000000000003,
          null,
          0.17844100000000002,
          0.142207,
          0.144352,
          0.020881,
          0.0010789999999999999,
          0.24924000000000002
         ]
        },
        {
         "connectgaps": false,
         "line": {
          "dash": "solid"
         },
         "mode": "lines+markers",
         "name": "Soups & Broths",
         "type": "scatter",
         "x": [
          "Bakery",
          "Candied & Chocolate Covered Fruit",
          "Candy & Chocolate",
          "Coffee",
          "Condiments & Sauces",
          "Cooking & Baking Ingredients",
          "Dairy Products",
          "Dips & Spreads",
          "Food Gift Baskets",
          "Frozen Desserts & Novelties",
          "Fruit Flavored Drinks",
          "Fruits & Vegetables",
          "Grains, Rice & Cereal",
          "Hot Chocolate",
          "Juice",
          "Meat, Seafood & Eggs",
          "Milk",
          "Non-Dairy Milk",
          "Nuts & Seeds",
          "Pasta & Noodles",
          "Powdered Beverage Mixes",
          "Prepared Foods",
          "Prepared Meals",
          "Seasonings & Spices",
          "Snack Foods",
          "Soda",
          "Soups & Broths",
          "Sports & Energy Drinks",
          "Tea & Infusions",
          "Tofu, Soy & Vegetarian Products",
          "Vinegar Drinks",
          "Water"
         ],
         "y": [
          0.21309099999999997,
          0.004039,
          0.18024500000000002,
          0.14537,
          0.25003800000000004,
          0.23421799999999998,
          0.240069,
          0.247153,
          0.000452,
          0.192897,
          0.148963,
          0.22750900000000002,
          0.247854,
          0.016031,
          0.22231700000000001,
          0.23176100000000002,
          0.261299,
          0.10044299999999999,
          0.159416,
          0.249836,
          0.081798,
          0.143595,
          0.000443,
          0.228591,
          0.19314800000000001,
          0.17844100000000002,
          null,
          0.12293699999999999,
          0.14190899999999998,
          0.039149,
          0.004587,
          0.191736
         ]
        },
        {
         "connectgaps": false,
         "line": {
          "dash": "solid"
         },
         "mode": "lines+markers",
         "name": "Sports & Energy Drinks",
         "type": "scatter",
         "x": [
          "Bakery",
          "Candied & Chocolate Covered Fruit",
          "Candy & Chocolate",
          "Coffee",
          "Condiments & Sauces",
          "Cooking & Baking Ingredients",
          "Dairy Products",
          "Dips & Spreads",
          "Food Gift Baskets",
          "Frozen Desserts & Novelties",
          "Fruit Flavored Drinks",
          "Fruits & Vegetables",
          "Grains, Rice & Cereal",
          "Hot Chocolate",
          "Juice",
          "Meat, Seafood & Eggs",
          "Milk",
          "Non-Dairy Milk",
          "Nuts & Seeds",
          "Pasta & Noodles",
          "Powdered Beverage Mixes",
          "Prepared Foods",
          "Prepared Meals",
          "Seasonings & Spices",
          "Snack Foods",
          "Soda",
          "Soups & Broths",
          "Sports & Energy Drinks",
          "Tea & Infusions",
          "Tofu, Soy & Vegetarian Products",
          "Vinegar Drinks",
          "Water"
         ],
         "y": [
          0.13688599999999998,
          0.002534,
          0.12727,
          0.08856900000000001,
          0.138148,
          0.132187,
          0.146534,
          0.14391900000000002,
          0,
          0.110978,
          0.14077699999999999,
          0.131747,
          0.138182,
          0.005301,
          0.14085699999999998,
          0.141518,
          0.15698099999999998,
          0.062476,
          0.10005399999999999,
          0.145798,
          0.080743,
          0.088279,
          0.0005009999999999999,
          0.11726500000000001,
          0.13553199999999999,
          0.142207,
          0.12293699999999999,
          null,
          0.097702,
          0.008314,
          0.001037,
          0.16125599999999998
         ]
        },
        {
         "connectgaps": false,
         "line": {
          "dash": "solid"
         },
         "mode": "lines+markers",
         "name": "Tea & Infusions",
         "type": "scatter",
         "x": [
          "Bakery",
          "Candied & Chocolate Covered Fruit",
          "Candy & Chocolate",
          "Coffee",
          "Condiments & Sauces",
          "Cooking & Baking Ingredients",
          "Dairy Products",
          "Dips & Spreads",
          "Food Gift Baskets",
          "Frozen Desserts & Novelties",
          "Fruit Flavored Drinks",
          "Fruits & Vegetables",
          "Grains, Rice & Cereal",
          "Hot Chocolate",
          "Juice",
          "Meat, Seafood & Eggs",
          "Milk",
          "Non-Dairy Milk",
          "Nuts & Seeds",
          "Pasta & Noodles",
          "Powdered Beverage Mixes",
          "Prepared Foods",
          "Prepared Meals",
          "Seasonings & Spices",
          "Snack Foods",
          "Soda",
          "Soups & Broths",
          "Sports & Energy Drinks",
          "Tea & Infusions",
          "Tofu, Soy & Vegetarian Products",
          "Vinegar Drinks",
          "Water"
         ],
         "y": [
          0.177387,
          0.006281,
          0.153314,
          0.143951,
          0.184449,
          0.193274,
          0.195666,
          0.177901,
          0.00105,
          0.15166,
          0.12879100000000002,
          0.184416,
          0.192823,
          0.015959,
          0.175439,
          0.18287,
          0.20205,
          0.067393,
          0.131199,
          0.17647100000000002,
          0.054444000000000006,
          0.127082,
          0.00207,
          0.16708299999999998,
          0.163635,
          0.144352,
          0.14190899999999998,
          0.097702,
          null,
          0.024884,
          0.001766,
          0.156898
         ]
        },
        {
         "connectgaps": false,
         "line": {
          "dash": "solid"
         },
         "mode": "lines+markers",
         "name": "Tofu, Soy & Vegetarian Products",
         "type": "scatter",
         "x": [
          "Bakery",
          "Candied & Chocolate Covered Fruit",
          "Candy & Chocolate",
          "Coffee",
          "Condiments & Sauces",
          "Cooking & Baking Ingredients",
          "Dairy Products",
          "Dips & Spreads",
          "Food Gift Baskets",
          "Frozen Desserts & Novelties",
          "Fruit Flavored Drinks",
          "Fruits & Vegetables",
          "Grains, Rice & Cereal",
          "Hot Chocolate",
          "Juice",
          "Meat, Seafood & Eggs",
          "Milk",
          "Non-Dairy Milk",
          "Nuts & Seeds",
          "Pasta & Noodles",
          "Powdered Beverage Mixes",
          "Prepared Foods",
          "Prepared Meals",
          "Seasonings & Spices",
          "Snack Foods",
          "Soda",
          "Soups & Broths",
          "Sports & Energy Drinks",
          "Tea & Infusions",
          "Tofu, Soy & Vegetarian Products",
          "Vinegar Drinks",
          "Water"
         ],
         "y": [
          0.026567,
          0.0029760000000000003,
          0.029731,
          0.025478,
          0.032774,
          0.031497000000000004,
          0.031659,
          0.039626,
          0,
          0.041609,
          0.032708,
          0.029942,
          0.037879,
          0.022989,
          0.0375,
          0.029908999999999998,
          0.038382,
          0.072493,
          0.041737,
          0.040098,
          0.013699000000000001,
          0.018886,
          0,
          0.039233,
          0.02375,
          0.020881,
          0.039149,
          0.008314,
          0.024884,
          null,
          0,
          0.028176999999999997
         ]
        },
        {
         "connectgaps": false,
         "line": {
          "dash": "solid"
         },
         "mode": "lines+markers",
         "name": "Vinegar Drinks",
         "type": "scatter",
         "x": [
          "Bakery",
          "Candied & Chocolate Covered Fruit",
          "Candy & Chocolate",
          "Coffee",
          "Condiments & Sauces",
          "Cooking & Baking Ingredients",
          "Dairy Products",
          "Dips & Spreads",
          "Food Gift Baskets",
          "Frozen Desserts & Novelties",
          "Fruit Flavored Drinks",
          "Fruits & Vegetables",
          "Grains, Rice & Cereal",
          "Hot Chocolate",
          "Juice",
          "Meat, Seafood & Eggs",
          "Milk",
          "Non-Dairy Milk",
          "Nuts & Seeds",
          "Pasta & Noodles",
          "Powdered Beverage Mixes",
          "Prepared Foods",
          "Prepared Meals",
          "Seasonings & Spices",
          "Snack Foods",
          "Soda",
          "Soups & Broths",
          "Sports & Energy Drinks",
          "Tea & Infusions",
          "Tofu, Soy & Vegetarian Products",
          "Vinegar Drinks",
          "Water"
         ],
         "y": [
          0.001559,
          0,
          0.000616,
          0.0010609999999999999,
          0.001812,
          0.0019649999999999997,
          0.001381,
          0.0015869999999999999,
          0,
          0.0021850000000000003,
          0.002144,
          0.001731,
          0.001284,
          0,
          0.00253,
          0.001689,
          0.001417,
          0.001209,
          0.001354,
          0.002252,
          0,
          0.0008820000000000001,
          0,
          0.001838,
          0.0012640000000000001,
          0.0010789999999999999,
          0.004587,
          0.001037,
          0.001766,
          0,
          null,
          0.0011070000000000001
         ]
        },
        {
         "connectgaps": false,
         "line": {
          "dash": "solid"
         },
         "mode": "lines+markers",
         "name": "Water",
         "type": "scatter",
         "x": [
          "Bakery",
          "Candied & Chocolate Covered Fruit",
          "Candy & Chocolate",
          "Coffee",
          "Condiments & Sauces",
          "Cooking & Baking Ingredients",
          "Dairy Products",
          "Dips & Spreads",
          "Food Gift Baskets",
          "Frozen Desserts & Novelties",
          "Fruit Flavored Drinks",
          "Fruits & Vegetables",
          "Grains, Rice & Cereal",
          "Hot Chocolate",
          "Juice",
          "Meat, Seafood & Eggs",
          "Milk",
          "Non-Dairy Milk",
          "Nuts & Seeds",
          "Pasta & Noodles",
          "Powdered Beverage Mixes",
          "Prepared Foods",
          "Prepared Meals",
          "Seasonings & Spices",
          "Snack Foods",
          "Soda",
          "Soups & Broths",
          "Sports & Energy Drinks",
          "Tea & Infusions",
          "Tofu, Soy & Vegetarian Products",
          "Vinegar Drinks",
          "Water"
         ],
         "y": [
          0.290271,
          0.0032869999999999996,
          0.237844,
          0.174094,
          0.29681799999999997,
          0.27575700000000003,
          0.316139,
          0.283467,
          0.0016510000000000001,
          0.215671,
          0.21408000000000002,
          0.299005,
          0.28749600000000003,
          0.011262999999999999,
          0.27616999999999997,
          0.308737,
          0.317546,
          0.091945,
          0.164992,
          0.255098,
          0.074914,
          0.195435,
          0.000272,
          0.215439,
          0.269179,
          0.24924000000000002,
          0.191736,
          0.16125599999999998,
          0.156898,
          0.028176999999999997,
          0.0011070000000000001,
          null
         ]
        }
       ],
       "layout": {
        "autosize": false,
        "height": 1000,
        "template": {
         "data": {
          "bar": [
           {
            "error_x": {
             "color": "#2a3f5f"
            },
            "error_y": {
             "color": "#2a3f5f"
            },
            "marker": {
             "line": {
              "color": "#E5ECF6",
              "width": 0.5
             }
            },
            "type": "bar"
           }
          ],
          "barpolar": [
           {
            "marker": {
             "line": {
              "color": "#E5ECF6",
              "width": 0.5
             }
            },
            "type": "barpolar"
           }
          ],
          "carpet": [
           {
            "aaxis": {
             "endlinecolor": "#2a3f5f",
             "gridcolor": "white",
             "linecolor": "white",
             "minorgridcolor": "white",
             "startlinecolor": "#2a3f5f"
            },
            "baxis": {
             "endlinecolor": "#2a3f5f",
             "gridcolor": "white",
             "linecolor": "white",
             "minorgridcolor": "white",
             "startlinecolor": "#2a3f5f"
            },
            "type": "carpet"
           }
          ],
          "choropleth": [
           {
            "colorbar": {
             "outlinewidth": 0,
             "ticks": ""
            },
            "type": "choropleth"
           }
          ],
          "contour": [
           {
            "colorbar": {
             "outlinewidth": 0,
             "ticks": ""
            },
            "colorscale": [
             [
              0,
              "#0d0887"
             ],
             [
              0.1111111111111111,
              "#46039f"
             ],
             [
              0.2222222222222222,
              "#7201a8"
             ],
             [
              0.3333333333333333,
              "#9c179e"
             ],
             [
              0.4444444444444444,
              "#bd3786"
             ],
             [
              0.5555555555555556,
              "#d8576b"
             ],
             [
              0.6666666666666666,
              "#ed7953"
             ],
             [
              0.7777777777777778,
              "#fb9f3a"
             ],
             [
              0.8888888888888888,
              "#fdca26"
             ],
             [
              1,
              "#f0f921"
             ]
            ],
            "type": "contour"
           }
          ],
          "contourcarpet": [
           {
            "colorbar": {
             "outlinewidth": 0,
             "ticks": ""
            },
            "type": "contourcarpet"
           }
          ],
          "heatmap": [
           {
            "colorbar": {
             "outlinewidth": 0,
             "ticks": ""
            },
            "colorscale": [
             [
              0,
              "#0d0887"
             ],
             [
              0.1111111111111111,
              "#46039f"
             ],
             [
              0.2222222222222222,
              "#7201a8"
             ],
             [
              0.3333333333333333,
              "#9c179e"
             ],
             [
              0.4444444444444444,
              "#bd3786"
             ],
             [
              0.5555555555555556,
              "#d8576b"
             ],
             [
              0.6666666666666666,
              "#ed7953"
             ],
             [
              0.7777777777777778,
              "#fb9f3a"
             ],
             [
              0.8888888888888888,
              "#fdca26"
             ],
             [
              1,
              "#f0f921"
             ]
            ],
            "type": "heatmap"
           }
          ],
          "heatmapgl": [
           {
            "colorbar": {
             "outlinewidth": 0,
             "ticks": ""
            },
            "colorscale": [
             [
              0,
              "#0d0887"
             ],
             [
              0.1111111111111111,
              "#46039f"
             ],
             [
              0.2222222222222222,
              "#7201a8"
             ],
             [
              0.3333333333333333,
              "#9c179e"
             ],
             [
              0.4444444444444444,
              "#bd3786"
             ],
             [
              0.5555555555555556,
              "#d8576b"
             ],
             [
              0.6666666666666666,
              "#ed7953"
             ],
             [
              0.7777777777777778,
              "#fb9f3a"
             ],
             [
              0.8888888888888888,
              "#fdca26"
             ],
             [
              1,
              "#f0f921"
             ]
            ],
            "type": "heatmapgl"
           }
          ],
          "histogram": [
           {
            "marker": {
             "colorbar": {
              "outlinewidth": 0,
              "ticks": ""
             }
            },
            "type": "histogram"
           }
          ],
          "histogram2d": [
           {
            "colorbar": {
             "outlinewidth": 0,
             "ticks": ""
            },
            "colorscale": [
             [
              0,
              "#0d0887"
             ],
             [
              0.1111111111111111,
              "#46039f"
             ],
             [
              0.2222222222222222,
              "#7201a8"
             ],
             [
              0.3333333333333333,
              "#9c179e"
             ],
             [
              0.4444444444444444,
              "#bd3786"
             ],
             [
              0.5555555555555556,
              "#d8576b"
             ],
             [
              0.6666666666666666,
              "#ed7953"
             ],
             [
              0.7777777777777778,
              "#fb9f3a"
             ],
             [
              0.8888888888888888,
              "#fdca26"
             ],
             [
              1,
              "#f0f921"
             ]
            ],
            "type": "histogram2d"
           }
          ],
          "histogram2dcontour": [
           {
            "colorbar": {
             "outlinewidth": 0,
             "ticks": ""
            },
            "colorscale": [
             [
              0,
              "#0d0887"
             ],
             [
              0.1111111111111111,
              "#46039f"
             ],
             [
              0.2222222222222222,
              "#7201a8"
             ],
             [
              0.3333333333333333,
              "#9c179e"
             ],
             [
              0.4444444444444444,
              "#bd3786"
             ],
             [
              0.5555555555555556,
              "#d8576b"
             ],
             [
              0.6666666666666666,
              "#ed7953"
             ],
             [
              0.7777777777777778,
              "#fb9f3a"
             ],
             [
              0.8888888888888888,
              "#fdca26"
             ],
             [
              1,
              "#f0f921"
             ]
            ],
            "type": "histogram2dcontour"
           }
          ],
          "mesh3d": [
           {
            "colorbar": {
             "outlinewidth": 0,
             "ticks": ""
            },
            "type": "mesh3d"
           }
          ],
          "parcoords": [
           {
            "line": {
             "colorbar": {
              "outlinewidth": 0,
              "ticks": ""
             }
            },
            "type": "parcoords"
           }
          ],
          "pie": [
           {
            "automargin": true,
            "type": "pie"
           }
          ],
          "scatter": [
           {
            "marker": {
             "colorbar": {
              "outlinewidth": 0,
              "ticks": ""
             }
            },
            "type": "scatter"
           }
          ],
          "scatter3d": [
           {
            "line": {
             "colorbar": {
              "outlinewidth": 0,
              "ticks": ""
             }
            },
            "marker": {
             "colorbar": {
              "outlinewidth": 0,
              "ticks": ""
             }
            },
            "type": "scatter3d"
           }
          ],
          "scattercarpet": [
           {
            "marker": {
             "colorbar": {
              "outlinewidth": 0,
              "ticks": ""
             }
            },
            "type": "scattercarpet"
           }
          ],
          "scattergeo": [
           {
            "marker": {
             "colorbar": {
              "outlinewidth": 0,
              "ticks": ""
             }
            },
            "type": "scattergeo"
           }
          ],
          "scattergl": [
           {
            "marker": {
             "colorbar": {
              "outlinewidth": 0,
              "ticks": ""
             }
            },
            "type": "scattergl"
           }
          ],
          "scattermapbox": [
           {
            "marker": {
             "colorbar": {
              "outlinewidth": 0,
              "ticks": ""
             }
            },
            "type": "scattermapbox"
           }
          ],
          "scatterpolar": [
           {
            "marker": {
             "colorbar": {
              "outlinewidth": 0,
              "ticks": ""
             }
            },
            "type": "scatterpolar"
           }
          ],
          "scatterpolargl": [
           {
            "marker": {
             "colorbar": {
              "outlinewidth": 0,
              "ticks": ""
             }
            },
            "type": "scatterpolargl"
           }
          ],
          "scatterternary": [
           {
            "marker": {
             "colorbar": {
              "outlinewidth": 0,
              "ticks": ""
             }
            },
            "type": "scatterternary"
           }
          ],
          "surface": [
           {
            "colorbar": {
             "outlinewidth": 0,
             "ticks": ""
            },
            "colorscale": [
             [
              0,
              "#0d0887"
             ],
             [
              0.1111111111111111,
              "#46039f"
             ],
             [
              0.2222222222222222,
              "#7201a8"
             ],
             [
              0.3333333333333333,
              "#9c179e"
             ],
             [
              0.4444444444444444,
              "#bd3786"
             ],
             [
              0.5555555555555556,
              "#d8576b"
             ],
             [
              0.6666666666666666,
              "#ed7953"
             ],
             [
              0.7777777777777778,
              "#fb9f3a"
             ],
             [
              0.8888888888888888,
              "#fdca26"
             ],
             [
              1,
              "#f0f921"
             ]
            ],
            "type": "surface"
           }
          ],
          "table": [
           {
            "cells": {
             "fill": {
              "color": "#EBF0F8"
             },
             "line": {
              "color": "white"
             }
            },
            "header": {
             "fill": {
              "color": "#C8D4E3"
             },
             "line": {
              "color": "white"
             }
            },
            "type": "table"
           }
          ]
         },
         "layout": {
          "annotationdefaults": {
           "arrowcolor": "#2a3f5f",
           "arrowhead": 0,
           "arrowwidth": 1
          },
          "coloraxis": {
           "colorbar": {
            "outlinewidth": 0,
            "ticks": ""
           }
          },
          "colorscale": {
           "diverging": [
            [
             0,
             "#8e0152"
            ],
            [
             0.1,
             "#c51b7d"
            ],
            [
             0.2,
             "#de77ae"
            ],
            [
             0.3,
             "#f1b6da"
            ],
            [
             0.4,
             "#fde0ef"
            ],
            [
             0.5,
             "#f7f7f7"
            ],
            [
             0.6,
             "#e6f5d0"
            ],
            [
             0.7,
             "#b8e186"
            ],
            [
             0.8,
             "#7fbc41"
            ],
            [
             0.9,
             "#4d9221"
            ],
            [
             1,
             "#276419"
            ]
           ],
           "sequential": [
            [
             0,
             "#0d0887"
            ],
            [
             0.1111111111111111,
             "#46039f"
            ],
            [
             0.2222222222222222,
             "#7201a8"
            ],
            [
             0.3333333333333333,
             "#9c179e"
            ],
            [
             0.4444444444444444,
             "#bd3786"
            ],
            [
             0.5555555555555556,
             "#d8576b"
            ],
            [
             0.6666666666666666,
             "#ed7953"
            ],
            [
             0.7777777777777778,
             "#fb9f3a"
            ],
            [
             0.8888888888888888,
             "#fdca26"
            ],
            [
             1,
             "#f0f921"
            ]
           ],
           "sequentialminus": [
            [
             0,
             "#0d0887"
            ],
            [
             0.1111111111111111,
             "#46039f"
            ],
            [
             0.2222222222222222,
             "#7201a8"
            ],
            [
             0.3333333333333333,
             "#9c179e"
            ],
            [
             0.4444444444444444,
             "#bd3786"
            ],
            [
             0.5555555555555556,
             "#d8576b"
            ],
            [
             0.6666666666666666,
             "#ed7953"
            ],
            [
             0.7777777777777778,
             "#fb9f3a"
            ],
            [
             0.8888888888888888,
             "#fdca26"
            ],
            [
             1,
             "#f0f921"
            ]
           ]
          },
          "colorway": [
           "#636efa",
           "#EF553B",
           "#00cc96",
           "#ab63fa",
           "#FFA15A",
           "#19d3f3",
           "#FF6692",
           "#B6E880",
           "#FF97FF",
           "#FECB52"
          ],
          "font": {
           "color": "#2a3f5f"
          },
          "geo": {
           "bgcolor": "white",
           "lakecolor": "white",
           "landcolor": "#E5ECF6",
           "showlakes": true,
           "showland": true,
           "subunitcolor": "white"
          },
          "hoverlabel": {
           "align": "left"
          },
          "hovermode": "closest",
          "mapbox": {
           "style": "light"
          },
          "paper_bgcolor": "white",
          "plot_bgcolor": "#E5ECF6",
          "polar": {
           "angularaxis": {
            "gridcolor": "white",
            "linecolor": "white",
            "ticks": ""
           },
           "bgcolor": "#E5ECF6",
           "radialaxis": {
            "gridcolor": "white",
            "linecolor": "white",
            "ticks": ""
           }
          },
          "scene": {
           "xaxis": {
            "backgroundcolor": "#E5ECF6",
            "gridcolor": "white",
            "gridwidth": 2,
            "linecolor": "white",
            "showbackground": true,
            "ticks": "",
            "zerolinecolor": "white"
           },
           "yaxis": {
            "backgroundcolor": "#E5ECF6",
            "gridcolor": "white",
            "gridwidth": 2,
            "linecolor": "white",
            "showbackground": true,
            "ticks": "",
            "zerolinecolor": "white"
           },
           "zaxis": {
            "backgroundcolor": "#E5ECF6",
            "gridcolor": "white",
            "gridwidth": 2,
            "linecolor": "white",
            "showbackground": true,
            "ticks": "",
            "zerolinecolor": "white"
           }
          },
          "shapedefaults": {
           "line": {
            "color": "#2a3f5f"
           }
          },
          "ternary": {
           "aaxis": {
            "gridcolor": "white",
            "linecolor": "white",
            "ticks": ""
           },
           "baxis": {
            "gridcolor": "white",
            "linecolor": "white",
            "ticks": ""
           },
           "bgcolor": "#E5ECF6",
           "caxis": {
            "gridcolor": "white",
            "linecolor": "white",
            "ticks": ""
           }
          },
          "title": {
           "x": 0.05
          },
          "xaxis": {
           "automargin": true,
           "gridcolor": "white",
           "linecolor": "white",
           "ticks": "",
           "title": {
            "standoff": 15
           },
           "zerolinecolor": "white",
           "zerolinewidth": 2
          },
          "yaxis": {
           "automargin": true,
           "gridcolor": "white",
           "linecolor": "white",
           "ticks": "",
           "title": {
            "standoff": 15
           },
           "zerolinecolor": "white",
           "zerolinewidth": 2
          }
         }
        },
        "updatemenus": [
         {
          "active": 0,
          "buttons": [
           {
            "args": [
             {
              "showlegend": true,
              "title": "All",
              "visible": [
               true,
               true,
               true,
               true,
               true,
               true,
               true,
               true,
               true,
               true,
               true,
               true,
               true,
               true,
               true,
               true,
               true,
               true,
               true,
               true,
               true,
               true,
               true,
               true,
               true,
               true,
               true,
               true,
               true,
               true,
               true,
               true
              ]
             }
            ],
            "label": "All",
            "method": "update"
           },
           {
            "args": [
             {
              "showlegend": true,
              "title": "Bakery",
              "visible": [
               true,
               false,
               false,
               false,
               false,
               false,
               false,
               false,
               false,
               false,
               false,
               false,
               false,
               false,
               false,
               false,
               false,
               false,
               false,
               false,
               false,
               false,
               false,
               false,
               false,
               false,
               false,
               false,
               false,
               false,
               false,
               false
              ]
             }
            ],
            "label": "Bakery",
            "method": "update"
           },
           {
            "args": [
             {
              "showlegend": true,
              "title": "Candied & Chocolate Covered Fruit",
              "visible": [
               false,
               true,
               false,
               false,
               false,
               false,
               false,
               false,
               false,
               false,
               false,
               false,
               false,
               false,
               false,
               false,
               false,
               false,
               false,
               false,
               false,
               false,
               false,
               false,
               false,
               false,
               false,
               false,
               false,
               false,
               false,
               false
              ]
             }
            ],
            "label": "Candied & Chocolate Covered Fruit",
            "method": "update"
           },
           {
            "args": [
             {
              "showlegend": true,
              "title": "Candy & Chocolate",
              "visible": [
               false,
               false,
               true,
               false,
               false,
               false,
               false,
               false,
               false,
               false,
               false,
               false,
               false,
               false,
               false,
               false,
               false,
               false,
               false,
               false,
               false,
               false,
               false,
               false,
               false,
               false,
               false,
               false,
               false,
               false,
               false,
               false
              ]
             }
            ],
            "label": "Candy & Chocolate",
            "method": "update"
           },
           {
            "args": [
             {
              "showlegend": true,
              "title": "Coffee",
              "visible": [
               false,
               false,
               false,
               true,
               false,
               false,
               false,
               false,
               false,
               false,
               false,
               false,
               false,
               false,
               false,
               false,
               false,
               false,
               false,
               false,
               false,
               false,
               false,
               false,
               false,
               false,
               false,
               false,
               false,
               false,
               false,
               false
              ]
             }
            ],
            "label": "Coffee",
            "method": "update"
           },
           {
            "args": [
             {
              "showlegend": true,
              "title": "Condiments & Sauces",
              "visible": [
               false,
               false,
               false,
               false,
               true,
               false,
               false,
               false,
               false,
               false,
               false,
               false,
               false,
               false,
               false,
               false,
               false,
               false,
               false,
               false,
               false,
               false,
               false,
               false,
               false,
               false,
               false,
               false,
               false,
               false,
               false,
               false
              ]
             }
            ],
            "label": "Condiments & Sauces",
            "method": "update"
           },
           {
            "args": [
             {
              "showlegend": true,
              "title": "Cooking & Baking Ingredients",
              "visible": [
               false,
               false,
               false,
               false,
               false,
               true,
               false,
               false,
               false,
               false,
               false,
               false,
               false,
               false,
               false,
               false,
               false,
               false,
               false,
               false,
               false,
               false,
               false,
               false,
               false,
               false,
               false,
               false,
               false,
               false,
               false,
               false
              ]
             }
            ],
            "label": "Cooking & Baking Ingredients",
            "method": "update"
           },
           {
            "args": [
             {
              "showlegend": true,
              "title": "Dairy Products",
              "visible": [
               false,
               false,
               false,
               false,
               false,
               false,
               true,
               false,
               false,
               false,
               false,
               false,
               false,
               false,
               false,
               false,
               false,
               false,
               false,
               false,
               false,
               false,
               false,
               false,
               false,
               false,
               false,
               false,
               false,
               false,
               false,
               false
              ]
             }
            ],
            "label": "Dairy Products",
            "method": "update"
           },
           {
            "args": [
             {
              "showlegend": true,
              "title": "Dips & Spreads",
              "visible": [
               false,
               false,
               false,
               false,
               false,
               false,
               false,
               true,
               false,
               false,
               false,
               false,
               false,
               false,
               false,
               false,
               false,
               false,
               false,
               false,
               false,
               false,
               false,
               false,
               false,
               false,
               false,
               false,
               false,
               false,
               false,
               false
              ]
             }
            ],
            "label": "Dips & Spreads",
            "method": "update"
           },
           {
            "args": [
             {
              "showlegend": true,
              "title": "Food Gift Baskets",
              "visible": [
               false,
               false,
               false,
               false,
               false,
               false,
               false,
               false,
               true,
               false,
               false,
               false,
               false,
               false,
               false,
               false,
               false,
               false,
               false,
               false,
               false,
               false,
               false,
               false,
               false,
               false,
               false,
               false,
               false,
               false,
               false,
               false
              ]
             }
            ],
            "label": "Food Gift Baskets",
            "method": "update"
           },
           {
            "args": [
             {
              "showlegend": true,
              "title": "Frozen Desserts & Novelties",
              "visible": [
               false,
               false,
               false,
               false,
               false,
               false,
               false,
               false,
               false,
               true,
               false,
               false,
               false,
               false,
               false,
               false,
               false,
               false,
               false,
               false,
               false,
               false,
               false,
               false,
               false,
               false,
               false,
               false,
               false,
               false,
               false,
               false
              ]
             }
            ],
            "label": "Frozen Desserts & Novelties",
            "method": "update"
           },
           {
            "args": [
             {
              "showlegend": true,
              "title": "Fruit Flavored Drinks",
              "visible": [
               false,
               false,
               false,
               false,
               false,
               false,
               false,
               false,
               false,
               false,
               true,
               false,
               false,
               false,
               false,
               false,
               false,
               false,
               false,
               false,
               false,
               false,
               false,
               false,
               false,
               false,
               false,
               false,
               false,
               false,
               false,
               false
              ]
             }
            ],
            "label": "Fruit Flavored Drinks",
            "method": "update"
           },
           {
            "args": [
             {
              "showlegend": true,
              "title": "Fruits & Vegetables",
              "visible": [
               false,
               false,
               false,
               false,
               false,
               false,
               false,
               false,
               false,
               false,
               false,
               true,
               false,
               false,
               false,
               false,
               false,
               false,
               false,
               false,
               false,
               false,
               false,
               false,
               false,
               false,
               false,
               false,
               false,
               false,
               false,
               false
              ]
             }
            ],
            "label": "Fruits & Vegetables",
            "method": "update"
           },
           {
            "args": [
             {
              "showlegend": true,
              "title": "Grains, Rice & Cereal",
              "visible": [
               false,
               false,
               false,
               false,
               false,
               false,
               false,
               false,
               false,
               false,
               false,
               false,
               true,
               false,
               false,
               false,
               false,
               false,
               false,
               false,
               false,
               false,
               false,
               false,
               false,
               false,
               false,
               false,
               false,
               false,
               false,
               false
              ]
             }
            ],
            "label": "Grains, Rice & Cereal",
            "method": "update"
           },
           {
            "args": [
             {
              "showlegend": true,
              "title": "Hot Chocolate",
              "visible": [
               false,
               false,
               false,
               false,
               false,
               false,
               false,
               false,
               false,
               false,
               false,
               false,
               false,
               true,
               false,
               false,
               false,
               false,
               false,
               false,
               false,
               false,
               false,
               false,
               false,
               false,
               false,
               false,
               false,
               false,
               false,
               false
              ]
             }
            ],
            "label": "Hot Chocolate",
            "method": "update"
           },
           {
            "args": [
             {
              "showlegend": true,
              "title": "Juice",
              "visible": [
               false,
               false,
               false,
               false,
               false,
               false,
               false,
               false,
               false,
               false,
               false,
               false,
               false,
               false,
               true,
               false,
               false,
               false,
               false,
               false,
               false,
               false,
               false,
               false,
               false,
               false,
               false,
               false,
               false,
               false,
               false,
               false
              ]
             }
            ],
            "label": "Juice",
            "method": "update"
           },
           {
            "args": [
             {
              "showlegend": true,
              "title": "Meat, Seafood & Eggs",
              "visible": [
               false,
               false,
               false,
               false,
               false,
               false,
               false,
               false,
               false,
               false,
               false,
               false,
               false,
               false,
               false,
               true,
               false,
               false,
               false,
               false,
               false,
               false,
               false,
               false,
               false,
               false,
               false,
               false,
               false,
               false,
               false,
               false
              ]
             }
            ],
            "label": "Meat, Seafood & Eggs",
            "method": "update"
           },
           {
            "args": [
             {
              "showlegend": true,
              "title": "Milk",
              "visible": [
               false,
               false,
               false,
               false,
               false,
               false,
               false,
               false,
               false,
               false,
               false,
               false,
               false,
               false,
               false,
               false,
               true,
               false,
               false,
               false,
               false,
               false,
               false,
               false,
               false,
               false,
               false,
               false,
               false,
               false,
               false,
               false
              ]
             }
            ],
            "label": "Milk",
            "method": "update"
           },
           {
            "args": [
             {
              "showlegend": true,
              "title": "Non-Dairy Milk",
              "visible": [
               false,
               false,
               false,
               false,
               false,
               false,
               false,
               false,
               false,
               false,
               false,
               false,
               false,
               false,
               false,
               false,
               false,
               true,
               false,
               false,
               false,
               false,
               false,
               false,
               false,
               false,
               false,
               false,
               false,
               false,
               false,
               false
              ]
             }
            ],
            "label": "Non-Dairy Milk",
            "method": "update"
           },
           {
            "args": [
             {
              "showlegend": true,
              "title": "Nuts & Seeds",
              "visible": [
               false,
               false,
               false,
               false,
               false,
               false,
               false,
               false,
               false,
               false,
               false,
               false,
               false,
               false,
               false,
               false,
               false,
               false,
               true,
               false,
               false,
               false,
               false,
               false,
               false,
               false,
               false,
               false,
               false,
               false,
               false,
               false
              ]
             }
            ],
            "label": "Nuts & Seeds",
            "method": "update"
           },
           {
            "args": [
             {
              "showlegend": true,
              "title": "Pasta & Noodles",
              "visible": [
               false,
               false,
               false,
               false,
               false,
               false,
               false,
               false,
               false,
               false,
               false,
               false,
               false,
               false,
               false,
               false,
               false,
               false,
               false,
               true,
               false,
               false,
               false,
               false,
               false,
               false,
               false,
               false,
               false,
               false,
               false,
               false
              ]
             }
            ],
            "label": "Pasta & Noodles",
            "method": "update"
           },
           {
            "args": [
             {
              "showlegend": true,
              "title": "Powdered Beverage Mixes",
              "visible": [
               false,
               false,
               false,
               false,
               false,
               false,
               false,
               false,
               false,
               false,
               false,
               false,
               false,
               false,
               false,
               false,
               false,
               false,
               false,
               false,
               true,
               false,
               false,
               false,
               false,
               false,
               false,
               false,
               false,
               false,
               false,
               false
              ]
             }
            ],
            "label": "Powdered Beverage Mixes",
            "method": "update"
           },
           {
            "args": [
             {
              "showlegend": true,
              "title": "Prepared Foods",
              "visible": [
               false,
               false,
               false,
               false,
               false,
               false,
               false,
               false,
               false,
               false,
               false,
               false,
               false,
               false,
               false,
               false,
               false,
               false,
               false,
               false,
               false,
               true,
               false,
               false,
               false,
               false,
               false,
               false,
               false,
               false,
               false,
               false
              ]
             }
            ],
            "label": "Prepared Foods",
            "method": "update"
           },
           {
            "args": [
             {
              "showlegend": true,
              "title": "Prepared Meals",
              "visible": [
               false,
               false,
               false,
               false,
               false,
               false,
               false,
               false,
               false,
               false,
               false,
               false,
               false,
               false,
               false,
               false,
               false,
               false,
               false,
               false,
               false,
               false,
               true,
               false,
               false,
               false,
               false,
               false,
               false,
               false,
               false,
               false
              ]
             }
            ],
            "label": "Prepared Meals",
            "method": "update"
           },
           {
            "args": [
             {
              "showlegend": true,
              "title": "Seasonings & Spices",
              "visible": [
               false,
               false,
               false,
               false,
               false,
               false,
               false,
               false,
               false,
               false,
               false,
               false,
               false,
               false,
               false,
               false,
               false,
               false,
               false,
               false,
               false,
               false,
               false,
               true,
               false,
               false,
               false,
               false,
               false,
               false,
               false,
               false
              ]
             }
            ],
            "label": "Seasonings & Spices",
            "method": "update"
           },
           {
            "args": [
             {
              "showlegend": true,
              "title": "Snack Foods",
              "visible": [
               false,
               false,
               false,
               false,
               false,
               false,
               false,
               false,
               false,
               false,
               false,
               false,
               false,
               false,
               false,
               false,
               false,
               false,
               false,
               false,
               false,
               false,
               false,
               false,
               true,
               false,
               false,
               false,
               false,
               false,
               false,
               false
              ]
             }
            ],
            "label": "Snack Foods",
            "method": "update"
           },
           {
            "args": [
             {
              "showlegend": true,
              "title": "Soda",
              "visible": [
               false,
               false,
               false,
               false,
               false,
               false,
               false,
               false,
               false,
               false,
               false,
               false,
               false,
               false,
               false,
               false,
               false,
               false,
               false,
               false,
               false,
               false,
               false,
               false,
               false,
               true,
               false,
               false,
               false,
               false,
               false,
               false
              ]
             }
            ],
            "label": "Soda",
            "method": "update"
           },
           {
            "args": [
             {
              "showlegend": true,
              "title": "Soups & Broths",
              "visible": [
               false,
               false,
               false,
               false,
               false,
               false,
               false,
               false,
               false,
               false,
               false,
               false,
               false,
               false,
               false,
               false,
               false,
               false,
               false,
               false,
               false,
               false,
               false,
               false,
               false,
               false,
               true,
               false,
               false,
               false,
               false,
               false
              ]
             }
            ],
            "label": "Soups & Broths",
            "method": "update"
           },
           {
            "args": [
             {
              "showlegend": true,
              "title": "Sports & Energy Drinks",
              "visible": [
               false,
               false,
               false,
               false,
               false,
               false,
               false,
               false,
               false,
               false,
               false,
               false,
               false,
               false,
               false,
               false,
               false,
               false,
               false,
               false,
               false,
               false,
               false,
               false,
               false,
               false,
               false,
               true,
               false,
               false,
               false,
               false
              ]
             }
            ],
            "label": "Sports & Energy Drinks",
            "method": "update"
           },
           {
            "args": [
             {
              "showlegend": true,
              "title": "Tea & Infusions",
              "visible": [
               false,
               false,
               false,
               false,
               false,
               false,
               false,
               false,
               false,
               false,
               false,
               false,
               false,
               false,
               false,
               false,
               false,
               false,
               false,
               false,
               false,
               false,
               false,
               false,
               false,
               false,
               false,
               false,
               true,
               false,
               false,
               false
              ]
             }
            ],
            "label": "Tea & Infusions",
            "method": "update"
           },
           {
            "args": [
             {
              "showlegend": true,
              "title": "Tofu, Soy & Vegetarian Products",
              "visible": [
               false,
               false,
               false,
               false,
               false,
               false,
               false,
               false,
               false,
               false,
               false,
               false,
               false,
               false,
               false,
               false,
               false,
               false,
               false,
               false,
               false,
               false,
               false,
               false,
               false,
               false,
               false,
               false,
               false,
               true,
               false,
               false
              ]
             }
            ],
            "label": "Tofu, Soy & Vegetarian Products",
            "method": "update"
           },
           {
            "args": [
             {
              "showlegend": true,
              "title": "Vinegar Drinks",
              "visible": [
               false,
               false,
               false,
               false,
               false,
               false,
               false,
               false,
               false,
               false,
               false,
               false,
               false,
               false,
               false,
               false,
               false,
               false,
               false,
               false,
               false,
               false,
               false,
               false,
               false,
               false,
               false,
               false,
               false,
               false,
               true,
               false
              ]
             }
            ],
            "label": "Vinegar Drinks",
            "method": "update"
           },
           {
            "args": [
             {
              "showlegend": true,
              "title": "Water",
              "visible": [
               false,
               false,
               false,
               false,
               false,
               false,
               false,
               false,
               false,
               false,
               false,
               false,
               false,
               false,
               false,
               false,
               false,
               false,
               false,
               false,
               false,
               false,
               false,
               false,
               false,
               false,
               false,
               false,
               false,
               false,
               false,
               true
              ]
             }
            ],
            "label": "Water",
            "method": "update"
           }
          ]
         }
        ],
        "width": 2000
       }
      },
      "text/html": [
       "<div>                            <div id=\"542f084c-cbd7-4d4b-90ad-13c6c339425e\" class=\"plotly-graph-div\" style=\"height:1000px; width:2000px;\"></div>            <script type=\"text/javascript\">                require([\"plotly\"], function(Plotly) {                    window.PLOTLYENV=window.PLOTLYENV || {};                                    if (document.getElementById(\"542f084c-cbd7-4d4b-90ad-13c6c339425e\")) {                    Plotly.newPlot(                        \"542f084c-cbd7-4d4b-90ad-13c6c339425e\",                        [{\"connectgaps\": false, \"line\": {\"dash\": \"solid\"}, \"mode\": \"lines+markers\", \"name\": \"Bakery\", \"type\": \"scatter\", \"x\": [\"Bakery\", \"Candied & Chocolate Covered Fruit\", \"Candy & Chocolate\", \"Coffee\", \"Condiments & Sauces\", \"Cooking & Baking Ingredients\", \"Dairy Products\", \"Dips & Spreads\", \"Food Gift Baskets\", \"Frozen Desserts & Novelties\", \"Fruit Flavored Drinks\", \"Fruits & Vegetables\", \"Grains, Rice & Cereal\", \"Hot Chocolate\", \"Juice\", \"Meat, Seafood & Eggs\", \"Milk\", \"Non-Dairy Milk\", \"Nuts & Seeds\", \"Pasta & Noodles\", \"Powdered Beverage Mixes\", \"Prepared Foods\", \"Prepared Meals\", \"Seasonings & Spices\", \"Snack Foods\", \"Soda\", \"Soups & Broths\", \"Sports & Energy Drinks\", \"Tea & Infusions\", \"Tofu, Soy & Vegetarian Products\", \"Vinegar Drinks\", \"Water\"], \"y\": [null, 0.004404, 0.32404499999999997, 0.210643, 0.44697, 0.413067, 0.519426, 0.385127, 0.001036, 0.256571, 0.194295, 0.50834, 0.400862, 0.013012000000000001, 0.324219, 0.512891, 0.43689700000000004, 0.081996, 0.179649, 0.32363000000000003, 0.070262, 0.351887, 0.002708, 0.277706, 0.46862700000000007, 0.290989, 0.21309099999999997, 0.13688599999999998, 0.177387, 0.026567, 0.001559, 0.290271]}, {\"connectgaps\": false, \"line\": {\"dash\": \"solid\"}, \"mode\": \"lines+markers\", \"name\": \"Candied & Chocolate Covered Fruit\", \"type\": \"scatter\", \"x\": [\"Bakery\", \"Candied & Chocolate Covered Fruit\", \"Candy & Chocolate\", \"Coffee\", \"Condiments & Sauces\", \"Cooking & Baking Ingredients\", \"Dairy Products\", \"Dips & Spreads\", \"Food Gift Baskets\", \"Frozen Desserts & Novelties\", \"Fruit Flavored Drinks\", \"Fruits & Vegetables\", \"Grains, Rice & Cereal\", \"Hot Chocolate\", \"Juice\", \"Meat, Seafood & Eggs\", \"Milk\", \"Non-Dairy Milk\", \"Nuts & Seeds\", \"Pasta & Noodles\", \"Powdered Beverage Mixes\", \"Prepared Foods\", \"Prepared Meals\", \"Seasonings & Spices\", \"Snack Foods\", \"Soda\", \"Soups & Broths\", \"Sports & Energy Drinks\", \"Tea & Infusions\", \"Tofu, Soy & Vegetarian Products\", \"Vinegar Drinks\", \"Water\"], \"y\": [0.004404, null, 0.005517, 0.00447, 0.004096, 0.004082, 0.0048920000000000005, 0.004725, 0.0, 0.008648999999999999, 0.005483, 0.0045119999999999995, 0.004462, 0.016949000000000002, 0.0061259999999999995, 0.003783, 0.0053950000000000005, 0.009226999999999999, 0.007559000000000001, 0.004734, 0.0024129999999999998, 0.003258, 0.013244999999999998, 0.0042369999999999994, 0.003206, 0.003428, 0.004039, 0.002534, 0.006281, 0.0029760000000000003, 0.0, 0.0032869999999999996]}, {\"connectgaps\": false, \"line\": {\"dash\": \"solid\"}, \"mode\": \"lines+markers\", \"name\": \"Candy & Chocolate\", \"type\": \"scatter\", \"x\": [\"Bakery\", \"Candied & Chocolate Covered Fruit\", \"Candy & Chocolate\", \"Coffee\", \"Condiments & Sauces\", \"Cooking & Baking Ingredients\", \"Dairy Products\", \"Dips & Spreads\", \"Food Gift Baskets\", \"Frozen Desserts & Novelties\", \"Fruit Flavored Drinks\", \"Fruits & Vegetables\", \"Grains, Rice & Cereal\", \"Hot Chocolate\", \"Juice\", \"Meat, Seafood & Eggs\", \"Milk\", \"Non-Dairy Milk\", \"Nuts & Seeds\", \"Pasta & Noodles\", \"Powdered Beverage Mixes\", \"Prepared Foods\", \"Prepared Meals\", \"Seasonings & Spices\", \"Snack Foods\", \"Soda\", \"Soups & Broths\", \"Sports & Energy Drinks\", \"Tea & Infusions\", \"Tofu, Soy & Vegetarian Products\", \"Vinegar Drinks\", \"Water\"], \"y\": [0.32404499999999997, 0.005517, null, 0.178669, 0.312891, 0.308367, 0.330445, 0.298989, 0.0016359999999999999, 0.243323, 0.17513099999999998, 0.312168, 0.30445500000000003, 0.017193, 0.265171, 0.308054, 0.315027, 0.077421, 0.174854, 0.258166, 0.068847, 0.20895, 0.001216, 0.22075, 0.326221, 0.24024600000000002, 0.18024500000000002, 0.12727, 0.153314, 0.029731, 0.000616, 0.237844]}, {\"connectgaps\": false, \"line\": {\"dash\": \"solid\"}, \"mode\": \"lines+markers\", \"name\": \"Coffee\", \"type\": \"scatter\", \"x\": [\"Bakery\", \"Candied & Chocolate Covered Fruit\", \"Candy & Chocolate\", \"Coffee\", \"Condiments & Sauces\", \"Cooking & Baking Ingredients\", \"Dairy Products\", \"Dips & Spreads\", \"Food Gift Baskets\", \"Frozen Desserts & Novelties\", \"Fruit Flavored Drinks\", \"Fruits & Vegetables\", \"Grains, Rice & Cereal\", \"Hot Chocolate\", \"Juice\", \"Meat, Seafood & Eggs\", \"Milk\", \"Non-Dairy Milk\", \"Nuts & Seeds\", \"Pasta & Noodles\", \"Powdered Beverage Mixes\", \"Prepared Foods\", \"Prepared Meals\", \"Seasonings & Spices\", \"Snack Foods\", \"Soda\", \"Soups & Broths\", \"Sports & Energy Drinks\", \"Tea & Infusions\", \"Tofu, Soy & Vegetarian Products\", \"Vinegar Drinks\", \"Water\"], \"y\": [0.210643, 0.00447, 0.178669, null, 0.22162800000000002, 0.21933699999999998, 0.23284899999999997, 0.208389, 0.001583, 0.15653399999999998, 0.124653, 0.21618400000000002, 0.223644, 0.014725, 0.18773399999999998, 0.215502, 0.226958, 0.074153, 0.133016, 0.185763, 0.058066, 0.14223, 0.002872, 0.16708299999999998, 0.202337, 0.15779300000000002, 0.14537, 0.08856900000000001, 0.143951, 0.025478, 0.0010609999999999999, 0.174094]}, {\"connectgaps\": false, \"line\": {\"dash\": \"solid\"}, \"mode\": \"lines+markers\", \"name\": \"Condiments & Sauces\", \"type\": \"scatter\", \"x\": [\"Bakery\", \"Candied & Chocolate Covered Fruit\", \"Candy & Chocolate\", \"Coffee\", \"Condiments & Sauces\", \"Cooking & Baking Ingredients\", \"Dairy Products\", \"Dips & Spreads\", \"Food Gift Baskets\", \"Frozen Desserts & Novelties\", \"Fruit Flavored Drinks\", \"Fruits & Vegetables\", \"Grains, Rice & Cereal\", \"Hot Chocolate\", \"Juice\", \"Meat, Seafood & Eggs\", \"Milk\", \"Non-Dairy Milk\", \"Nuts & Seeds\", \"Pasta & Noodles\", \"Powdered Beverage Mixes\", \"Prepared Foods\", \"Prepared Meals\", \"Seasonings & Spices\", \"Snack Foods\", \"Soda\", \"Soups & Broths\", \"Sports & Energy Drinks\", \"Tea & Infusions\", \"Tofu, Soy & Vegetarian Products\", \"Vinegar Drinks\", \"Water\"], \"y\": [0.44697, 0.004096, 0.312891, 0.22162800000000002, null, 0.44107799999999997, 0.503229, 0.409213, 0.000984, 0.254421, 0.20468599999999998, 0.499834, 0.424548, 0.014311, 0.343304, 0.488633, 0.43657399999999996, 0.097939, 0.20311600000000002, 0.36706500000000003, 0.08415399999999999, 0.308086, 0.0026079999999999996, 0.319592, 0.420541, 0.292004, 0.25003800000000004, 0.138148, 0.184449, 0.032774, 0.001812, 0.29681799999999997]}, {\"connectgaps\": false, \"line\": {\"dash\": \"solid\"}, \"mode\": \"lines+markers\", \"name\": \"Cooking & Baking Ingredients\", \"type\": \"scatter\", \"x\": [\"Bakery\", \"Candied & Chocolate Covered Fruit\", \"Candy & Chocolate\", \"Coffee\", \"Condiments & Sauces\", \"Cooking & Baking Ingredients\", \"Dairy Products\", \"Dips & Spreads\", \"Food Gift Baskets\", \"Frozen Desserts & Novelties\", \"Fruit Flavored Drinks\", \"Fruits & Vegetables\", \"Grains, Rice & Cereal\", \"Hot Chocolate\", \"Juice\", \"Meat, Seafood & Eggs\", \"Milk\", \"Non-Dairy Milk\", \"Nuts & Seeds\", \"Pasta & Noodles\", \"Powdered Beverage Mixes\", \"Prepared Foods\", \"Prepared Meals\", \"Seasonings & Spices\", \"Snack Foods\", \"Soda\", \"Soups & Broths\", \"Sports & Energy Drinks\", \"Tea & Infusions\", \"Tofu, Soy & Vegetarian Products\", \"Vinegar Drinks\", \"Water\"], \"y\": [0.413067, 0.004082, 0.308367, 0.21933699999999998, 0.44107799999999997, null, 0.465359, 0.37945300000000004, 0.0008880000000000001, 0.24443099999999998, 0.191653, 0.45553599999999994, 0.408048, 0.013715, 0.322049, 0.431359, 0.41287399999999996, 0.098524, 0.211853, 0.342891, 0.083348, 0.264216, 0.000529, 0.33479200000000003, 0.387799, 0.269934, 0.23421799999999998, 0.132187, 0.193274, 0.031497000000000004, 0.0019649999999999997, 0.27575700000000003]}, {\"connectgaps\": false, \"line\": {\"dash\": \"solid\"}, \"mode\": \"lines+markers\", \"name\": \"Dairy Products\", \"type\": \"scatter\", \"x\": [\"Bakery\", \"Candied & Chocolate Covered Fruit\", \"Candy & Chocolate\", \"Coffee\", \"Condiments & Sauces\", \"Cooking & Baking Ingredients\", \"Dairy Products\", \"Dips & Spreads\", \"Food Gift Baskets\", \"Frozen Desserts & Novelties\", \"Fruit Flavored Drinks\", \"Fruits & Vegetables\", \"Grains, Rice & Cereal\", \"Hot Chocolate\", \"Juice\", \"Meat, Seafood & Eggs\", \"Milk\", \"Non-Dairy Milk\", \"Nuts & Seeds\", \"Pasta & Noodles\", \"Powdered Beverage Mixes\", \"Prepared Foods\", \"Prepared Meals\", \"Seasonings & Spices\", \"Snack Foods\", \"Soda\", \"Soups & Broths\", \"Sports & Energy Drinks\", \"Tea & Infusions\", \"Tofu, Soy & Vegetarian Products\", \"Vinegar Drinks\", \"Water\"], \"y\": [0.519426, 0.0048920000000000005, 0.330445, 0.23284899999999997, 0.503229, 0.465359, null, 0.43405699999999997, 0.0007639999999999999, 0.275186, 0.212225, 0.568167, 0.43899, 0.014733000000000001, 0.35846500000000003, 0.570472, 0.49923100000000004, 0.098498, 0.19914600000000002, 0.36832800000000004, 0.079412, 0.344414, 0.001823, 0.32182, 0.466808, 0.317816, 0.240069, 0.146534, 0.195666, 0.031659, 0.001381, 0.316139]}, {\"connectgaps\": false, \"line\": {\"dash\": \"solid\"}, \"mode\": \"lines+markers\", \"name\": \"Dips & Spreads\", \"type\": \"scatter\", \"x\": [\"Bakery\", \"Candied & Chocolate Covered Fruit\", \"Candy & Chocolate\", \"Coffee\", \"Condiments & Sauces\", \"Cooking & Baking Ingredients\", \"Dairy Products\", \"Dips & Spreads\", \"Food Gift Baskets\", \"Frozen Desserts & Novelties\", \"Fruit Flavored Drinks\", \"Fruits & Vegetables\", \"Grains, Rice & Cereal\", \"Hot Chocolate\", \"Juice\", \"Meat, Seafood & Eggs\", \"Milk\", \"Non-Dairy Milk\", \"Nuts & Seeds\", \"Pasta & Noodles\", \"Powdered Beverage Mixes\", \"Prepared Foods\", \"Prepared Meals\", \"Seasonings & Spices\", \"Snack Foods\", \"Soda\", \"Soups & Broths\", \"Sports & Energy Drinks\", \"Tea & Infusions\", \"Tofu, Soy & Vegetarian Products\", \"Vinegar Drinks\", \"Water\"], \"y\": [0.385127, 0.004725, 0.298989, 0.208389, 0.409213, 0.37945300000000004, 0.43405699999999997, null, 0.00203, 0.269491, 0.213331, 0.40619099999999997, 0.387655, 0.018032, 0.327874, 0.407738, 0.414342, 0.110448, 0.201347, 0.34615999999999997, 0.084874, 0.25055700000000003, 0.001116, 0.285666, 0.357172, 0.269106, 0.247153, 0.14391900000000002, 0.177901, 0.039626, 0.0015869999999999999, 0.283467]}, {\"connectgaps\": false, \"line\": {\"dash\": \"solid\"}, \"mode\": \"lines+markers\", \"name\": \"Food Gift Baskets\", \"type\": \"scatter\", \"x\": [\"Bakery\", \"Candied & Chocolate Covered Fruit\", \"Candy & Chocolate\", \"Coffee\", \"Condiments & Sauces\", \"Cooking & Baking Ingredients\", \"Dairy Products\", \"Dips & Spreads\", \"Food Gift Baskets\", \"Frozen Desserts & Novelties\", \"Fruit Flavored Drinks\", \"Fruits & Vegetables\", \"Grains, Rice & Cereal\", \"Hot Chocolate\", \"Juice\", \"Meat, Seafood & Eggs\", \"Milk\", \"Non-Dairy Milk\", \"Nuts & Seeds\", \"Pasta & Noodles\", \"Powdered Beverage Mixes\", \"Prepared Foods\", \"Prepared Meals\", \"Seasonings & Spices\", \"Snack Foods\", \"Soda\", \"Soups & Broths\", \"Sports & Energy Drinks\", \"Tea & Infusions\", \"Tofu, Soy & Vegetarian Products\", \"Vinegar Drinks\", \"Water\"], \"y\": [0.001036, 0.0, 0.0016359999999999999, 0.001583, 0.000984, 0.0008880000000000001, 0.0007639999999999999, 0.00203, null, 0.000721, 0.000848, 0.0010609999999999999, 0.001704, 0.0, 0.0008359999999999999, 0.0011220000000000002, 0.001174, 0.0, 0.002234, 0.001117, 0.0024809999999999997, 0.000616, 0.007751999999999999, 0.0009109999999999999, 0.000802, 0.0, 0.000452, 0.0, 0.00105, 0.0, 0.0, 0.0016510000000000001]}, {\"connectgaps\": false, \"line\": {\"dash\": \"solid\"}, \"mode\": \"lines+markers\", \"name\": \"Frozen Desserts & Novelties\", \"type\": \"scatter\", \"x\": [\"Bakery\", \"Candied & Chocolate Covered Fruit\", \"Candy & Chocolate\", \"Coffee\", \"Condiments & Sauces\", \"Cooking & Baking Ingredients\", \"Dairy Products\", \"Dips & Spreads\", \"Food Gift Baskets\", \"Frozen Desserts & Novelties\", \"Fruit Flavored Drinks\", \"Fruits & Vegetables\", \"Grains, Rice & Cereal\", \"Hot Chocolate\", \"Juice\", \"Meat, Seafood & Eggs\", \"Milk\", \"Non-Dairy Milk\", \"Nuts & Seeds\", \"Pasta & Noodles\", \"Powdered Beverage Mixes\", \"Prepared Foods\", \"Prepared Meals\", \"Seasonings & Spices\", \"Snack Foods\", \"Soda\", \"Soups & Broths\", \"Sports & Energy Drinks\", \"Tea & Infusions\", \"Tofu, Soy & Vegetarian Products\", \"Vinegar Drinks\", \"Water\"], \"y\": [0.256571, 0.008648999999999999, 0.243323, 0.15653399999999998, 0.254421, 0.24443099999999998, 0.275186, 0.269491, 0.000721, null, 0.193244, 0.254104, 0.26306799999999997, 0.026121, 0.263836, 0.265088, 0.306464, 0.090853, 0.162347, 0.24281999999999998, 0.073006, 0.172825, 0.004274, 0.20592399999999997, 0.21859699999999999, 0.20944400000000002, 0.192897, 0.110978, 0.15166, 0.041609, 0.0021850000000000003, 0.215671]}, {\"connectgaps\": false, \"line\": {\"dash\": \"solid\"}, \"mode\": \"lines+markers\", \"name\": \"Fruit Flavored Drinks\", \"type\": \"scatter\", \"x\": [\"Bakery\", \"Candied & Chocolate Covered Fruit\", \"Candy & Chocolate\", \"Coffee\", \"Condiments & Sauces\", \"Cooking & Baking Ingredients\", \"Dairy Products\", \"Dips & Spreads\", \"Food Gift Baskets\", \"Frozen Desserts & Novelties\", \"Fruit Flavored Drinks\", \"Fruits & Vegetables\", \"Grains, Rice & Cereal\", \"Hot Chocolate\", \"Juice\", \"Meat, Seafood & Eggs\", \"Milk\", \"Non-Dairy Milk\", \"Nuts & Seeds\", \"Pasta & Noodles\", \"Powdered Beverage Mixes\", \"Prepared Foods\", \"Prepared Meals\", \"Seasonings & Spices\", \"Snack Foods\", \"Soda\", \"Soups & Broths\", \"Sports & Energy Drinks\", \"Tea & Infusions\", \"Tofu, Soy & Vegetarian Products\", \"Vinegar Drinks\", \"Water\"], \"y\": [0.194295, 0.005483, 0.17513099999999998, 0.124653, 0.20468599999999998, 0.191653, 0.212225, 0.213331, 0.000848, 0.193244, null, 0.197391, 0.20806599999999997, 0.015899, 0.226987, 0.209195, 0.234051, 0.083131, 0.133183, 0.19959100000000002, 0.09365, 0.12972899999999998, 0.00041600000000000003, 0.164298, 0.17811300000000002, 0.18281, 0.148963, 0.14077699999999999, 0.12879100000000002, 0.032708, 0.002144, 0.21408000000000002]}, {\"connectgaps\": false, \"line\": {\"dash\": \"solid\"}, \"mode\": \"lines+markers\", \"name\": \"Fruits & Vegetables\", \"type\": \"scatter\", \"x\": [\"Bakery\", \"Candied & Chocolate Covered Fruit\", \"Candy & Chocolate\", \"Coffee\", \"Condiments & Sauces\", \"Cooking & Baking Ingredients\", \"Dairy Products\", \"Dips & Spreads\", \"Food Gift Baskets\", \"Frozen Desserts & Novelties\", \"Fruit Flavored Drinks\", \"Fruits & Vegetables\", \"Grains, Rice & Cereal\", \"Hot Chocolate\", \"Juice\", \"Meat, Seafood & Eggs\", \"Milk\", \"Non-Dairy Milk\", \"Nuts & Seeds\", \"Pasta & Noodles\", \"Powdered Beverage Mixes\", \"Prepared Foods\", \"Prepared Meals\", \"Seasonings & Spices\", \"Snack Foods\", \"Soda\", \"Soups & Broths\", \"Sports & Energy Drinks\", \"Tea & Infusions\", \"Tofu, Soy & Vegetarian Products\", \"Vinegar Drinks\", \"Water\"], \"y\": [0.50834, 0.0045119999999999995, 0.312168, 0.21618400000000002, 0.499834, 0.45553599999999994, 0.568167, 0.40619099999999997, 0.0010609999999999999, 0.254104, 0.197391, null, 0.433251, 0.012395999999999999, 0.33760999999999997, 0.5602689999999999, 0.458992, 0.09095700000000001, 0.201908, 0.343511, 0.072652, 0.345552, 0.001187, 0.311585, 0.466546, 0.294149, 0.22750900000000002, 0.131747, 0.184416, 0.029942, 0.001731, 0.299005]}, {\"connectgaps\": false, \"line\": {\"dash\": \"solid\"}, \"mode\": \"lines+markers\", \"name\": \"Grains, Rice & Cereal\", \"type\": \"scatter\", \"x\": [\"Bakery\", \"Candied & Chocolate Covered Fruit\", \"Candy & Chocolate\", \"Coffee\", \"Condiments & Sauces\", \"Cooking & Baking Ingredients\", \"Dairy Products\", \"Dips & Spreads\", \"Food Gift Baskets\", \"Frozen Desserts & Novelties\", \"Fruit Flavored Drinks\", \"Fruits & Vegetables\", \"Grains, Rice & Cereal\", \"Hot Chocolate\", \"Juice\", \"Meat, Seafood & Eggs\", \"Milk\", \"Non-Dairy Milk\", \"Nuts & Seeds\", \"Pasta & Noodles\", \"Powdered Beverage Mixes\", \"Prepared Foods\", \"Prepared Meals\", \"Seasonings & Spices\", \"Snack Foods\", \"Soda\", \"Soups & Broths\", \"Sports & Energy Drinks\", \"Tea & Infusions\", \"Tofu, Soy & Vegetarian Products\", \"Vinegar Drinks\", \"Water\"], \"y\": [0.400862, 0.004462, 0.30445500000000003, 0.223644, 0.424548, 0.408048, 0.43899, 0.387655, 0.001704, 0.26306799999999997, 0.20806599999999997, 0.433251, null, 0.016824000000000002, 0.346457, 0.41640600000000005, 0.446888, 0.10818499999999999, 0.224741, 0.362625, 0.086069, 0.255812, 0.001265, 0.312054, 0.385477, 0.262106, 0.247854, 0.138182, 0.192823, 0.037879, 0.001284, 0.28749600000000003]}, {\"connectgaps\": false, \"line\": {\"dash\": \"solid\"}, \"mode\": \"lines+markers\", \"name\": \"Hot Chocolate\", \"type\": \"scatter\", \"x\": [\"Bakery\", \"Candied & Chocolate Covered Fruit\", \"Candy & Chocolate\", \"Coffee\", \"Condiments & Sauces\", \"Cooking & Baking Ingredients\", \"Dairy Products\", \"Dips & Spreads\", \"Food Gift Baskets\", \"Frozen Desserts & Novelties\", \"Fruit Flavored Drinks\", \"Fruits & Vegetables\", \"Grains, Rice & Cereal\", \"Hot Chocolate\", \"Juice\", \"Meat, Seafood & Eggs\", \"Milk\", \"Non-Dairy Milk\", \"Nuts & Seeds\", \"Pasta & Noodles\", \"Powdered Beverage Mixes\", \"Prepared Foods\", \"Prepared Meals\", \"Seasonings & Spices\", \"Snack Foods\", \"Soda\", \"Soups & Broths\", \"Sports & Energy Drinks\", \"Tea & Infusions\", \"Tofu, Soy & Vegetarian Products\", \"Vinegar Drinks\", \"Water\"], \"y\": [0.013012000000000001, 0.016949000000000002, 0.017193, 0.014725, 0.014311, 0.013715, 0.014733000000000001, 0.018032, 0.0, 0.026121, 0.015899, 0.012395999999999999, 0.016824000000000002, null, 0.020291, 0.013378, 0.020437, 0.015496000000000001, 0.015397999999999998, 0.016689, 0.011853, 0.010099, 0.007722, 0.014209999999999999, 0.010943000000000001, 0.012894, 0.016031, 0.005301, 0.015959, 0.022989, 0.0, 0.011262999999999999]}, {\"connectgaps\": false, \"line\": {\"dash\": \"solid\"}, \"mode\": \"lines+markers\", \"name\": \"Juice\", \"type\": \"scatter\", \"x\": [\"Bakery\", \"Candied & Chocolate Covered Fruit\", \"Candy & Chocolate\", \"Coffee\", \"Condiments & Sauces\", \"Cooking & Baking Ingredients\", \"Dairy Products\", \"Dips & Spreads\", \"Food Gift Baskets\", \"Frozen Desserts & Novelties\", \"Fruit Flavored Drinks\", \"Fruits & Vegetables\", \"Grains, Rice & Cereal\", \"Hot Chocolate\", \"Juice\", \"Meat, Seafood & Eggs\", \"Milk\", \"Non-Dairy Milk\", \"Nuts & Seeds\", \"Pasta & Noodles\", \"Powdered Beverage Mixes\", \"Prepared Foods\", \"Prepared Meals\", \"Seasonings & Spices\", \"Snack Foods\", \"Soda\", \"Soups & Broths\", \"Sports & Energy Drinks\", \"Tea & Infusions\", \"Tofu, Soy & Vegetarian Products\", \"Vinegar Drinks\", \"Water\"], \"y\": [0.324219, 0.0061259999999999995, 0.265171, 0.18773399999999998, 0.343304, 0.322049, 0.35846500000000003, 0.327874, 0.0008359999999999999, 0.263836, 0.226987, 0.33760999999999997, 0.346457, 0.020291, null, 0.34798, 0.388948, 0.105303, 0.18421600000000002, 0.30745100000000003, 0.082873, 0.20974299999999999, 0.00359, 0.258142, 0.29545, 0.249809, 0.22231700000000001, 0.14085699999999998, 0.175439, 0.0375, 0.00253, 0.27616999999999997]}, {\"connectgaps\": false, \"line\": {\"dash\": \"solid\"}, \"mode\": \"lines+markers\", \"name\": \"Meat, Seafood & Eggs\", \"type\": \"scatter\", \"x\": [\"Bakery\", \"Candied & Chocolate Covered Fruit\", \"Candy & Chocolate\", \"Coffee\", \"Condiments & Sauces\", \"Cooking & Baking Ingredients\", \"Dairy Products\", \"Dips & Spreads\", \"Food Gift Baskets\", \"Frozen Desserts & Novelties\", \"Fruit Flavored Drinks\", \"Fruits & Vegetables\", \"Grains, Rice & Cereal\", \"Hot Chocolate\", \"Juice\", \"Meat, Seafood & Eggs\", \"Milk\", \"Non-Dairy Milk\", \"Nuts & Seeds\", \"Pasta & Noodles\", \"Powdered Beverage Mixes\", \"Prepared Foods\", \"Prepared Meals\", \"Seasonings & Spices\", \"Snack Foods\", \"Soda\", \"Soups & Broths\", \"Sports & Energy Drinks\", \"Tea & Infusions\", \"Tofu, Soy & Vegetarian Products\", \"Vinegar Drinks\", \"Water\"], \"y\": [0.512891, 0.003783, 0.308054, 0.215502, 0.488633, 0.431359, 0.570472, 0.407738, 0.0011220000000000002, 0.265088, 0.209195, 0.5602689999999999, 0.41640600000000005, 0.013378, 0.34798, null, 0.47542700000000004, 0.091223, 0.182952, 0.344453, 0.075503, 0.35935100000000003, 0.001952, 0.295369, 0.453433, 0.303951, 0.23176100000000002, 0.141518, 0.18287, 0.029908999999999998, 0.001689, 0.308737]}, {\"connectgaps\": false, \"line\": {\"dash\": \"solid\"}, \"mode\": \"lines+markers\", \"name\": \"Milk\", \"type\": \"scatter\", \"x\": [\"Bakery\", \"Candied & Chocolate Covered Fruit\", \"Candy & Chocolate\", \"Coffee\", \"Condiments & Sauces\", \"Cooking & Baking Ingredients\", \"Dairy Products\", \"Dips & Spreads\", \"Food Gift Baskets\", \"Frozen Desserts & Novelties\", \"Fruit Flavored Drinks\", \"Fruits & Vegetables\", \"Grains, Rice & Cereal\", \"Hot Chocolate\", \"Juice\", \"Meat, Seafood & Eggs\", \"Milk\", \"Non-Dairy Milk\", \"Nuts & Seeds\", \"Pasta & Noodles\", \"Powdered Beverage Mixes\", \"Prepared Foods\", \"Prepared Meals\", \"Seasonings & Spices\", \"Snack Foods\", \"Soda\", \"Soups & Broths\", \"Sports & Energy Drinks\", \"Tea & Infusions\", \"Tofu, Soy & Vegetarian Products\", \"Vinegar Drinks\", \"Water\"], \"y\": [0.43689700000000004, 0.0053950000000000005, 0.315027, 0.226958, 0.43657399999999996, 0.41287399999999996, 0.49923100000000004, 0.414342, 0.001174, 0.306464, 0.234051, 0.458992, 0.446888, 0.020437, 0.388948, 0.47542700000000004, null, 0.10406099999999999, 0.203825, 0.376974, 0.092004, 0.268189, 0.001628, 0.309728, 0.374814, 0.303155, 0.261299, 0.15698099999999998, 0.20205, 0.038382, 0.001417, 0.317546]}, {\"connectgaps\": false, \"line\": {\"dash\": \"solid\"}, \"mode\": \"lines+markers\", \"name\": \"Non-Dairy Milk\", \"type\": \"scatter\", \"x\": [\"Bakery\", \"Candied & Chocolate Covered Fruit\", \"Candy & Chocolate\", \"Coffee\", \"Condiments & Sauces\", \"Cooking & Baking Ingredients\", \"Dairy Products\", \"Dips & Spreads\", \"Food Gift Baskets\", \"Frozen Desserts & Novelties\", \"Fruit Flavored Drinks\", \"Fruits & Vegetables\", \"Grains, Rice & Cereal\", \"Hot Chocolate\", \"Juice\", \"Meat, Seafood & Eggs\", \"Milk\", \"Non-Dairy Milk\", \"Nuts & Seeds\", \"Pasta & Noodles\", \"Powdered Beverage Mixes\", \"Prepared Foods\", \"Prepared Meals\", \"Seasonings & Spices\", \"Snack Foods\", \"Soda\", \"Soups & Broths\", \"Sports & Energy Drinks\", \"Tea & Infusions\", \"Tofu, Soy & Vegetarian Products\", \"Vinegar Drinks\", \"Water\"], \"y\": [0.081996, 0.009226999999999999, 0.077421, 0.074153, 0.097939, 0.098524, 0.098498, 0.110448, 0.0, 0.090853, 0.083131, 0.09095700000000001, 0.10818499999999999, 0.015496000000000001, 0.105303, 0.091223, 0.10406099999999999, null, 0.109923, 0.09957, 0.050033, 0.052554, 0.0, 0.098755, 0.073292, 0.066208, 0.10044299999999999, 0.062476, 0.067393, 0.072493, 0.001209, 0.091945]}, {\"connectgaps\": false, \"line\": {\"dash\": \"solid\"}, \"mode\": \"lines+markers\", \"name\": \"Nuts & Seeds\", \"type\": \"scatter\", \"x\": [\"Bakery\", \"Candied & Chocolate Covered Fruit\", \"Candy & Chocolate\", \"Coffee\", \"Condiments & Sauces\", \"Cooking & Baking Ingredients\", \"Dairy Products\", \"Dips & Spreads\", \"Food Gift Baskets\", \"Frozen Desserts & Novelties\", \"Fruit Flavored Drinks\", \"Fruits & Vegetables\", \"Grains, Rice & Cereal\", \"Hot Chocolate\", \"Juice\", \"Meat, Seafood & Eggs\", \"Milk\", \"Non-Dairy Milk\", \"Nuts & Seeds\", \"Pasta & Noodles\", \"Powdered Beverage Mixes\", \"Prepared Foods\", \"Prepared Meals\", \"Seasonings & Spices\", \"Snack Foods\", \"Soda\", \"Soups & Broths\", \"Sports & Energy Drinks\", \"Tea & Infusions\", \"Tofu, Soy & Vegetarian Products\", \"Vinegar Drinks\", \"Water\"], \"y\": [0.179649, 0.007559000000000001, 0.174854, 0.133016, 0.20311600000000002, 0.211853, 0.19914600000000002, 0.201347, 0.002234, 0.162347, 0.133183, 0.201908, 0.224741, 0.015397999999999998, 0.18421600000000002, 0.182952, 0.203825, 0.109923, null, 0.185384, 0.06693099999999999, 0.10985299999999999, 0.000437, 0.211825, 0.177456, 0.13406500000000002, 0.159416, 0.10005399999999999, 0.131199, 0.041737, 0.001354, 0.164992]}, {\"connectgaps\": false, \"line\": {\"dash\": \"solid\"}, \"mode\": \"lines+markers\", \"name\": \"Pasta & Noodles\", \"type\": \"scatter\", \"x\": [\"Bakery\", \"Candied & Chocolate Covered Fruit\", \"Candy & Chocolate\", \"Coffee\", \"Condiments & Sauces\", \"Cooking & Baking Ingredients\", \"Dairy Products\", \"Dips & Spreads\", \"Food Gift Baskets\", \"Frozen Desserts & Novelties\", \"Fruit Flavored Drinks\", \"Fruits & Vegetables\", \"Grains, Rice & Cereal\", \"Hot Chocolate\", \"Juice\", \"Meat, Seafood & Eggs\", \"Milk\", \"Non-Dairy Milk\", \"Nuts & Seeds\", \"Pasta & Noodles\", \"Powdered Beverage Mixes\", \"Prepared Foods\", \"Prepared Meals\", \"Seasonings & Spices\", \"Snack Foods\", \"Soda\", \"Soups & Broths\", \"Sports & Energy Drinks\", \"Tea & Infusions\", \"Tofu, Soy & Vegetarian Products\", \"Vinegar Drinks\", \"Water\"], \"y\": [0.32363000000000003, 0.004734, 0.258166, 0.185763, 0.36706500000000003, 0.342891, 0.36832800000000004, 0.34615999999999997, 0.001117, 0.24281999999999998, 0.19959100000000002, 0.343511, 0.362625, 0.016689, 0.30745100000000003, 0.344453, 0.376974, 0.09957, 0.185384, null, 0.09010399999999999, 0.22135500000000002, 0.0008269999999999999, 0.28334000000000004, 0.29835500000000004, 0.243523, 0.249836, 0.145798, 0.17647100000000002, 0.040098, 0.002252, 0.255098]}, {\"connectgaps\": false, \"line\": {\"dash\": \"solid\"}, \"mode\": \"lines+markers\", \"name\": \"Powdered Beverage Mixes\", \"type\": \"scatter\", \"x\": [\"Bakery\", \"Candied & Chocolate Covered Fruit\", \"Candy & Chocolate\", \"Coffee\", \"Condiments & Sauces\", \"Cooking & Baking Ingredients\", \"Dairy Products\", \"Dips & Spreads\", \"Food Gift Baskets\", \"Frozen Desserts & Novelties\", \"Fruit Flavored Drinks\", \"Fruits & Vegetables\", \"Grains, Rice & Cereal\", \"Hot Chocolate\", \"Juice\", \"Meat, Seafood & Eggs\", \"Milk\", \"Non-Dairy Milk\", \"Nuts & Seeds\", \"Pasta & Noodles\", \"Powdered Beverage Mixes\", \"Prepared Foods\", \"Prepared Meals\", \"Seasonings & Spices\", \"Snack Foods\", \"Soda\", \"Soups & Broths\", \"Sports & Energy Drinks\", \"Tea & Infusions\", \"Tofu, Soy & Vegetarian Products\", \"Vinegar Drinks\", \"Water\"], \"y\": [0.070262, 0.0024129999999999998, 0.068847, 0.058066, 0.08415399999999999, 0.083348, 0.079412, 0.084874, 0.0024809999999999997, 0.073006, 0.09365, 0.072652, 0.086069, 0.011853, 0.082873, 0.075503, 0.092004, 0.050033, 0.06693099999999999, 0.09010399999999999, null, 0.04403, 0.001175, 0.082166, 0.066998, 0.064465, 0.081798, 0.080743, 0.054444000000000006, 0.013699000000000001, 0.0, 0.074914]}, {\"connectgaps\": false, \"line\": {\"dash\": \"solid\"}, \"mode\": \"lines+markers\", \"name\": \"Prepared Foods\", \"type\": \"scatter\", \"x\": [\"Bakery\", \"Candied & Chocolate Covered Fruit\", \"Candy & Chocolate\", \"Coffee\", \"Condiments & Sauces\", \"Cooking & Baking Ingredients\", \"Dairy Products\", \"Dips & Spreads\", \"Food Gift Baskets\", \"Frozen Desserts & Novelties\", \"Fruit Flavored Drinks\", \"Fruits & Vegetables\", \"Grains, Rice & Cereal\", \"Hot Chocolate\", \"Juice\", \"Meat, Seafood & Eggs\", \"Milk\", \"Non-Dairy Milk\", \"Nuts & Seeds\", \"Pasta & Noodles\", \"Powdered Beverage Mixes\", \"Prepared Foods\", \"Prepared Meals\", \"Seasonings & Spices\", \"Snack Foods\", \"Soda\", \"Soups & Broths\", \"Sports & Energy Drinks\", \"Tea & Infusions\", \"Tofu, Soy & Vegetarian Products\", \"Vinegar Drinks\", \"Water\"], \"y\": [0.351887, 0.003258, 0.20895, 0.14223, 0.308086, 0.264216, 0.344414, 0.25055700000000003, 0.000616, 0.172825, 0.12972899999999998, 0.345552, 0.255812, 0.010099, 0.20974299999999999, 0.35935100000000003, 0.268189, 0.052554, 0.10985299999999999, 0.22135500000000002, 0.04403, null, 0.003252, 0.174291, 0.32261, 0.20830500000000002, 0.143595, 0.088279, 0.127082, 0.018886, 0.0008820000000000001, 0.195435]}, {\"connectgaps\": false, \"line\": {\"dash\": \"solid\"}, \"mode\": \"lines+markers\", \"name\": \"Prepared Meals\", \"type\": \"scatter\", \"x\": [\"Bakery\", \"Candied & Chocolate Covered Fruit\", \"Candy & Chocolate\", \"Coffee\", \"Condiments & Sauces\", \"Cooking & Baking Ingredients\", \"Dairy Products\", \"Dips & Spreads\", \"Food Gift Baskets\", \"Frozen Desserts & Novelties\", \"Fruit Flavored Drinks\", \"Fruits & Vegetables\", \"Grains, Rice & Cereal\", \"Hot Chocolate\", \"Juice\", \"Meat, Seafood & Eggs\", \"Milk\", \"Non-Dairy Milk\", \"Nuts & Seeds\", \"Pasta & Noodles\", \"Powdered Beverage Mixes\", \"Prepared Foods\", \"Prepared Meals\", \"Seasonings & Spices\", \"Snack Foods\", \"Soda\", \"Soups & Broths\", \"Sports & Energy Drinks\", \"Tea & Infusions\", \"Tofu, Soy & Vegetarian Products\", \"Vinegar Drinks\", \"Water\"], \"y\": [0.002708, 0.013244999999999998, 0.001216, 0.002872, 0.0026079999999999996, 0.000529, 0.001823, 0.001116, 0.007751999999999999, 0.004274, 0.00041600000000000003, 0.001187, 0.001265, 0.007722, 0.00359, 0.001952, 0.001628, 0.0, 0.000437, 0.0008269999999999999, 0.001175, 0.003252, null, 0.000599, 0.002054, 0.002343, 0.000443, 0.0005009999999999999, 0.00207, 0.0, 0.0, 0.000272]}, {\"connectgaps\": false, \"line\": {\"dash\": \"solid\"}, \"mode\": \"lines+markers\", \"name\": \"Seasonings & Spices\", \"type\": \"scatter\", \"x\": [\"Bakery\", \"Candied & Chocolate Covered Fruit\", \"Candy & Chocolate\", \"Coffee\", \"Condiments & Sauces\", \"Cooking & Baking Ingredients\", \"Dairy Products\", \"Dips & Spreads\", \"Food Gift Baskets\", \"Frozen Desserts & Novelties\", \"Fruit Flavored Drinks\", \"Fruits & Vegetables\", \"Grains, Rice & Cereal\", \"Hot Chocolate\", \"Juice\", \"Meat, Seafood & Eggs\", \"Milk\", \"Non-Dairy Milk\", \"Nuts & Seeds\", \"Pasta & Noodles\", \"Powdered Beverage Mixes\", \"Prepared Foods\", \"Prepared Meals\", \"Seasonings & Spices\", \"Snack Foods\", \"Soda\", \"Soups & Broths\", \"Sports & Energy Drinks\", \"Tea & Infusions\", \"Tofu, Soy & Vegetarian Products\", \"Vinegar Drinks\", \"Water\"], \"y\": [0.277706, 0.0042369999999999994, 0.22075, 0.16708299999999998, 0.319592, 0.33479200000000003, 0.32182, 0.285666, 0.0009109999999999999, 0.20592399999999997, 0.164298, 0.311585, 0.312054, 0.014209999999999999, 0.258142, 0.295369, 0.309728, 0.098755, 0.211825, 0.28334000000000004, 0.082166, 0.174291, 0.000599, null, 0.253094, 0.19550399999999998, 0.228591, 0.11726500000000001, 0.16708299999999998, 0.039233, 0.001838, 0.215439]}, {\"connectgaps\": false, \"line\": {\"dash\": \"solid\"}, \"mode\": \"lines+markers\", \"name\": \"Snack Foods\", \"type\": \"scatter\", \"x\": [\"Bakery\", \"Candied & Chocolate Covered Fruit\", \"Candy & Chocolate\", \"Coffee\", \"Condiments & Sauces\", \"Cooking & Baking Ingredients\", \"Dairy Products\", \"Dips & Spreads\", \"Food Gift Baskets\", \"Frozen Desserts & Novelties\", \"Fruit Flavored Drinks\", \"Fruits & Vegetables\", \"Grains, Rice & Cereal\", \"Hot Chocolate\", \"Juice\", \"Meat, Seafood & Eggs\", \"Milk\", \"Non-Dairy Milk\", \"Nuts & Seeds\", \"Pasta & Noodles\", \"Powdered Beverage Mixes\", \"Prepared Foods\", \"Prepared Meals\", \"Seasonings & Spices\", \"Snack Foods\", \"Soda\", \"Soups & Broths\", \"Sports & Energy Drinks\", \"Tea & Infusions\", \"Tofu, Soy & Vegetarian Products\", \"Vinegar Drinks\", \"Water\"], \"y\": [0.46862700000000007, 0.003206, 0.326221, 0.202337, 0.420541, 0.387799, 0.466808, 0.357172, 0.000802, 0.21859699999999999, 0.17811300000000002, 0.466546, 0.385477, 0.010943000000000001, 0.29545, 0.453433, 0.374814, 0.073292, 0.177456, 0.29835500000000004, 0.066998, 0.32261, 0.002054, 0.253094, null, 0.28628000000000003, 0.19314800000000001, 0.13553199999999999, 0.163635, 0.02375, 0.0012640000000000001, 0.269179]}, {\"connectgaps\": false, \"line\": {\"dash\": \"solid\"}, \"mode\": \"lines+markers\", \"name\": \"Soda\", \"type\": \"scatter\", \"x\": [\"Bakery\", \"Candied & Chocolate Covered Fruit\", \"Candy & Chocolate\", \"Coffee\", \"Condiments & Sauces\", \"Cooking & Baking Ingredients\", \"Dairy Products\", \"Dips & Spreads\", \"Food Gift Baskets\", \"Frozen Desserts & Novelties\", \"Fruit Flavored Drinks\", \"Fruits & Vegetables\", \"Grains, Rice & Cereal\", \"Hot Chocolate\", \"Juice\", \"Meat, Seafood & Eggs\", \"Milk\", \"Non-Dairy Milk\", \"Nuts & Seeds\", \"Pasta & Noodles\", \"Powdered Beverage Mixes\", \"Prepared Foods\", \"Prepared Meals\", \"Seasonings & Spices\", \"Snack Foods\", \"Soda\", \"Soups & Broths\", \"Sports & Energy Drinks\", \"Tea & Infusions\", \"Tofu, Soy & Vegetarian Products\", \"Vinegar Drinks\", \"Water\"], \"y\": [0.290989, 0.003428, 0.24024600000000002, 0.15779300000000002, 0.292004, 0.269934, 0.317816, 0.269106, 0.0, 0.20944400000000002, 0.18281, 0.294149, 0.262106, 0.012894, 0.249809, 0.303951, 0.303155, 0.066208, 0.13406500000000002, 0.243523, 0.064465, 0.20830500000000002, 0.002343, 0.19550399999999998, 0.28628000000000003, null, 0.17844100000000002, 0.142207, 0.144352, 0.020881, 0.0010789999999999999, 0.24924000000000002]}, {\"connectgaps\": false, \"line\": {\"dash\": \"solid\"}, \"mode\": \"lines+markers\", \"name\": \"Soups & Broths\", \"type\": \"scatter\", \"x\": [\"Bakery\", \"Candied & Chocolate Covered Fruit\", \"Candy & Chocolate\", \"Coffee\", \"Condiments & Sauces\", \"Cooking & Baking Ingredients\", \"Dairy Products\", \"Dips & Spreads\", \"Food Gift Baskets\", \"Frozen Desserts & Novelties\", \"Fruit Flavored Drinks\", \"Fruits & Vegetables\", \"Grains, Rice & Cereal\", \"Hot Chocolate\", \"Juice\", \"Meat, Seafood & Eggs\", \"Milk\", \"Non-Dairy Milk\", \"Nuts & Seeds\", \"Pasta & Noodles\", \"Powdered Beverage Mixes\", \"Prepared Foods\", \"Prepared Meals\", \"Seasonings & Spices\", \"Snack Foods\", \"Soda\", \"Soups & Broths\", \"Sports & Energy Drinks\", \"Tea & Infusions\", \"Tofu, Soy & Vegetarian Products\", \"Vinegar Drinks\", \"Water\"], \"y\": [0.21309099999999997, 0.004039, 0.18024500000000002, 0.14537, 0.25003800000000004, 0.23421799999999998, 0.240069, 0.247153, 0.000452, 0.192897, 0.148963, 0.22750900000000002, 0.247854, 0.016031, 0.22231700000000001, 0.23176100000000002, 0.261299, 0.10044299999999999, 0.159416, 0.249836, 0.081798, 0.143595, 0.000443, 0.228591, 0.19314800000000001, 0.17844100000000002, null, 0.12293699999999999, 0.14190899999999998, 0.039149, 0.004587, 0.191736]}, {\"connectgaps\": false, \"line\": {\"dash\": \"solid\"}, \"mode\": \"lines+markers\", \"name\": \"Sports & Energy Drinks\", \"type\": \"scatter\", \"x\": [\"Bakery\", \"Candied & Chocolate Covered Fruit\", \"Candy & Chocolate\", \"Coffee\", \"Condiments & Sauces\", \"Cooking & Baking Ingredients\", \"Dairy Products\", \"Dips & Spreads\", \"Food Gift Baskets\", \"Frozen Desserts & Novelties\", \"Fruit Flavored Drinks\", \"Fruits & Vegetables\", \"Grains, Rice & Cereal\", \"Hot Chocolate\", \"Juice\", \"Meat, Seafood & Eggs\", \"Milk\", \"Non-Dairy Milk\", \"Nuts & Seeds\", \"Pasta & Noodles\", \"Powdered Beverage Mixes\", \"Prepared Foods\", \"Prepared Meals\", \"Seasonings & Spices\", \"Snack Foods\", \"Soda\", \"Soups & Broths\", \"Sports & Energy Drinks\", \"Tea & Infusions\", \"Tofu, Soy & Vegetarian Products\", \"Vinegar Drinks\", \"Water\"], \"y\": [0.13688599999999998, 0.002534, 0.12727, 0.08856900000000001, 0.138148, 0.132187, 0.146534, 0.14391900000000002, 0.0, 0.110978, 0.14077699999999999, 0.131747, 0.138182, 0.005301, 0.14085699999999998, 0.141518, 0.15698099999999998, 0.062476, 0.10005399999999999, 0.145798, 0.080743, 0.088279, 0.0005009999999999999, 0.11726500000000001, 0.13553199999999999, 0.142207, 0.12293699999999999, null, 0.097702, 0.008314, 0.001037, 0.16125599999999998]}, {\"connectgaps\": false, \"line\": {\"dash\": \"solid\"}, \"mode\": \"lines+markers\", \"name\": \"Tea & Infusions\", \"type\": \"scatter\", \"x\": [\"Bakery\", \"Candied & Chocolate Covered Fruit\", \"Candy & Chocolate\", \"Coffee\", \"Condiments & Sauces\", \"Cooking & Baking Ingredients\", \"Dairy Products\", \"Dips & Spreads\", \"Food Gift Baskets\", \"Frozen Desserts & Novelties\", \"Fruit Flavored Drinks\", \"Fruits & Vegetables\", \"Grains, Rice & Cereal\", \"Hot Chocolate\", \"Juice\", \"Meat, Seafood & Eggs\", \"Milk\", \"Non-Dairy Milk\", \"Nuts & Seeds\", \"Pasta & Noodles\", \"Powdered Beverage Mixes\", \"Prepared Foods\", \"Prepared Meals\", \"Seasonings & Spices\", \"Snack Foods\", \"Soda\", \"Soups & Broths\", \"Sports & Energy Drinks\", \"Tea & Infusions\", \"Tofu, Soy & Vegetarian Products\", \"Vinegar Drinks\", \"Water\"], \"y\": [0.177387, 0.006281, 0.153314, 0.143951, 0.184449, 0.193274, 0.195666, 0.177901, 0.00105, 0.15166, 0.12879100000000002, 0.184416, 0.192823, 0.015959, 0.175439, 0.18287, 0.20205, 0.067393, 0.131199, 0.17647100000000002, 0.054444000000000006, 0.127082, 0.00207, 0.16708299999999998, 0.163635, 0.144352, 0.14190899999999998, 0.097702, null, 0.024884, 0.001766, 0.156898]}, {\"connectgaps\": false, \"line\": {\"dash\": \"solid\"}, \"mode\": \"lines+markers\", \"name\": \"Tofu, Soy & Vegetarian Products\", \"type\": \"scatter\", \"x\": [\"Bakery\", \"Candied & Chocolate Covered Fruit\", \"Candy & Chocolate\", \"Coffee\", \"Condiments & Sauces\", \"Cooking & Baking Ingredients\", \"Dairy Products\", \"Dips & Spreads\", \"Food Gift Baskets\", \"Frozen Desserts & Novelties\", \"Fruit Flavored Drinks\", \"Fruits & Vegetables\", \"Grains, Rice & Cereal\", \"Hot Chocolate\", \"Juice\", \"Meat, Seafood & Eggs\", \"Milk\", \"Non-Dairy Milk\", \"Nuts & Seeds\", \"Pasta & Noodles\", \"Powdered Beverage Mixes\", \"Prepared Foods\", \"Prepared Meals\", \"Seasonings & Spices\", \"Snack Foods\", \"Soda\", \"Soups & Broths\", \"Sports & Energy Drinks\", \"Tea & Infusions\", \"Tofu, Soy & Vegetarian Products\", \"Vinegar Drinks\", \"Water\"], \"y\": [0.026567, 0.0029760000000000003, 0.029731, 0.025478, 0.032774, 0.031497000000000004, 0.031659, 0.039626, 0.0, 0.041609, 0.032708, 0.029942, 0.037879, 0.022989, 0.0375, 0.029908999999999998, 0.038382, 0.072493, 0.041737, 0.040098, 0.013699000000000001, 0.018886, 0.0, 0.039233, 0.02375, 0.020881, 0.039149, 0.008314, 0.024884, null, 0.0, 0.028176999999999997]}, {\"connectgaps\": false, \"line\": {\"dash\": \"solid\"}, \"mode\": \"lines+markers\", \"name\": \"Vinegar Drinks\", \"type\": \"scatter\", \"x\": [\"Bakery\", \"Candied & Chocolate Covered Fruit\", \"Candy & Chocolate\", \"Coffee\", \"Condiments & Sauces\", \"Cooking & Baking Ingredients\", \"Dairy Products\", \"Dips & Spreads\", \"Food Gift Baskets\", \"Frozen Desserts & Novelties\", \"Fruit Flavored Drinks\", \"Fruits & Vegetables\", \"Grains, Rice & Cereal\", \"Hot Chocolate\", \"Juice\", \"Meat, Seafood & Eggs\", \"Milk\", \"Non-Dairy Milk\", \"Nuts & Seeds\", \"Pasta & Noodles\", \"Powdered Beverage Mixes\", \"Prepared Foods\", \"Prepared Meals\", \"Seasonings & Spices\", \"Snack Foods\", \"Soda\", \"Soups & Broths\", \"Sports & Energy Drinks\", \"Tea & Infusions\", \"Tofu, Soy & Vegetarian Products\", \"Vinegar Drinks\", \"Water\"], \"y\": [0.001559, 0.0, 0.000616, 0.0010609999999999999, 0.001812, 0.0019649999999999997, 0.001381, 0.0015869999999999999, 0.0, 0.0021850000000000003, 0.002144, 0.001731, 0.001284, 0.0, 0.00253, 0.001689, 0.001417, 0.001209, 0.001354, 0.002252, 0.0, 0.0008820000000000001, 0.0, 0.001838, 0.0012640000000000001, 0.0010789999999999999, 0.004587, 0.001037, 0.001766, 0.0, null, 0.0011070000000000001]}, {\"connectgaps\": false, \"line\": {\"dash\": \"solid\"}, \"mode\": \"lines+markers\", \"name\": \"Water\", \"type\": \"scatter\", \"x\": [\"Bakery\", \"Candied & Chocolate Covered Fruit\", \"Candy & Chocolate\", \"Coffee\", \"Condiments & Sauces\", \"Cooking & Baking Ingredients\", \"Dairy Products\", \"Dips & Spreads\", \"Food Gift Baskets\", \"Frozen Desserts & Novelties\", \"Fruit Flavored Drinks\", \"Fruits & Vegetables\", \"Grains, Rice & Cereal\", \"Hot Chocolate\", \"Juice\", \"Meat, Seafood & Eggs\", \"Milk\", \"Non-Dairy Milk\", \"Nuts & Seeds\", \"Pasta & Noodles\", \"Powdered Beverage Mixes\", \"Prepared Foods\", \"Prepared Meals\", \"Seasonings & Spices\", \"Snack Foods\", \"Soda\", \"Soups & Broths\", \"Sports & Energy Drinks\", \"Tea & Infusions\", \"Tofu, Soy & Vegetarian Products\", \"Vinegar Drinks\", \"Water\"], \"y\": [0.290271, 0.0032869999999999996, 0.237844, 0.174094, 0.29681799999999997, 0.27575700000000003, 0.316139, 0.283467, 0.0016510000000000001, 0.215671, 0.21408000000000002, 0.299005, 0.28749600000000003, 0.011262999999999999, 0.27616999999999997, 0.308737, 0.317546, 0.091945, 0.164992, 0.255098, 0.074914, 0.195435, 0.000272, 0.215439, 0.269179, 0.24924000000000002, 0.191736, 0.16125599999999998, 0.156898, 0.028176999999999997, 0.0011070000000000001, null]}],                        {\"autosize\": false, \"height\": 1000, \"template\": {\"data\": {\"bar\": [{\"error_x\": {\"color\": \"#2a3f5f\"}, \"error_y\": {\"color\": \"#2a3f5f\"}, \"marker\": {\"line\": {\"color\": \"#E5ECF6\", \"width\": 0.5}}, \"type\": \"bar\"}], \"barpolar\": [{\"marker\": {\"line\": {\"color\": \"#E5ECF6\", \"width\": 0.5}}, \"type\": \"barpolar\"}], \"carpet\": [{\"aaxis\": {\"endlinecolor\": \"#2a3f5f\", \"gridcolor\": \"white\", \"linecolor\": \"white\", \"minorgridcolor\": \"white\", \"startlinecolor\": \"#2a3f5f\"}, \"baxis\": {\"endlinecolor\": \"#2a3f5f\", \"gridcolor\": \"white\", \"linecolor\": \"white\", \"minorgridcolor\": \"white\", \"startlinecolor\": \"#2a3f5f\"}, \"type\": \"carpet\"}], \"choropleth\": [{\"colorbar\": {\"outlinewidth\": 0, \"ticks\": \"\"}, \"type\": \"choropleth\"}], \"contour\": [{\"colorbar\": {\"outlinewidth\": 0, \"ticks\": \"\"}, \"colorscale\": [[0.0, \"#0d0887\"], [0.1111111111111111, \"#46039f\"], [0.2222222222222222, \"#7201a8\"], [0.3333333333333333, \"#9c179e\"], [0.4444444444444444, \"#bd3786\"], [0.5555555555555556, \"#d8576b\"], [0.6666666666666666, \"#ed7953\"], [0.7777777777777778, \"#fb9f3a\"], [0.8888888888888888, \"#fdca26\"], [1.0, \"#f0f921\"]], \"type\": \"contour\"}], \"contourcarpet\": [{\"colorbar\": {\"outlinewidth\": 0, \"ticks\": \"\"}, \"type\": \"contourcarpet\"}], \"heatmap\": [{\"colorbar\": {\"outlinewidth\": 0, \"ticks\": \"\"}, \"colorscale\": [[0.0, \"#0d0887\"], [0.1111111111111111, \"#46039f\"], [0.2222222222222222, \"#7201a8\"], [0.3333333333333333, \"#9c179e\"], [0.4444444444444444, \"#bd3786\"], [0.5555555555555556, \"#d8576b\"], [0.6666666666666666, \"#ed7953\"], [0.7777777777777778, \"#fb9f3a\"], [0.8888888888888888, \"#fdca26\"], [1.0, \"#f0f921\"]], \"type\": \"heatmap\"}], \"heatmapgl\": [{\"colorbar\": {\"outlinewidth\": 0, \"ticks\": \"\"}, \"colorscale\": [[0.0, \"#0d0887\"], [0.1111111111111111, \"#46039f\"], [0.2222222222222222, \"#7201a8\"], [0.3333333333333333, \"#9c179e\"], [0.4444444444444444, \"#bd3786\"], [0.5555555555555556, \"#d8576b\"], [0.6666666666666666, \"#ed7953\"], [0.7777777777777778, \"#fb9f3a\"], [0.8888888888888888, \"#fdca26\"], [1.0, \"#f0f921\"]], \"type\": \"heatmapgl\"}], \"histogram\": [{\"marker\": {\"colorbar\": {\"outlinewidth\": 0, \"ticks\": \"\"}}, \"type\": \"histogram\"}], \"histogram2d\": [{\"colorbar\": {\"outlinewidth\": 0, \"ticks\": \"\"}, \"colorscale\": [[0.0, \"#0d0887\"], [0.1111111111111111, \"#46039f\"], [0.2222222222222222, \"#7201a8\"], [0.3333333333333333, \"#9c179e\"], [0.4444444444444444, \"#bd3786\"], [0.5555555555555556, \"#d8576b\"], [0.6666666666666666, \"#ed7953\"], [0.7777777777777778, \"#fb9f3a\"], [0.8888888888888888, \"#fdca26\"], [1.0, \"#f0f921\"]], \"type\": \"histogram2d\"}], \"histogram2dcontour\": [{\"colorbar\": {\"outlinewidth\": 0, \"ticks\": \"\"}, \"colorscale\": [[0.0, \"#0d0887\"], [0.1111111111111111, \"#46039f\"], [0.2222222222222222, \"#7201a8\"], [0.3333333333333333, \"#9c179e\"], [0.4444444444444444, \"#bd3786\"], [0.5555555555555556, \"#d8576b\"], [0.6666666666666666, \"#ed7953\"], [0.7777777777777778, \"#fb9f3a\"], [0.8888888888888888, \"#fdca26\"], [1.0, \"#f0f921\"]], \"type\": \"histogram2dcontour\"}], \"mesh3d\": [{\"colorbar\": {\"outlinewidth\": 0, \"ticks\": \"\"}, \"type\": \"mesh3d\"}], \"parcoords\": [{\"line\": {\"colorbar\": {\"outlinewidth\": 0, \"ticks\": \"\"}}, \"type\": \"parcoords\"}], \"pie\": [{\"automargin\": true, \"type\": \"pie\"}], \"scatter\": [{\"marker\": {\"colorbar\": {\"outlinewidth\": 0, \"ticks\": \"\"}}, \"type\": \"scatter\"}], \"scatter3d\": [{\"line\": {\"colorbar\": {\"outlinewidth\": 0, \"ticks\": \"\"}}, \"marker\": {\"colorbar\": {\"outlinewidth\": 0, \"ticks\": \"\"}}, \"type\": \"scatter3d\"}], \"scattercarpet\": [{\"marker\": {\"colorbar\": {\"outlinewidth\": 0, \"ticks\": \"\"}}, \"type\": \"scattercarpet\"}], \"scattergeo\": [{\"marker\": {\"colorbar\": {\"outlinewidth\": 0, \"ticks\": \"\"}}, \"type\": \"scattergeo\"}], \"scattergl\": [{\"marker\": {\"colorbar\": {\"outlinewidth\": 0, \"ticks\": \"\"}}, \"type\": \"scattergl\"}], \"scattermapbox\": [{\"marker\": {\"colorbar\": {\"outlinewidth\": 0, \"ticks\": \"\"}}, \"type\": \"scattermapbox\"}], \"scatterpolar\": [{\"marker\": {\"colorbar\": {\"outlinewidth\": 0, \"ticks\": \"\"}}, \"type\": \"scatterpolar\"}], \"scatterpolargl\": [{\"marker\": {\"colorbar\": {\"outlinewidth\": 0, \"ticks\": \"\"}}, \"type\": \"scatterpolargl\"}], \"scatterternary\": [{\"marker\": {\"colorbar\": {\"outlinewidth\": 0, \"ticks\": \"\"}}, \"type\": \"scatterternary\"}], \"surface\": [{\"colorbar\": {\"outlinewidth\": 0, \"ticks\": \"\"}, \"colorscale\": [[0.0, \"#0d0887\"], [0.1111111111111111, \"#46039f\"], [0.2222222222222222, \"#7201a8\"], [0.3333333333333333, \"#9c179e\"], [0.4444444444444444, \"#bd3786\"], [0.5555555555555556, \"#d8576b\"], [0.6666666666666666, \"#ed7953\"], [0.7777777777777778, \"#fb9f3a\"], [0.8888888888888888, \"#fdca26\"], [1.0, \"#f0f921\"]], \"type\": \"surface\"}], \"table\": [{\"cells\": {\"fill\": {\"color\": \"#EBF0F8\"}, \"line\": {\"color\": \"white\"}}, \"header\": {\"fill\": {\"color\": \"#C8D4E3\"}, \"line\": {\"color\": \"white\"}}, \"type\": \"table\"}]}, \"layout\": {\"annotationdefaults\": {\"arrowcolor\": \"#2a3f5f\", \"arrowhead\": 0, \"arrowwidth\": 1}, \"coloraxis\": {\"colorbar\": {\"outlinewidth\": 0, \"ticks\": \"\"}}, \"colorscale\": {\"diverging\": [[0, \"#8e0152\"], [0.1, \"#c51b7d\"], [0.2, \"#de77ae\"], [0.3, \"#f1b6da\"], [0.4, \"#fde0ef\"], [0.5, \"#f7f7f7\"], [0.6, \"#e6f5d0\"], [0.7, \"#b8e186\"], [0.8, \"#7fbc41\"], [0.9, \"#4d9221\"], [1, \"#276419\"]], \"sequential\": [[0.0, \"#0d0887\"], [0.1111111111111111, \"#46039f\"], [0.2222222222222222, \"#7201a8\"], [0.3333333333333333, \"#9c179e\"], [0.4444444444444444, \"#bd3786\"], [0.5555555555555556, \"#d8576b\"], [0.6666666666666666, \"#ed7953\"], [0.7777777777777778, \"#fb9f3a\"], [0.8888888888888888, \"#fdca26\"], [1.0, \"#f0f921\"]], \"sequentialminus\": [[0.0, \"#0d0887\"], [0.1111111111111111, \"#46039f\"], [0.2222222222222222, \"#7201a8\"], [0.3333333333333333, \"#9c179e\"], [0.4444444444444444, \"#bd3786\"], [0.5555555555555556, \"#d8576b\"], [0.6666666666666666, \"#ed7953\"], [0.7777777777777778, \"#fb9f3a\"], [0.8888888888888888, \"#fdca26\"], [1.0, \"#f0f921\"]]}, \"colorway\": [\"#636efa\", \"#EF553B\", \"#00cc96\", \"#ab63fa\", \"#FFA15A\", \"#19d3f3\", \"#FF6692\", \"#B6E880\", \"#FF97FF\", \"#FECB52\"], \"font\": {\"color\": \"#2a3f5f\"}, \"geo\": {\"bgcolor\": \"white\", \"lakecolor\": \"white\", \"landcolor\": \"#E5ECF6\", \"showlakes\": true, \"showland\": true, \"subunitcolor\": \"white\"}, \"hoverlabel\": {\"align\": \"left\"}, \"hovermode\": \"closest\", \"mapbox\": {\"style\": \"light\"}, \"paper_bgcolor\": \"white\", \"plot_bgcolor\": \"#E5ECF6\", \"polar\": {\"angularaxis\": {\"gridcolor\": \"white\", \"linecolor\": \"white\", \"ticks\": \"\"}, \"bgcolor\": \"#E5ECF6\", \"radialaxis\": {\"gridcolor\": \"white\", \"linecolor\": \"white\", \"ticks\": \"\"}}, \"scene\": {\"xaxis\": {\"backgroundcolor\": \"#E5ECF6\", \"gridcolor\": \"white\", \"gridwidth\": 2, \"linecolor\": \"white\", \"showbackground\": true, \"ticks\": \"\", \"zerolinecolor\": \"white\"}, \"yaxis\": {\"backgroundcolor\": \"#E5ECF6\", \"gridcolor\": \"white\", \"gridwidth\": 2, \"linecolor\": \"white\", \"showbackground\": true, \"ticks\": \"\", \"zerolinecolor\": \"white\"}, \"zaxis\": {\"backgroundcolor\": \"#E5ECF6\", \"gridcolor\": \"white\", \"gridwidth\": 2, \"linecolor\": \"white\", \"showbackground\": true, \"ticks\": \"\", \"zerolinecolor\": \"white\"}}, \"shapedefaults\": {\"line\": {\"color\": \"#2a3f5f\"}}, \"ternary\": {\"aaxis\": {\"gridcolor\": \"white\", \"linecolor\": \"white\", \"ticks\": \"\"}, \"baxis\": {\"gridcolor\": \"white\", \"linecolor\": \"white\", \"ticks\": \"\"}, \"bgcolor\": \"#E5ECF6\", \"caxis\": {\"gridcolor\": \"white\", \"linecolor\": \"white\", \"ticks\": \"\"}}, \"title\": {\"x\": 0.05}, \"xaxis\": {\"automargin\": true, \"gridcolor\": \"white\", \"linecolor\": \"white\", \"ticks\": \"\", \"title\": {\"standoff\": 15}, \"zerolinecolor\": \"white\", \"zerolinewidth\": 2}, \"yaxis\": {\"automargin\": true, \"gridcolor\": \"white\", \"linecolor\": \"white\", \"ticks\": \"\", \"title\": {\"standoff\": 15}, \"zerolinecolor\": \"white\", \"zerolinewidth\": 2}}}, \"updatemenus\": [{\"active\": 0, \"buttons\": [{\"args\": [{\"showlegend\": true, \"title\": \"All\", \"visible\": [true, true, true, true, true, true, true, true, true, true, true, true, true, true, true, true, true, true, true, true, true, true, true, true, true, true, true, true, true, true, true, true]}], \"label\": \"All\", \"method\": \"update\"}, {\"args\": [{\"showlegend\": true, \"title\": \"Bakery\", \"visible\": [true, false, false, false, false, false, false, false, false, false, false, false, false, false, false, false, false, false, false, false, false, false, false, false, false, false, false, false, false, false, false, false]}], \"label\": \"Bakery\", \"method\": \"update\"}, {\"args\": [{\"showlegend\": true, \"title\": \"Candied & Chocolate Covered Fruit\", \"visible\": [false, true, false, false, false, false, false, false, false, false, false, false, false, false, false, false, false, false, false, false, false, false, false, false, false, false, false, false, false, false, false, false]}], \"label\": \"Candied & Chocolate Covered Fruit\", \"method\": \"update\"}, {\"args\": [{\"showlegend\": true, \"title\": \"Candy & Chocolate\", \"visible\": [false, false, true, false, false, false, false, false, false, false, false, false, false, false, false, false, false, false, false, false, false, false, false, false, false, false, false, false, false, false, false, false]}], \"label\": \"Candy & Chocolate\", \"method\": \"update\"}, {\"args\": [{\"showlegend\": true, \"title\": \"Coffee\", \"visible\": [false, false, false, true, false, false, false, false, false, false, false, false, false, false, false, false, false, false, false, false, false, false, false, false, false, false, false, false, false, false, false, false]}], \"label\": \"Coffee\", \"method\": \"update\"}, {\"args\": [{\"showlegend\": true, \"title\": \"Condiments & Sauces\", \"visible\": [false, false, false, false, true, false, false, false, false, false, false, false, false, false, false, false, false, false, false, false, false, false, false, false, false, false, false, false, false, false, false, false]}], \"label\": \"Condiments & Sauces\", \"method\": \"update\"}, {\"args\": [{\"showlegend\": true, \"title\": \"Cooking & Baking Ingredients\", \"visible\": [false, false, false, false, false, true, false, false, false, false, false, false, false, false, false, false, false, false, false, false, false, false, false, false, false, false, false, false, false, false, false, false]}], \"label\": \"Cooking & Baking Ingredients\", \"method\": \"update\"}, {\"args\": [{\"showlegend\": true, \"title\": \"Dairy Products\", \"visible\": [false, false, false, false, false, false, true, false, false, false, false, false, false, false, false, false, false, false, false, false, false, false, false, false, false, false, false, false, false, false, false, false]}], \"label\": \"Dairy Products\", \"method\": \"update\"}, {\"args\": [{\"showlegend\": true, \"title\": \"Dips & Spreads\", \"visible\": [false, false, false, false, false, false, false, true, false, false, false, false, false, false, false, false, false, false, false, false, false, false, false, false, false, false, false, false, false, false, false, false]}], \"label\": \"Dips & Spreads\", \"method\": \"update\"}, {\"args\": [{\"showlegend\": true, \"title\": \"Food Gift Baskets\", \"visible\": [false, false, false, false, false, false, false, false, true, false, false, false, false, false, false, false, false, false, false, false, false, false, false, false, false, false, false, false, false, false, false, false]}], \"label\": \"Food Gift Baskets\", \"method\": \"update\"}, {\"args\": [{\"showlegend\": true, \"title\": \"Frozen Desserts & Novelties\", \"visible\": [false, false, false, false, false, false, false, false, false, true, false, false, false, false, false, false, false, false, false, false, false, false, false, false, false, false, false, false, false, false, false, false]}], \"label\": \"Frozen Desserts & Novelties\", \"method\": \"update\"}, {\"args\": [{\"showlegend\": true, \"title\": \"Fruit Flavored Drinks\", \"visible\": [false, false, false, false, false, false, false, false, false, false, true, false, false, false, false, false, false, false, false, false, false, false, false, false, false, false, false, false, false, false, false, false]}], \"label\": \"Fruit Flavored Drinks\", \"method\": \"update\"}, {\"args\": [{\"showlegend\": true, \"title\": \"Fruits & Vegetables\", \"visible\": [false, false, false, false, false, false, false, false, false, false, false, true, false, false, false, false, false, false, false, false, false, false, false, false, false, false, false, false, false, false, false, false]}], \"label\": \"Fruits & Vegetables\", \"method\": \"update\"}, {\"args\": [{\"showlegend\": true, \"title\": \"Grains, Rice & Cereal\", \"visible\": [false, false, false, false, false, false, false, false, false, false, false, false, true, false, false, false, false, false, false, false, false, false, false, false, false, false, false, false, false, false, false, false]}], \"label\": \"Grains, Rice & Cereal\", \"method\": \"update\"}, {\"args\": [{\"showlegend\": true, \"title\": \"Hot Chocolate\", \"visible\": [false, false, false, false, false, false, false, false, false, false, false, false, false, true, false, false, false, false, false, false, false, false, false, false, false, false, false, false, false, false, false, false]}], \"label\": \"Hot Chocolate\", \"method\": \"update\"}, {\"args\": [{\"showlegend\": true, \"title\": \"Juice\", \"visible\": [false, false, false, false, false, false, false, false, false, false, false, false, false, false, true, false, false, false, false, false, false, false, false, false, false, false, false, false, false, false, false, false]}], \"label\": \"Juice\", \"method\": \"update\"}, {\"args\": [{\"showlegend\": true, \"title\": \"Meat, Seafood & Eggs\", \"visible\": [false, false, false, false, false, false, false, false, false, false, false, false, false, false, false, true, false, false, false, false, false, false, false, false, false, false, false, false, false, false, false, false]}], \"label\": \"Meat, Seafood & Eggs\", \"method\": \"update\"}, {\"args\": [{\"showlegend\": true, \"title\": \"Milk\", \"visible\": [false, false, false, false, false, false, false, false, false, false, false, false, false, false, false, false, true, false, false, false, false, false, false, false, false, false, false, false, false, false, false, false]}], \"label\": \"Milk\", \"method\": \"update\"}, {\"args\": [{\"showlegend\": true, \"title\": \"Non-Dairy Milk\", \"visible\": [false, false, false, false, false, false, false, false, false, false, false, false, false, false, false, false, false, true, false, false, false, false, false, false, false, false, false, false, false, false, false, false]}], \"label\": \"Non-Dairy Milk\", \"method\": \"update\"}, {\"args\": [{\"showlegend\": true, \"title\": \"Nuts & Seeds\", \"visible\": [false, false, false, false, false, false, false, false, false, false, false, false, false, false, false, false, false, false, true, false, false, false, false, false, false, false, false, false, false, false, false, false]}], \"label\": \"Nuts & Seeds\", \"method\": \"update\"}, {\"args\": [{\"showlegend\": true, \"title\": \"Pasta & Noodles\", \"visible\": [false, false, false, false, false, false, false, false, false, false, false, false, false, false, false, false, false, false, false, true, false, false, false, false, false, false, false, false, false, false, false, false]}], \"label\": \"Pasta & Noodles\", \"method\": \"update\"}, {\"args\": [{\"showlegend\": true, \"title\": \"Powdered Beverage Mixes\", \"visible\": [false, false, false, false, false, false, false, false, false, false, false, false, false, false, false, false, false, false, false, false, true, false, false, false, false, false, false, false, false, false, false, false]}], \"label\": \"Powdered Beverage Mixes\", \"method\": \"update\"}, {\"args\": [{\"showlegend\": true, \"title\": \"Prepared Foods\", \"visible\": [false, false, false, false, false, false, false, false, false, false, false, false, false, false, false, false, false, false, false, false, false, true, false, false, false, false, false, false, false, false, false, false]}], \"label\": \"Prepared Foods\", \"method\": \"update\"}, {\"args\": [{\"showlegend\": true, \"title\": \"Prepared Meals\", \"visible\": [false, false, false, false, false, false, false, false, false, false, false, false, false, false, false, false, false, false, false, false, false, false, true, false, false, false, false, false, false, false, false, false]}], \"label\": \"Prepared Meals\", \"method\": \"update\"}, {\"args\": [{\"showlegend\": true, \"title\": \"Seasonings & Spices\", \"visible\": [false, false, false, false, false, false, false, false, false, false, false, false, false, false, false, false, false, false, false, false, false, false, false, true, false, false, false, false, false, false, false, false]}], \"label\": \"Seasonings & Spices\", \"method\": \"update\"}, {\"args\": [{\"showlegend\": true, \"title\": \"Snack Foods\", \"visible\": [false, false, false, false, false, false, false, false, false, false, false, false, false, false, false, false, false, false, false, false, false, false, false, false, true, false, false, false, false, false, false, false]}], \"label\": \"Snack Foods\", \"method\": \"update\"}, {\"args\": [{\"showlegend\": true, \"title\": \"Soda\", \"visible\": [false, false, false, false, false, false, false, false, false, false, false, false, false, false, false, false, false, false, false, false, false, false, false, false, false, true, false, false, false, false, false, false]}], \"label\": \"Soda\", \"method\": \"update\"}, {\"args\": [{\"showlegend\": true, \"title\": \"Soups & Broths\", \"visible\": [false, false, false, false, false, false, false, false, false, false, false, false, false, false, false, false, false, false, false, false, false, false, false, false, false, false, true, false, false, false, false, false]}], \"label\": \"Soups & Broths\", \"method\": \"update\"}, {\"args\": [{\"showlegend\": true, \"title\": \"Sports & Energy Drinks\", \"visible\": [false, false, false, false, false, false, false, false, false, false, false, false, false, false, false, false, false, false, false, false, false, false, false, false, false, false, false, true, false, false, false, false]}], \"label\": \"Sports & Energy Drinks\", \"method\": \"update\"}, {\"args\": [{\"showlegend\": true, \"title\": \"Tea & Infusions\", \"visible\": [false, false, false, false, false, false, false, false, false, false, false, false, false, false, false, false, false, false, false, false, false, false, false, false, false, false, false, false, true, false, false, false]}], \"label\": \"Tea & Infusions\", \"method\": \"update\"}, {\"args\": [{\"showlegend\": true, \"title\": \"Tofu, Soy & Vegetarian Products\", \"visible\": [false, false, false, false, false, false, false, false, false, false, false, false, false, false, false, false, false, false, false, false, false, false, false, false, false, false, false, false, false, true, false, false]}], \"label\": \"Tofu, Soy & Vegetarian Products\", \"method\": \"update\"}, {\"args\": [{\"showlegend\": true, \"title\": \"Vinegar Drinks\", \"visible\": [false, false, false, false, false, false, false, false, false, false, false, false, false, false, false, false, false, false, false, false, false, false, false, false, false, false, false, false, false, false, true, false]}], \"label\": \"Vinegar Drinks\", \"method\": \"update\"}, {\"args\": [{\"showlegend\": true, \"title\": \"Water\", \"visible\": [false, false, false, false, false, false, false, false, false, false, false, false, false, false, false, false, false, false, false, false, false, false, false, false, false, false, false, false, false, false, false, true]}], \"label\": \"Water\", \"method\": \"update\"}]}], \"width\": 2000},                        {\"responsive\": true}                    ).then(function(){\n",
       "                            \n",
       "var gd = document.getElementById('542f084c-cbd7-4d4b-90ad-13c6c339425e');\n",
       "var x = new MutationObserver(function (mutations, observer) {{\n",
       "        var display = window.getComputedStyle(gd).display;\n",
       "        if (!display || display === 'none') {{\n",
       "            console.log([gd, 'removed!']);\n",
       "            Plotly.purge(gd);\n",
       "            observer.disconnect();\n",
       "        }}\n",
       "}});\n",
       "\n",
       "// Listen for the removal of the full notebook cells\n",
       "var notebookContainer = gd.closest('#notebook-container');\n",
       "if (notebookContainer) {{\n",
       "    x.observe(notebookContainer, {childList: true});\n",
       "}}\n",
       "\n",
       "// Listen for the clearing of the current output cell\n",
       "var outputEl = gd.closest('.output');\n",
       "if (outputEl) {{\n",
       "    x.observe(outputEl, {childList: true});\n",
       "}}\n",
       "\n",
       "                        })                };                });            </script>        </div>"
      ]
     },
     "metadata": {},
     "output_type": "display_data"
    }
   ],
   "source": [
    "\n",
    "diag = np.diag(np.diag(df))\n",
    "df = df.mask(diag != 0)\n",
    "\n",
    "fig = go.Figure()\n",
    "\n",
    "addAll = True\n",
    "\n",
    "# Do not show diagnoal values\n",
    "for col in df.columns.to_list():\n",
    "    fig.add_trace(\n",
    "        go.Scatter(\n",
    "            x = df.index,\n",
    "            y = df.loc[col],\n",
    "            name = col,\n",
    "            connectgaps=False,\n",
    "            mode='lines+markers',\n",
    "            line={'dash': 'solid'}))\n",
    "    \n",
    "button_all = dict(label = 'All',\n",
    "                  method = 'update',\n",
    "                  args = [{'visible': df.columns.isin(df.columns),\n",
    "                          'title': 'All', \n",
    "                          'showlegend': True}])\n",
    "\n",
    "def create_layout_button(column):\n",
    "    return dict(label = column,\n",
    "               method = 'update',\n",
    "               args = [{'visible': df.columns.isin([column]),\n",
    "                       'title': column,\n",
    "                       'showlegend': True}])\n",
    "\n",
    "fig.update_layout(autosize=False,\n",
    "    width=2000,\n",
    "    height=1000,\n",
    "    updatemenus = [go.layout.Updatemenu(\n",
    "        active = 0,\n",
    "        buttons = ([button_all]*addAll) + list(df.columns.map(lambda col:\\\n",
    "                                                             create_layout_button(col))))])\n",
    "fig.show()"
   ]
  },
  {
   "cell_type": "code",
   "execution_count": 122,
   "metadata": {},
   "outputs": [
    {
     "data": {
      "text/plain": [
       "'https://plotly.com/~lin2793799/12/'"
      ]
     },
     "execution_count": 122,
     "metadata": {},
     "output_type": "execute_result"
    }
   ],
   "source": [
    "'''\n",
    "    save into chart studio account:\n",
    "        upload the graph online to your plotly account\n",
    "        - auto_open=True: the file will automatically open in your browser when you run the code\n",
    "\n",
    "'''\n",
    "\n",
    "\n",
    "username = 'lin2793799'\n",
    "api_key = 'WjhR05tShyuMQQ74Xqd6'\n",
    "\n",
    "# log into my plotly account from python jupyter notebook\n",
    "tls.set_credentials_file(username=username, api_key=api_key)\n",
    "\n",
    "py.plot(fig, filename = '{}_similarity_scores'.format(category), auto_open=False)"
   ]
  },
  {
   "cell_type": "code",
   "execution_count": null,
   "metadata": {},
   "outputs": [],
   "source": []
  },
  {
   "cell_type": "code",
   "execution_count": null,
   "metadata": {},
   "outputs": [],
   "source": []
  }
 ],
 "metadata": {
  "kernelspec": {
   "display_name": "Python 3",
   "language": "python",
   "name": "python3"
  },
  "language_info": {
   "codemirror_mode": {
    "name": "ipython",
    "version": 3
   },
   "file_extension": ".py",
   "mimetype": "text/x-python",
   "name": "python",
   "nbconvert_exporter": "python",
   "pygments_lexer": "ipython3",
   "version": "3.7.7"
  }
 },
 "nbformat": 4,
 "nbformat_minor": 4
}
